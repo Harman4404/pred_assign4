{
 "cells": [
  {
   "cell_type": "code",
   "execution_count": 1,
   "metadata": {},
   "outputs": [
    {
     "data": {
      "text/plain": [
       "'3.2.0'"
      ]
     },
     "execution_count": 1,
     "metadata": {},
     "output_type": "execute_result"
    }
   ],
   "source": [
    "from pycaret.utils import version\n",
    "version()"
   ]
  },
  {
   "cell_type": "code",
   "execution_count": 9,
   "metadata": {},
   "outputs": [
    {
     "data": {
      "text/html": [
       "<div>\n",
       "<style scoped>\n",
       "    .dataframe tbody tr th:only-of-type {\n",
       "        vertical-align: middle;\n",
       "    }\n",
       "\n",
       "    .dataframe tbody tr th {\n",
       "        vertical-align: top;\n",
       "    }\n",
       "\n",
       "    .dataframe thead th {\n",
       "        text-align: right;\n",
       "    }\n",
       "</style>\n",
       "<table border=\"1\" class=\"dataframe\">\n",
       "  <thead>\n",
       "    <tr style=\"text-align: right;\">\n",
       "      <th></th>\n",
       "      <th>area</th>\n",
       "      <th>perimeter</th>\n",
       "      <th>compactness</th>\n",
       "      <th>length</th>\n",
       "      <th>width</th>\n",
       "      <th>asymmetry</th>\n",
       "      <th>length.1</th>\n",
       "    </tr>\n",
       "  </thead>\n",
       "  <tbody>\n",
       "    <tr>\n",
       "      <th>0</th>\n",
       "      <td>15.26</td>\n",
       "      <td>14.84</td>\n",
       "      <td>0.8710</td>\n",
       "      <td>5.763</td>\n",
       "      <td>3.312</td>\n",
       "      <td>2.221</td>\n",
       "      <td>5.220</td>\n",
       "    </tr>\n",
       "    <tr>\n",
       "      <th>1</th>\n",
       "      <td>14.88</td>\n",
       "      <td>14.57</td>\n",
       "      <td>0.8811</td>\n",
       "      <td>5.554</td>\n",
       "      <td>3.333</td>\n",
       "      <td>1.018</td>\n",
       "      <td>4.956</td>\n",
       "    </tr>\n",
       "    <tr>\n",
       "      <th>2</th>\n",
       "      <td>14.29</td>\n",
       "      <td>14.09</td>\n",
       "      <td>0.9050</td>\n",
       "      <td>5.291</td>\n",
       "      <td>3.337</td>\n",
       "      <td>2.699</td>\n",
       "      <td>4.825</td>\n",
       "    </tr>\n",
       "    <tr>\n",
       "      <th>3</th>\n",
       "      <td>13.84</td>\n",
       "      <td>13.94</td>\n",
       "      <td>0.8955</td>\n",
       "      <td>5.324</td>\n",
       "      <td>3.379</td>\n",
       "      <td>2.259</td>\n",
       "      <td>4.805</td>\n",
       "    </tr>\n",
       "    <tr>\n",
       "      <th>4</th>\n",
       "      <td>16.14</td>\n",
       "      <td>14.99</td>\n",
       "      <td>0.9034</td>\n",
       "      <td>5.658</td>\n",
       "      <td>3.562</td>\n",
       "      <td>1.355</td>\n",
       "      <td>5.175</td>\n",
       "    </tr>\n",
       "  </tbody>\n",
       "</table>\n",
       "</div>"
      ],
      "text/plain": [
       "    area  perimeter  compactness  length  width  asymmetry  length.1\n",
       "0  15.26      14.84       0.8710   5.763  3.312      2.221     5.220\n",
       "1  14.88      14.57       0.8811   5.554  3.333      1.018     4.956\n",
       "2  14.29      14.09       0.9050   5.291  3.337      2.699     4.825\n",
       "3  13.84      13.94       0.8955   5.324  3.379      2.259     4.805\n",
       "4  16.14      14.99       0.9034   5.658  3.562      1.355     5.175"
      ]
     },
     "metadata": {},
     "output_type": "display_data"
    }
   ],
   "source": [
    "from pycaret.datasets import get_data\n",
    "seedDataSet = get_data(\"seeds\")"
   ]
  },
  {
   "cell_type": "code",
   "execution_count": 10,
   "metadata": {},
   "outputs": [],
   "source": [
    "from pycaret.clustering import *"
   ]
  },
  {
   "cell_type": "code",
   "execution_count": 42,
   "metadata": {},
   "outputs": [
    {
     "data": {
      "text/plain": [
       "<pycaret.clustering.oop.ClusteringExperiment at 0x22b89c21e50>"
      ]
     },
     "execution_count": 42,
     "metadata": {},
     "output_type": "execute_result"
    }
   ],
   "source": [
    "setup(data = seedDataSet, verbose=False)"
   ]
  },
  {
   "cell_type": "code",
   "execution_count": 44,
   "metadata": {},
   "outputs": [
    {
     "name": "stdout",
     "output_type": "stream",
     "text": [
      "For Cluster = 3\n"
     ]
    },
    {
     "data": {
      "text/html": [],
      "text/plain": [
       "<IPython.core.display.HTML object>"
      ]
     },
     "metadata": {},
     "output_type": "display_data"
    },
    {
     "data": {
      "text/html": [
       "<style type=\"text/css\">\n",
       "</style>\n",
       "<table id=\"T_84fc5\">\n",
       "  <thead>\n",
       "    <tr>\n",
       "      <th class=\"blank level0\" >&nbsp;</th>\n",
       "      <th id=\"T_84fc5_level0_col0\" class=\"col_heading level0 col0\" >Silhouette</th>\n",
       "      <th id=\"T_84fc5_level0_col1\" class=\"col_heading level0 col1\" >Calinski-Harabasz</th>\n",
       "      <th id=\"T_84fc5_level0_col2\" class=\"col_heading level0 col2\" >Davies-Bouldin</th>\n",
       "      <th id=\"T_84fc5_level0_col3\" class=\"col_heading level0 col3\" >Homogeneity</th>\n",
       "      <th id=\"T_84fc5_level0_col4\" class=\"col_heading level0 col4\" >Rand Index</th>\n",
       "      <th id=\"T_84fc5_level0_col5\" class=\"col_heading level0 col5\" >Completeness</th>\n",
       "    </tr>\n",
       "  </thead>\n",
       "  <tbody>\n",
       "    <tr>\n",
       "      <th id=\"T_84fc5_level0_row0\" class=\"row_heading level0 row0\" >0</th>\n",
       "      <td id=\"T_84fc5_row0_col0\" class=\"data row0 col0\" >0.4540</td>\n",
       "      <td id=\"T_84fc5_row0_col1\" class=\"data row0 col1\" >324.4954</td>\n",
       "      <td id=\"T_84fc5_row0_col2\" class=\"data row0 col2\" >0.7987</td>\n",
       "      <td id=\"T_84fc5_row0_col3\" class=\"data row0 col3\" >0</td>\n",
       "      <td id=\"T_84fc5_row0_col4\" class=\"data row0 col4\" >0</td>\n",
       "      <td id=\"T_84fc5_row0_col5\" class=\"data row0 col5\" >0</td>\n",
       "    </tr>\n",
       "  </tbody>\n",
       "</table>\n"
      ],
      "text/plain": [
       "<pandas.io.formats.style.Styler at 0x22b89c3b2d0>"
      ]
     },
     "metadata": {},
     "output_type": "display_data"
    },
    {
     "data": {
      "text/html": [],
      "text/plain": [
       "<IPython.core.display.HTML object>"
      ]
     },
     "metadata": {},
     "output_type": "display_data"
    }
   ],
   "source": [
    "print(\"For Cluster = 3\")\n",
    "x1 = create_model('kmeans', num_clusters = 3)"
   ]
  },
  {
   "cell_type": "code",
   "execution_count": 55,
   "metadata": {},
   "outputs": [
    {
     "name": "stdout",
     "output_type": "stream",
     "text": [
      "For Cluster = 4\n"
     ]
    },
    {
     "data": {
      "text/html": [],
      "text/plain": [
       "<IPython.core.display.HTML object>"
      ]
     },
     "metadata": {},
     "output_type": "display_data"
    },
    {
     "data": {
      "text/html": [
       "<style type=\"text/css\">\n",
       "</style>\n",
       "<table id=\"T_9fae6\">\n",
       "  <thead>\n",
       "    <tr>\n",
       "      <th class=\"blank level0\" >&nbsp;</th>\n",
       "      <th id=\"T_9fae6_level0_col0\" class=\"col_heading level0 col0\" >Silhouette</th>\n",
       "      <th id=\"T_9fae6_level0_col1\" class=\"col_heading level0 col1\" >Calinski-Harabasz</th>\n",
       "      <th id=\"T_9fae6_level0_col2\" class=\"col_heading level0 col2\" >Davies-Bouldin</th>\n",
       "      <th id=\"T_9fae6_level0_col3\" class=\"col_heading level0 col3\" >Homogeneity</th>\n",
       "      <th id=\"T_9fae6_level0_col4\" class=\"col_heading level0 col4\" >Rand Index</th>\n",
       "      <th id=\"T_9fae6_level0_col5\" class=\"col_heading level0 col5\" >Completeness</th>\n",
       "    </tr>\n",
       "  </thead>\n",
       "  <tbody>\n",
       "    <tr>\n",
       "      <th id=\"T_9fae6_level0_row0\" class=\"row_heading level0 row0\" >0</th>\n",
       "      <td id=\"T_9fae6_row0_col0\" class=\"data row0 col0\" >0.3985</td>\n",
       "      <td id=\"T_9fae6_row0_col1\" class=\"data row0 col1\" >276.0281</td>\n",
       "      <td id=\"T_9fae6_row0_col2\" class=\"data row0 col2\" >0.9254</td>\n",
       "      <td id=\"T_9fae6_row0_col3\" class=\"data row0 col3\" >0</td>\n",
       "      <td id=\"T_9fae6_row0_col4\" class=\"data row0 col4\" >0</td>\n",
       "      <td id=\"T_9fae6_row0_col5\" class=\"data row0 col5\" >0</td>\n",
       "    </tr>\n",
       "  </tbody>\n",
       "</table>\n"
      ],
      "text/plain": [
       "<pandas.io.formats.style.Styler at 0x22b89cc04d0>"
      ]
     },
     "metadata": {},
     "output_type": "display_data"
    },
    {
     "data": {
      "text/html": [],
      "text/plain": [
       "<IPython.core.display.HTML object>"
      ]
     },
     "metadata": {},
     "output_type": "display_data"
    },
    {
     "name": "stdout",
     "output_type": "stream",
     "text": [
      "For Cluster = 5\n"
     ]
    },
    {
     "data": {
      "text/html": [],
      "text/plain": [
       "<IPython.core.display.HTML object>"
      ]
     },
     "metadata": {},
     "output_type": "display_data"
    },
    {
     "data": {
      "text/html": [
       "<style type=\"text/css\">\n",
       "</style>\n",
       "<table id=\"T_ce80f\">\n",
       "  <thead>\n",
       "    <tr>\n",
       "      <th class=\"blank level0\" >&nbsp;</th>\n",
       "      <th id=\"T_ce80f_level0_col0\" class=\"col_heading level0 col0\" >Silhouette</th>\n",
       "      <th id=\"T_ce80f_level0_col1\" class=\"col_heading level0 col1\" >Calinski-Harabasz</th>\n",
       "      <th id=\"T_ce80f_level0_col2\" class=\"col_heading level0 col2\" >Davies-Bouldin</th>\n",
       "      <th id=\"T_ce80f_level0_col3\" class=\"col_heading level0 col3\" >Homogeneity</th>\n",
       "      <th id=\"T_ce80f_level0_col4\" class=\"col_heading level0 col4\" >Rand Index</th>\n",
       "      <th id=\"T_ce80f_level0_col5\" class=\"col_heading level0 col5\" >Completeness</th>\n",
       "    </tr>\n",
       "  </thead>\n",
       "  <tbody>\n",
       "    <tr>\n",
       "      <th id=\"T_ce80f_level0_row0\" class=\"row_heading level0 row0\" >0</th>\n",
       "      <td id=\"T_ce80f_row0_col0\" class=\"data row0 col0\" >0.3622</td>\n",
       "      <td id=\"T_ce80f_row0_col1\" class=\"data row0 col1\" >256.9547</td>\n",
       "      <td id=\"T_ce80f_row0_col2\" class=\"data row0 col2\" >0.9701</td>\n",
       "      <td id=\"T_ce80f_row0_col3\" class=\"data row0 col3\" >0</td>\n",
       "      <td id=\"T_ce80f_row0_col4\" class=\"data row0 col4\" >0</td>\n",
       "      <td id=\"T_ce80f_row0_col5\" class=\"data row0 col5\" >0</td>\n",
       "    </tr>\n",
       "  </tbody>\n",
       "</table>\n"
      ],
      "text/plain": [
       "<pandas.io.formats.style.Styler at 0x22b89c168d0>"
      ]
     },
     "metadata": {},
     "output_type": "display_data"
    },
    {
     "data": {
      "text/html": [],
      "text/plain": [
       "<IPython.core.display.HTML object>"
      ]
     },
     "metadata": {},
     "output_type": "display_data"
    }
   ],
   "source": [
    "print(\"For Cluster = 4\")\n",
    "y1 = create_model('kmeans', num_clusters = 4)\n",
    "\n",
    "print(\"For Cluster = 5\")\n",
    "z1 = create_model('kmeans', num_clusters = 5)"
   ]
  },
  {
   "cell_type": "code",
   "execution_count": 56,
   "metadata": {},
   "outputs": [
    {
     "data": {
      "text/html": [
       "<div>\n",
       "<style scoped>\n",
       "    .dataframe tbody tr th:only-of-type {\n",
       "        vertical-align: middle;\n",
       "    }\n",
       "\n",
       "    .dataframe tbody tr th {\n",
       "        vertical-align: top;\n",
       "    }\n",
       "\n",
       "    .dataframe thead th {\n",
       "        text-align: right;\n",
       "    }\n",
       "</style>\n",
       "<table border=\"1\" class=\"dataframe\">\n",
       "  <thead>\n",
       "    <tr style=\"text-align: right;\">\n",
       "      <th></th>\n",
       "      <th>area</th>\n",
       "      <th>perimeter</th>\n",
       "      <th>compactness</th>\n",
       "      <th>length</th>\n",
       "      <th>width</th>\n",
       "      <th>asymmetry</th>\n",
       "      <th>length.1</th>\n",
       "      <th>Cluster</th>\n",
       "    </tr>\n",
       "  </thead>\n",
       "  <tbody>\n",
       "    <tr>\n",
       "      <th>0</th>\n",
       "      <td>15.260000</td>\n",
       "      <td>14.84</td>\n",
       "      <td>0.8710</td>\n",
       "      <td>5.763</td>\n",
       "      <td>3.312</td>\n",
       "      <td>2.221</td>\n",
       "      <td>5.220</td>\n",
       "      <td>Cluster 0</td>\n",
       "    </tr>\n",
       "    <tr>\n",
       "      <th>1</th>\n",
       "      <td>14.880000</td>\n",
       "      <td>14.57</td>\n",
       "      <td>0.8811</td>\n",
       "      <td>5.554</td>\n",
       "      <td>3.333</td>\n",
       "      <td>1.018</td>\n",
       "      <td>4.956</td>\n",
       "      <td>Cluster 0</td>\n",
       "    </tr>\n",
       "    <tr>\n",
       "      <th>2</th>\n",
       "      <td>14.290000</td>\n",
       "      <td>14.09</td>\n",
       "      <td>0.9050</td>\n",
       "      <td>5.291</td>\n",
       "      <td>3.337</td>\n",
       "      <td>2.699</td>\n",
       "      <td>4.825</td>\n",
       "      <td>Cluster 0</td>\n",
       "    </tr>\n",
       "    <tr>\n",
       "      <th>3</th>\n",
       "      <td>13.840000</td>\n",
       "      <td>13.94</td>\n",
       "      <td>0.8955</td>\n",
       "      <td>5.324</td>\n",
       "      <td>3.379</td>\n",
       "      <td>2.259</td>\n",
       "      <td>4.805</td>\n",
       "      <td>Cluster 0</td>\n",
       "    </tr>\n",
       "    <tr>\n",
       "      <th>4</th>\n",
       "      <td>16.139999</td>\n",
       "      <td>14.99</td>\n",
       "      <td>0.9034</td>\n",
       "      <td>5.658</td>\n",
       "      <td>3.562</td>\n",
       "      <td>1.355</td>\n",
       "      <td>5.175</td>\n",
       "      <td>Cluster 0</td>\n",
       "    </tr>\n",
       "    <tr>\n",
       "      <th>...</th>\n",
       "      <td>...</td>\n",
       "      <td>...</td>\n",
       "      <td>...</td>\n",
       "      <td>...</td>\n",
       "      <td>...</td>\n",
       "      <td>...</td>\n",
       "      <td>...</td>\n",
       "      <td>...</td>\n",
       "    </tr>\n",
       "    <tr>\n",
       "      <th>205</th>\n",
       "      <td>12.190000</td>\n",
       "      <td>13.20</td>\n",
       "      <td>0.8783</td>\n",
       "      <td>5.137</td>\n",
       "      <td>2.981</td>\n",
       "      <td>3.631</td>\n",
       "      <td>4.870</td>\n",
       "      <td>Cluster 1</td>\n",
       "    </tr>\n",
       "    <tr>\n",
       "      <th>206</th>\n",
       "      <td>11.230000</td>\n",
       "      <td>12.88</td>\n",
       "      <td>0.8511</td>\n",
       "      <td>5.140</td>\n",
       "      <td>2.795</td>\n",
       "      <td>4.325</td>\n",
       "      <td>5.003</td>\n",
       "      <td>Cluster 1</td>\n",
       "    </tr>\n",
       "    <tr>\n",
       "      <th>207</th>\n",
       "      <td>13.200000</td>\n",
       "      <td>13.66</td>\n",
       "      <td>0.8883</td>\n",
       "      <td>5.236</td>\n",
       "      <td>3.232</td>\n",
       "      <td>8.315</td>\n",
       "      <td>5.056</td>\n",
       "      <td>Cluster 1</td>\n",
       "    </tr>\n",
       "    <tr>\n",
       "      <th>208</th>\n",
       "      <td>11.840000</td>\n",
       "      <td>13.21</td>\n",
       "      <td>0.8521</td>\n",
       "      <td>5.175</td>\n",
       "      <td>2.836</td>\n",
       "      <td>3.598</td>\n",
       "      <td>5.044</td>\n",
       "      <td>Cluster 1</td>\n",
       "    </tr>\n",
       "    <tr>\n",
       "      <th>209</th>\n",
       "      <td>12.300000</td>\n",
       "      <td>13.34</td>\n",
       "      <td>0.8684</td>\n",
       "      <td>5.243</td>\n",
       "      <td>2.974</td>\n",
       "      <td>5.637</td>\n",
       "      <td>5.063</td>\n",
       "      <td>Cluster 1</td>\n",
       "    </tr>\n",
       "  </tbody>\n",
       "</table>\n",
       "<p>210 rows × 8 columns</p>\n",
       "</div>"
      ],
      "text/plain": [
       "          area  perimeter  compactness  length  width  asymmetry  length.1  \\\n",
       "0    15.260000      14.84       0.8710   5.763  3.312      2.221     5.220   \n",
       "1    14.880000      14.57       0.8811   5.554  3.333      1.018     4.956   \n",
       "2    14.290000      14.09       0.9050   5.291  3.337      2.699     4.825   \n",
       "3    13.840000      13.94       0.8955   5.324  3.379      2.259     4.805   \n",
       "4    16.139999      14.99       0.9034   5.658  3.562      1.355     5.175   \n",
       "..         ...        ...          ...     ...    ...        ...       ...   \n",
       "205  12.190000      13.20       0.8783   5.137  2.981      3.631     4.870   \n",
       "206  11.230000      12.88       0.8511   5.140  2.795      4.325     5.003   \n",
       "207  13.200000      13.66       0.8883   5.236  3.232      8.315     5.056   \n",
       "208  11.840000      13.21       0.8521   5.175  2.836      3.598     5.044   \n",
       "209  12.300000      13.34       0.8684   5.243  2.974      5.637     5.063   \n",
       "\n",
       "       Cluster  \n",
       "0    Cluster 0  \n",
       "1    Cluster 0  \n",
       "2    Cluster 0  \n",
       "3    Cluster 0  \n",
       "4    Cluster 0  \n",
       "..         ...  \n",
       "205  Cluster 1  \n",
       "206  Cluster 1  \n",
       "207  Cluster 1  \n",
       "208  Cluster 1  \n",
       "209  Cluster 1  \n",
       "\n",
       "[210 rows x 8 columns]"
      ]
     },
     "execution_count": 56,
     "metadata": {},
     "output_type": "execute_result"
    }
   ],
   "source": [
    "kMeanPrediction = assign_model(x1)\n",
    "kMeanPrediction"
   ]
  },
  {
   "cell_type": "code",
   "execution_count": 63,
   "metadata": {},
   "outputs": [
    {
     "data": {
      "text/html": [],
      "text/plain": [
       "<IPython.core.display.HTML object>"
      ]
     },
     "metadata": {},
     "output_type": "display_data"
    },
    {
     "data": {
      "text/html": [
       "<style type=\"text/css\">\n",
       "</style>\n",
       "<table id=\"T_e1693\">\n",
       "  <thead>\n",
       "    <tr>\n",
       "      <th class=\"blank level0\" >&nbsp;</th>\n",
       "      <th id=\"T_e1693_level0_col0\" class=\"col_heading level0 col0\" >Silhouette</th>\n",
       "      <th id=\"T_e1693_level0_col1\" class=\"col_heading level0 col1\" >Calinski-Harabasz</th>\n",
       "      <th id=\"T_e1693_level0_col2\" class=\"col_heading level0 col2\" >Davies-Bouldin</th>\n",
       "      <th id=\"T_e1693_level0_col3\" class=\"col_heading level0 col3\" >Homogeneity</th>\n",
       "      <th id=\"T_e1693_level0_col4\" class=\"col_heading level0 col4\" >Rand Index</th>\n",
       "      <th id=\"T_e1693_level0_col5\" class=\"col_heading level0 col5\" >Completeness</th>\n",
       "    </tr>\n",
       "  </thead>\n",
       "  <tbody>\n",
       "    <tr>\n",
       "      <th id=\"T_e1693_level0_row0\" class=\"row_heading level0 row0\" >0</th>\n",
       "      <td id=\"T_e1693_row0_col0\" class=\"data row0 col0\" >0.4540</td>\n",
       "      <td id=\"T_e1693_row0_col1\" class=\"data row0 col1\" >324.4954</td>\n",
       "      <td id=\"T_e1693_row0_col2\" class=\"data row0 col2\" >0.7987</td>\n",
       "      <td id=\"T_e1693_row0_col3\" class=\"data row0 col3\" >0</td>\n",
       "      <td id=\"T_e1693_row0_col4\" class=\"data row0 col4\" >0</td>\n",
       "      <td id=\"T_e1693_row0_col5\" class=\"data row0 col5\" >0</td>\n",
       "    </tr>\n",
       "  </tbody>\n",
       "</table>\n"
      ],
      "text/plain": [
       "<pandas.io.formats.style.Styler at 0x22b8ac00e50>"
      ]
     },
     "metadata": {},
     "output_type": "display_data"
    },
    {
     "data": {
      "text/html": [],
      "text/plain": [
       "<IPython.core.display.HTML object>"
      ]
     },
     "metadata": {},
     "output_type": "display_data"
    },
    {
     "data": {
      "text/html": [],
      "text/plain": [
       "<IPython.core.display.HTML object>"
      ]
     },
     "metadata": {},
     "output_type": "display_data"
    },
    {
     "data": {
      "application/vnd.plotly.v1+json": {
       "config": {
        "plotlyServerURL": "https://plot.ly"
       },
       "data": [
        {
         "customdata": [
          [
           12.3
          ],
          [
           12.11
          ],
          [
           11.34
          ],
          [
           12.13
          ],
          [
           11.75
          ],
          [
           11.49
          ],
          [
           12.54
          ],
          [
           12.02
          ],
          [
           11.84
          ],
          [
           12.55
          ],
          [
           11.14
          ],
          [
           12.1
          ],
          [
           12.44
          ],
          [
           12.15
          ],
          [
           11.35
          ],
          [
           11.24
          ],
          [
           11.02
          ],
          [
           11.55
          ],
          [
           11.42
          ],
          [
           11.27
          ],
          [
           11.23
          ],
          [
           13.22
          ],
          [
           13.07
          ],
          [
           13.32
          ],
          [
           13.34
          ],
          [
           12.22
          ],
          [
           11.82
          ],
          [
           11.21
          ],
          [
           11.43
          ],
          [
           12.49
          ],
          [
           12.7
          ],
          [
           10.79
          ],
          [
           11.83
          ],
          [
           12.73
          ],
          [
           12.01
          ],
          [
           12.26
          ],
          [
           11.18
          ],
          [
           11.36
          ],
          [
           11.19
          ],
          [
           12.36
          ],
          [
           11.4
          ],
          [
           12.05
          ],
          [
           14.28
          ],
          [
           11.87
          ],
          [
           13.99
          ],
          [
           10.82
          ],
          [
           12.11
          ],
          [
           12.8
          ],
          [
           12.79
          ],
          [
           13.37
          ],
          [
           12.62
          ],
          [
           12.76
          ],
          [
           10.83
          ],
          [
           12.67
          ],
          [
           11.18
          ],
          [
           12.7
          ],
          [
           12.37
          ],
          [
           12.19
          ],
          [
           11.23
          ],
          [
           13.2
          ],
          [
           11.27
          ],
          [
           12.72
          ],
          [
           12.38
          ],
          [
           10.59
          ],
          [
           10.93
          ],
          [
           10.8
          ],
          [
           11.26
          ],
          [
           10.74
          ],
          [
           12.21
          ],
          [
           11.41
          ],
          [
           12.46
          ],
          [
           12.19
          ],
          [
           11.48
          ],
          [
           12.89
          ],
          [
           11.56
          ],
          [
           12.74
          ],
          [
           13.02
          ],
          [
           11.81
          ],
          [
           10.91
          ],
          [
           12.08
          ],
          [
           11.65
          ],
          [
           11.23
          ]
         ],
         "hovertemplate": "Cluster=Cluster 0<br>0=%{x}<br>1=%{y}<br>2=%{z}<br>Feature=%{customdata[0]}<extra></extra>",
         "legendgroup": "Cluster 0",
         "marker": {
          "color": "#636efa",
          "opacity": 0.7,
          "symbol": "circle"
         },
         "mode": "markers",
         "name": "Cluster 0",
         "scene": "scene",
         "showlegend": true,
         "type": "scatter3d",
         "x": [
          -5.231493,
          -3.2730396,
          -5.752782,
          -5.2540693,
          -5.7493305,
          -6.623664,
          -3.394677,
          -5.287465,
          -5.1772094,
          -4.2786665,
          -6.699868,
          -3.7693474,
          -4.7351484,
          -4.493384,
          -6.503538,
          -4.9078093,
          -4.911018,
          -6.2400246,
          -4.9920444,
          -6.689523,
          -4.758681,
          -2.8566992,
          -3.815321,
          -4.214119,
          -3.8687983,
          -5.373447,
          -5.6721716,
          -6.7492948,
          -4.4614143,
          -4.362915,
          -3.2800477,
          -7.346058,
          -6.0466313,
          -3.3159463,
          -5.6464515,
          -5.033205,
          -5.8585606,
          -6.2894354,
          -6.9590497,
          -4.0849547,
          -6.804117,
          -5.4986424,
          -3.6455097,
          -5.219902,
          -2.7762687,
          -7.32269,
          -4.930392,
          -4.0467777,
          -4.3875747,
          -3.1090193,
          -3.4018779,
          -3.0724535,
          -7.3659554,
          -3.135597,
          -6.706296,
          -4.934646,
          -4.3073425,
          -4.613382,
          -6.772643,
          -4.730953,
          -6.4546075,
          -3.7739162,
          -5.0193057,
          -7.614697,
          -7.295602,
          -7.395311,
          -6.993888,
          -7.3481965,
          -3.318012,
          -6.9008217,
          -4.726162,
          -5.1935253,
          -6.6776295,
          -4.2646894,
          -5.928194,
          -2.8018136,
          -2.7385366,
          -5.8875856,
          -6.976932,
          -3.4101498,
          -6.4611044,
          -6.1121006
         ],
         "y": [
          0.5769513,
          -2.279734,
          -1.3489435,
          -0.7495219,
          -1.0910789,
          0.6367123,
          -2.1489964,
          -1.1649764,
          -1.5059862,
          -0.9413991,
          1.9685242,
          -2.1657643,
          -0.42321223,
          -1.7476614,
          -0.67096746,
          0.29898763,
          0.3043664,
          2.0473096,
          -1.801188,
          -0.5153414,
          -1.9073571,
          -0.9269183,
          0.36753836,
          1.7704781,
          1.0774566,
          0.39321226,
          -0.9134625,
          1.7331959,
          -2.014615,
          -0.9540141,
          -1.9815794,
          1.2142379,
          0.17804377,
          -1.7461689,
          2.06087,
          -0.75764054,
          -1.3297968,
          -0.9436785,
          1.4073669,
          -1.8259573,
          1.0120257,
          -0.22814727,
          1.6185921,
          -1.4983644,
          0.3731842,
          0.4680972,
          -1.2698256,
          -0.3196973,
          0.37605384,
          -0.31533498,
          -1.9431292,
          -2.112326,
          0.8790346,
          -2.2877514,
          -0.57428724,
          2.3501086,
          -1.4385554,
          -1.5974672,
          -0.435347,
          2.2845933,
          -0.79306537,
          -1.1999608,
          0.35522798,
          0.7474065,
          1.0706066,
          0.43294728,
          0.790206,
          0.33513334,
          -2.282831,
          0.22178705,
          -0.23895654,
          -0.3979316,
          1.348057,
          1.1613519,
          -1.1525571,
          -2.2122655,
          -1.7343069,
          -0.45849955,
          -0.2969028,
          -2.2628255,
          0.3855466,
          2.3298333
         ],
         "z": [
          2.0426915,
          -3.4134705,
          -1.8111211,
          1.4065593,
          0.38671127,
          1.2963614,
          -1.051425,
          0.26740184,
          -1.0715266,
          0.8747816,
          1.5566452,
          -2.8431964,
          1.5858551,
          -0.60299915,
          -0.45261976,
          -3.1737027,
          -3.172737,
          1.9021081,
          -2.5662746,
          -0.69440013,
          -2.9077778,
          0.6334927,
          2.0363925,
          2.519069,
          2.3443322,
          1.9125121,
          0.44979697,
          1.4892555,
          -2.926505,
          0.7893964,
          -0.86322725,
          0.58191955,
          1.4315248,
          -0.5107722,
          2.1799972,
          1.3246702,
          -1.8187158,
          -0.85906035,
          1.208001,
          -1.463343,
          1.2258035,
          1.4163295,
          2.5234277,
          -1.156465,
          1.8615,
          -0.15452754,
          -0.049848847,
          1.5485581,
          2.0907032,
          1.3581569,
          -0.8368789,
          -1.8256748,
          0.32740447,
          -2.4772127,
          -1.2224923,
          2.5151343,
          -0.1432049,
          -0.89568526,
          -0.72336376,
          2.5550632,
          -1.1635624,
          0.37609926,
          2.0123863,
          -0.38991147,
          0.4912949,
          -0.42595744,
          0.8612951,
          -0.44599962,
          -3.2558174,
          0.4442035,
          1.6306813,
          1.2926201,
          1.4631196,
          2.3693545,
          -0.45915195,
          -2.0782676,
          -0.6726866,
          1.1704992,
          -1.0076727,
          -3.3832574,
          1.1743505,
          2.0431476
         ]
        },
        {
         "customdata": [
          [
           18.96
          ],
          [
           19.06
          ],
          [
           20.97
          ],
          [
           19.14
          ],
          [
           18.55
          ],
          [
           19.38
          ],
          [
           18.45
          ],
          [
           19.94
          ],
          [
           19.15
          ],
          [
           19.13
          ],
          [
           18.89
          ],
          [
           17.55
          ],
          [
           20.24
          ],
          [
           18.14
          ],
          [
           18.43
          ],
          [
           18.75
          ],
          [
           18.65
          ],
          [
           17.98
          ],
          [
           20.16
          ],
          [
           18.3
          ],
          [
           18.94
          ],
          [
           17.36
          ],
          [
           20.03
          ],
          [
           17.63
          ],
          [
           18.95
          ],
          [
           18.83
          ],
          [
           19.51
          ],
          [
           19.57
          ],
          [
           20.2
          ],
          [
           18.72
          ],
          [
           17.08
          ],
          [
           17.12
          ],
          [
           18.94
          ],
          [
           18.27
          ],
          [
           20.71
          ],
          [
           16.77
          ],
          [
           16.82
          ],
          [
           19.11
          ],
          [
           17.26
          ],
          [
           16.84
          ],
          [
           17.63
          ],
          [
           18.85
          ],
          [
           17.32
          ],
          [
           18.88
          ],
          [
           16.53
          ],
          [
           21.18
          ],
          [
           19.18
          ],
          [
           18.98
          ],
          [
           17.99
          ],
          [
           18.72
          ],
          [
           18.17
          ],
          [
           18.98
          ],
          [
           19.31
          ],
          [
           16.87
          ],
          [
           18.36
          ],
          [
           18.59
          ],
          [
           18.81
          ],
          [
           19.46
          ],
          [
           18.76
          ],
          [
           20.1
          ],
          [
           20.88
          ]
         ],
         "hovertemplate": "Cluster=Cluster 1<br>0=%{x}<br>1=%{y}<br>2=%{z}<br>Feature=%{customdata[0]}<extra></extra>",
         "legendgroup": "Cluster 1",
         "marker": {
          "color": "#EF553B",
          "opacity": 0.7,
          "symbol": "circle"
         },
         "mode": "markers",
         "name": "Cluster 1",
         "scene": "scene",
         "showlegend": true,
         "type": "scatter3d",
         "x": [
          6.5135665,
          8.477962,
          7.7498617,
          6.041617,
          8.161021,
          7.6656556,
          7.6854205,
          8.644396,
          7.907485,
          8.536697,
          6.9748926,
          4.1484547,
          6.9517775,
          5.9825664,
          6.89837,
          6.438396,
          6.2593174,
          7.070704,
          9.436306,
          6.873525,
          7.7316833,
          4.7968693,
          8.772515,
          5.036266,
          7.3890915,
          7.8623104,
          8.436545,
          9.301927,
          7.187687,
          5.796632,
          4.3848453,
          4.546314,
          6.1468,
          7.330525,
          7.8337765,
          3.4994388,
          3.8682258,
          7.907298,
          4.167061,
          3.696692,
          4.9577794,
          7.6053214,
          4.65648,
          8.566079,
          3.0175264,
          7.415105,
          7.800628,
          7.3944163,
          7.2255826,
          8.07949,
          6.868025,
          8.58901,
          7.8054795,
          4.1609855,
          5.7861524,
          5.5912046,
          7.242939,
          7.021539,
          7.2548857,
          9.41233,
          7.5771813
         ],
         "y": [
          1.2131015,
          0.7489795,
          2.0111425,
          1.8239808,
          0.21115576,
          1.2644467,
          0.14069141,
          1.4903672,
          1.0469586,
          0.31524685,
          0.98119897,
          0.9621128,
          1.9793607,
          0.6758399,
          0.36005282,
          1.177952,
          1.3401445,
          0.04480597,
          1.0399873,
          0.27301744,
          0.52527815,
          0.3171691,
          1.393941,
          0.4836396,
          1.0478921,
          0.27140328,
          1.1581271,
          0.750081,
          1.928625,
          1.5106604,
          -0.18701577,
          -0.15964824,
          1.6105574,
          0.44020247,
          1.9656883,
          0.6174001,
          0.30637452,
          0.59002686,
          0.6441722,
          0.56954765,
          0.6293482,
          0.8502477,
          0.433841,
          0.33930114,
          0.6745798,
          2.064767,
          1.3124369,
          1.644555,
          -0.014015119,
          0.5634738,
          0.68804365,
          0.9379591,
          1.2484432,
          0.23813881,
          1.537679,
          1.6032146,
          0.9350347,
          1.4277318,
          0.7002017,
          1.0662379,
          2.0172875
         ],
         "z": [
          2.383313,
          0.22521012,
          3.6588812,
          3.7421515,
          -0.5620699,
          2.134307,
          -0.28666124,
          2.003815,
          1.2104447,
          0.16938488,
          1.6481199,
          2.2807853,
          3.8207107,
          1.045497,
          0.4567265,
          2.128959,
          2.3022664,
          -0.5606406,
          0.80299944,
          0.16577293,
          0.904158,
          0.6468233,
          1.8159411,
          0.9259494,
          1.422063,
          0.38561568,
          1.4231062,
          0.2123388,
          3.620409,
          3.0587234,
          -0.2554665,
          -0.2560153,
          2.9391527,
          -0.26167017,
          3.5146194,
          1.7381163,
          0.96030015,
          1.072015,
          1.5603637,
          1.5668749,
          1.2511677,
          0.56065434,
          0.9355994,
          -0.3910339,
          2.007661,
          3.895926,
          1.6033409,
          1.7971532,
          -0.6895981,
          -0.15943933,
          0.09740647,
          0.035174202,
          1.8495243,
          0.70357394,
          2.6595914,
          3.357525,
          1.0908765,
          2.6050203,
          0.92696416,
          0.8259894,
          3.7288806
         ]
        },
        {
         "customdata": [
          [
           16.44
          ],
          [
           15.88
          ],
          [
           15.01
          ],
          [
           16.19
          ],
          [
           14.11
          ],
          [
           13.45
          ],
          [
           15.49
          ],
          [
           14.11
          ],
          [
           14.09
          ],
          [
           13.94
          ],
          [
           15.05
          ],
          [
           16.12
          ],
          [
           16.2
          ],
          [
           13.16
          ],
          [
           14.16
          ],
          [
           14.7
          ],
          [
           15.26
          ],
          [
           15.69
          ],
          [
           14.59
          ],
          [
           13.74
          ],
          [
           13.78
          ],
          [
           13.89
          ],
          [
           14.03
          ],
          [
           14.29
          ],
          [
           14.88
          ],
          [
           16.14
          ],
          [
           14.38
          ],
          [
           14.69
          ],
          [
           14.11
          ],
          [
           16.63
          ],
          [
           13.84
          ],
          [
           14.8
          ],
          [
           14.46
          ],
          [
           13.5
          ],
          [
           16.41
          ],
          [
           16.17
          ],
          [
           15.99
          ],
          [
           15.38
          ],
          [
           16.16
          ],
          [
           15.56
          ],
          [
           15.38
          ],
          [
           15.57
          ],
          [
           15.6
          ],
          [
           16.23
          ],
          [
           14.37
          ],
          [
           14.01
          ],
          [
           14.34
          ],
          [
           12.88
          ],
          [
           12.78
          ],
          [
           15.38
          ],
          [
           14.92
          ],
          [
           13.16
          ],
          [
           15.5
          ],
          [
           15.11
          ],
          [
           13.8
          ],
          [
           15.36
          ],
          [
           14.99
          ],
          [
           13.54
          ],
          [
           14.79
          ],
          [
           14.43
          ],
          [
           15.78
          ],
          [
           14.49
          ],
          [
           14.33
          ],
          [
           14.52
          ],
          [
           15.03
          ],
          [
           14.86
          ],
          [
           15.26
          ]
         ],
         "hovertemplate": "Cluster=Cluster 2<br>0=%{x}<br>1=%{y}<br>2=%{z}<br>Feature=%{customdata[0]}<extra></extra>",
         "legendgroup": "Cluster 2",
         "marker": {
          "color": "#00cc96",
          "opacity": 0.7,
          "symbol": "circle"
         },
         "mode": "markers",
         "name": "Cluster 2",
         "scene": "scene",
         "showlegend": true,
         "type": "scatter3d",
         "x": [
          3.6313233,
          3.0135531,
          1.7932054,
          3.3074167,
          -0.3686258,
          -1.7986505,
          1.9102192,
          -0.2803846,
          -0.34096107,
          -0.35736912,
          1.7484014,
          0.39406455,
          3.2707613,
          -1.9109132,
          -0.21651195,
          0.9106059,
          1.534448,
          2.6400006,
          -0.081958376,
          -1.0807582,
          -1.060996,
          -1.134083,
          -0.029608976,
          -0.14608902,
          1.7416509,
          3.1942189,
          0.15393141,
          0.47703972,
          -0.36951783,
          3.9276235,
          -0.7689104,
          0.8360314,
          0.28271645,
          -1.3180459,
          3.11694,
          2.9191356,
          2.3667543,
          1.8873681,
          2.9280612,
          2.0523527,
          1.5824434,
          2.669772,
          2.610043,
          3.1320271,
          0.793078,
          -0.20286807,
          0.8029494,
          -2.6597085,
          -2.560925,
          2.196777,
          1.6807001,
          -2.301918,
          1.9202744,
          1.2486202,
          -0.40614453,
          2.3294256,
          1.1456372,
          -1.3668915,
          0.9186298,
          -0.0065226713,
          1.9201138,
          0.27843565,
          -0.08216494,
          1.1502528,
          1.7938056,
          1.4931418,
          2.0228515
         ],
         "y": [
          -0.9813611,
          -1.7068986,
          -1.7347356,
          -1.5311359,
          -1.750284,
          -1.4216335,
          -0.6463058,
          -1.6590537,
          -0.8283601,
          -2.072571,
          -1.492837,
          0.56910557,
          -0.6226297,
          -2.3423405,
          -1.4083378,
          -2.487543,
          -0.04581045,
          -1.6343656,
          -0.521076,
          -1.7900895,
          -1.6235579,
          -0.87578523,
          -2.173293,
          -2.0461764,
          -2.0635223,
          -1.4795579,
          -1.9344784,
          -0.8676566,
          -1.5946467,
          -0.7970297,
          -2.185203,
          -1.1265782,
          -1.6085253,
          -2.1473334,
          0.21947269,
          0.20904458,
          -0.53589547,
          0.008068119,
          0.20054437,
          0.23617508,
          -0.61076915,
          -0.9179524,
          -0.8938973,
          -0.008719788,
          -1.9845462,
          -1.9554815,
          -2.0596912,
          -2.243771,
          -2.335393,
          -1.4921752,
          -2.0937352,
          -2.2058647,
          0.11686701,
          -1.0061449,
          -2.2324233,
          -1.7653294,
          -1.1602522,
          -2.0315154,
          -1.4235718,
          -0.7159743,
          0.48461634,
          -0.5941412,
          -1.2102245,
          -1.7512422,
          -1.5173073,
          -1.5524821,
          -1.3919482
         ],
         "z": [
          -1.7106849,
          -3.0894368,
          -2.6348817,
          -2.8205953,
          -1.3549187,
          -0.28190678,
          -0.12772985,
          -1.4798869,
          0.39368558,
          -2.4524982,
          -2.1131454,
          2.0300863,
          -0.75022113,
          -3.6768668,
          -0.7552437,
          -2.772402,
          1.176018,
          -2.709481,
          0.7419008,
          -1.1741631,
          -0.84141403,
          0.42987,
          -2.974722,
          -1.3872846,
          -3.3766932,
          -2.642475,
          -1.7554008,
          0.050891124,
          -1.5258926,
          -1.4200892,
          -2.2609837,
          -0.5867441,
          -1.1656119,
          -2.308915,
          1.0748969,
          1.1383698,
          -0.109002,
          1.1882582,
          1.1205984,
          1.5214149,
          0.094780825,
          -1.1564497,
          -1.0640255,
          0.6135192,
          -3.212715,
          -2.2992299,
          -3.3192565,
          -2.3242626,
          -3.541173,
          -2.2438755,
          -3.313522,
          -2.1526437,
          1.3491728,
          -0.5214212,
          -3.155364,
          -2.9629588,
          -0.79346377,
          -1.8708792,
          -1.231636,
          0.4705185,
          1.8719425,
          0.63853896,
          -0.3815616,
          -3.176815,
          -2.3881953,
          -2.172766,
          -1.9482511
         ]
        }
       ],
       "layout": {
        "height": 800,
        "legend": {
         "title": {
          "text": "Cluster"
         },
         "tracegroupgap": 0
        },
        "scene": {
         "domain": {
          "x": [
           0,
           1
          ],
          "y": [
           0,
           1
          ]
         },
         "xaxis": {
          "title": {
           "text": "0"
          }
         },
         "yaxis": {
          "title": {
           "text": "1"
          }
         },
         "zaxis": {
          "title": {
           "text": "2"
          }
         }
        },
        "template": {
         "data": {
          "bar": [
           {
            "error_x": {
             "color": "#2a3f5f"
            },
            "error_y": {
             "color": "#2a3f5f"
            },
            "marker": {
             "line": {
              "color": "#E5ECF6",
              "width": 0.5
             },
             "pattern": {
              "fillmode": "overlay",
              "size": 10,
              "solidity": 0.2
             }
            },
            "type": "bar"
           }
          ],
          "barpolar": [
           {
            "marker": {
             "line": {
              "color": "#E5ECF6",
              "width": 0.5
             },
             "pattern": {
              "fillmode": "overlay",
              "size": 10,
              "solidity": 0.2
             }
            },
            "type": "barpolar"
           }
          ],
          "carpet": [
           {
            "aaxis": {
             "endlinecolor": "#2a3f5f",
             "gridcolor": "white",
             "linecolor": "white",
             "minorgridcolor": "white",
             "startlinecolor": "#2a3f5f"
            },
            "baxis": {
             "endlinecolor": "#2a3f5f",
             "gridcolor": "white",
             "linecolor": "white",
             "minorgridcolor": "white",
             "startlinecolor": "#2a3f5f"
            },
            "type": "carpet"
           }
          ],
          "choropleth": [
           {
            "colorbar": {
             "outlinewidth": 0,
             "ticks": ""
            },
            "type": "choropleth"
           }
          ],
          "contour": [
           {
            "colorbar": {
             "outlinewidth": 0,
             "ticks": ""
            },
            "colorscale": [
             [
              0,
              "#0d0887"
             ],
             [
              0.1111111111111111,
              "#46039f"
             ],
             [
              0.2222222222222222,
              "#7201a8"
             ],
             [
              0.3333333333333333,
              "#9c179e"
             ],
             [
              0.4444444444444444,
              "#bd3786"
             ],
             [
              0.5555555555555556,
              "#d8576b"
             ],
             [
              0.6666666666666666,
              "#ed7953"
             ],
             [
              0.7777777777777778,
              "#fb9f3a"
             ],
             [
              0.8888888888888888,
              "#fdca26"
             ],
             [
              1,
              "#f0f921"
             ]
            ],
            "type": "contour"
           }
          ],
          "contourcarpet": [
           {
            "colorbar": {
             "outlinewidth": 0,
             "ticks": ""
            },
            "type": "contourcarpet"
           }
          ],
          "heatmap": [
           {
            "colorbar": {
             "outlinewidth": 0,
             "ticks": ""
            },
            "colorscale": [
             [
              0,
              "#0d0887"
             ],
             [
              0.1111111111111111,
              "#46039f"
             ],
             [
              0.2222222222222222,
              "#7201a8"
             ],
             [
              0.3333333333333333,
              "#9c179e"
             ],
             [
              0.4444444444444444,
              "#bd3786"
             ],
             [
              0.5555555555555556,
              "#d8576b"
             ],
             [
              0.6666666666666666,
              "#ed7953"
             ],
             [
              0.7777777777777778,
              "#fb9f3a"
             ],
             [
              0.8888888888888888,
              "#fdca26"
             ],
             [
              1,
              "#f0f921"
             ]
            ],
            "type": "heatmap"
           }
          ],
          "heatmapgl": [
           {
            "colorbar": {
             "outlinewidth": 0,
             "ticks": ""
            },
            "colorscale": [
             [
              0,
              "#0d0887"
             ],
             [
              0.1111111111111111,
              "#46039f"
             ],
             [
              0.2222222222222222,
              "#7201a8"
             ],
             [
              0.3333333333333333,
              "#9c179e"
             ],
             [
              0.4444444444444444,
              "#bd3786"
             ],
             [
              0.5555555555555556,
              "#d8576b"
             ],
             [
              0.6666666666666666,
              "#ed7953"
             ],
             [
              0.7777777777777778,
              "#fb9f3a"
             ],
             [
              0.8888888888888888,
              "#fdca26"
             ],
             [
              1,
              "#f0f921"
             ]
            ],
            "type": "heatmapgl"
           }
          ],
          "histogram": [
           {
            "marker": {
             "pattern": {
              "fillmode": "overlay",
              "size": 10,
              "solidity": 0.2
             }
            },
            "type": "histogram"
           }
          ],
          "histogram2d": [
           {
            "colorbar": {
             "outlinewidth": 0,
             "ticks": ""
            },
            "colorscale": [
             [
              0,
              "#0d0887"
             ],
             [
              0.1111111111111111,
              "#46039f"
             ],
             [
              0.2222222222222222,
              "#7201a8"
             ],
             [
              0.3333333333333333,
              "#9c179e"
             ],
             [
              0.4444444444444444,
              "#bd3786"
             ],
             [
              0.5555555555555556,
              "#d8576b"
             ],
             [
              0.6666666666666666,
              "#ed7953"
             ],
             [
              0.7777777777777778,
              "#fb9f3a"
             ],
             [
              0.8888888888888888,
              "#fdca26"
             ],
             [
              1,
              "#f0f921"
             ]
            ],
            "type": "histogram2d"
           }
          ],
          "histogram2dcontour": [
           {
            "colorbar": {
             "outlinewidth": 0,
             "ticks": ""
            },
            "colorscale": [
             [
              0,
              "#0d0887"
             ],
             [
              0.1111111111111111,
              "#46039f"
             ],
             [
              0.2222222222222222,
              "#7201a8"
             ],
             [
              0.3333333333333333,
              "#9c179e"
             ],
             [
              0.4444444444444444,
              "#bd3786"
             ],
             [
              0.5555555555555556,
              "#d8576b"
             ],
             [
              0.6666666666666666,
              "#ed7953"
             ],
             [
              0.7777777777777778,
              "#fb9f3a"
             ],
             [
              0.8888888888888888,
              "#fdca26"
             ],
             [
              1,
              "#f0f921"
             ]
            ],
            "type": "histogram2dcontour"
           }
          ],
          "mesh3d": [
           {
            "colorbar": {
             "outlinewidth": 0,
             "ticks": ""
            },
            "type": "mesh3d"
           }
          ],
          "parcoords": [
           {
            "line": {
             "colorbar": {
              "outlinewidth": 0,
              "ticks": ""
             }
            },
            "type": "parcoords"
           }
          ],
          "pie": [
           {
            "automargin": true,
            "type": "pie"
           }
          ],
          "scatter": [
           {
            "fillpattern": {
             "fillmode": "overlay",
             "size": 10,
             "solidity": 0.2
            },
            "type": "scatter"
           }
          ],
          "scatter3d": [
           {
            "line": {
             "colorbar": {
              "outlinewidth": 0,
              "ticks": ""
             }
            },
            "marker": {
             "colorbar": {
              "outlinewidth": 0,
              "ticks": ""
             }
            },
            "type": "scatter3d"
           }
          ],
          "scattercarpet": [
           {
            "marker": {
             "colorbar": {
              "outlinewidth": 0,
              "ticks": ""
             }
            },
            "type": "scattercarpet"
           }
          ],
          "scattergeo": [
           {
            "marker": {
             "colorbar": {
              "outlinewidth": 0,
              "ticks": ""
             }
            },
            "type": "scattergeo"
           }
          ],
          "scattergl": [
           {
            "marker": {
             "colorbar": {
              "outlinewidth": 0,
              "ticks": ""
             }
            },
            "type": "scattergl"
           }
          ],
          "scattermapbox": [
           {
            "marker": {
             "colorbar": {
              "outlinewidth": 0,
              "ticks": ""
             }
            },
            "type": "scattermapbox"
           }
          ],
          "scatterpolar": [
           {
            "marker": {
             "colorbar": {
              "outlinewidth": 0,
              "ticks": ""
             }
            },
            "type": "scatterpolar"
           }
          ],
          "scatterpolargl": [
           {
            "marker": {
             "colorbar": {
              "outlinewidth": 0,
              "ticks": ""
             }
            },
            "type": "scatterpolargl"
           }
          ],
          "scatterternary": [
           {
            "marker": {
             "colorbar": {
              "outlinewidth": 0,
              "ticks": ""
             }
            },
            "type": "scatterternary"
           }
          ],
          "surface": [
           {
            "colorbar": {
             "outlinewidth": 0,
             "ticks": ""
            },
            "colorscale": [
             [
              0,
              "#0d0887"
             ],
             [
              0.1111111111111111,
              "#46039f"
             ],
             [
              0.2222222222222222,
              "#7201a8"
             ],
             [
              0.3333333333333333,
              "#9c179e"
             ],
             [
              0.4444444444444444,
              "#bd3786"
             ],
             [
              0.5555555555555556,
              "#d8576b"
             ],
             [
              0.6666666666666666,
              "#ed7953"
             ],
             [
              0.7777777777777778,
              "#fb9f3a"
             ],
             [
              0.8888888888888888,
              "#fdca26"
             ],
             [
              1,
              "#f0f921"
             ]
            ],
            "type": "surface"
           }
          ],
          "table": [
           {
            "cells": {
             "fill": {
              "color": "#EBF0F8"
             },
             "line": {
              "color": "white"
             }
            },
            "header": {
             "fill": {
              "color": "#C8D4E3"
             },
             "line": {
              "color": "white"
             }
            },
            "type": "table"
           }
          ]
         },
         "layout": {
          "annotationdefaults": {
           "arrowcolor": "#2a3f5f",
           "arrowhead": 0,
           "arrowwidth": 1
          },
          "autotypenumbers": "strict",
          "coloraxis": {
           "colorbar": {
            "outlinewidth": 0,
            "ticks": ""
           }
          },
          "colorscale": {
           "diverging": [
            [
             0,
             "#8e0152"
            ],
            [
             0.1,
             "#c51b7d"
            ],
            [
             0.2,
             "#de77ae"
            ],
            [
             0.3,
             "#f1b6da"
            ],
            [
             0.4,
             "#fde0ef"
            ],
            [
             0.5,
             "#f7f7f7"
            ],
            [
             0.6,
             "#e6f5d0"
            ],
            [
             0.7,
             "#b8e186"
            ],
            [
             0.8,
             "#7fbc41"
            ],
            [
             0.9,
             "#4d9221"
            ],
            [
             1,
             "#276419"
            ]
           ],
           "sequential": [
            [
             0,
             "#0d0887"
            ],
            [
             0.1111111111111111,
             "#46039f"
            ],
            [
             0.2222222222222222,
             "#7201a8"
            ],
            [
             0.3333333333333333,
             "#9c179e"
            ],
            [
             0.4444444444444444,
             "#bd3786"
            ],
            [
             0.5555555555555556,
             "#d8576b"
            ],
            [
             0.6666666666666666,
             "#ed7953"
            ],
            [
             0.7777777777777778,
             "#fb9f3a"
            ],
            [
             0.8888888888888888,
             "#fdca26"
            ],
            [
             1,
             "#f0f921"
            ]
           ],
           "sequentialminus": [
            [
             0,
             "#0d0887"
            ],
            [
             0.1111111111111111,
             "#46039f"
            ],
            [
             0.2222222222222222,
             "#7201a8"
            ],
            [
             0.3333333333333333,
             "#9c179e"
            ],
            [
             0.4444444444444444,
             "#bd3786"
            ],
            [
             0.5555555555555556,
             "#d8576b"
            ],
            [
             0.6666666666666666,
             "#ed7953"
            ],
            [
             0.7777777777777778,
             "#fb9f3a"
            ],
            [
             0.8888888888888888,
             "#fdca26"
            ],
            [
             1,
             "#f0f921"
            ]
           ]
          },
          "colorway": [
           "#636efa",
           "#EF553B",
           "#00cc96",
           "#ab63fa",
           "#FFA15A",
           "#19d3f3",
           "#FF6692",
           "#B6E880",
           "#FF97FF",
           "#FECB52"
          ],
          "font": {
           "color": "#2a3f5f"
          },
          "geo": {
           "bgcolor": "white",
           "lakecolor": "white",
           "landcolor": "#E5ECF6",
           "showlakes": true,
           "showland": true,
           "subunitcolor": "white"
          },
          "hoverlabel": {
           "align": "left"
          },
          "hovermode": "closest",
          "mapbox": {
           "style": "light"
          },
          "paper_bgcolor": "white",
          "plot_bgcolor": "#E5ECF6",
          "polar": {
           "angularaxis": {
            "gridcolor": "white",
            "linecolor": "white",
            "ticks": ""
           },
           "bgcolor": "#E5ECF6",
           "radialaxis": {
            "gridcolor": "white",
            "linecolor": "white",
            "ticks": ""
           }
          },
          "scene": {
           "xaxis": {
            "backgroundcolor": "#E5ECF6",
            "gridcolor": "white",
            "gridwidth": 2,
            "linecolor": "white",
            "showbackground": true,
            "ticks": "",
            "zerolinecolor": "white"
           },
           "yaxis": {
            "backgroundcolor": "#E5ECF6",
            "gridcolor": "white",
            "gridwidth": 2,
            "linecolor": "white",
            "showbackground": true,
            "ticks": "",
            "zerolinecolor": "white"
           },
           "zaxis": {
            "backgroundcolor": "#E5ECF6",
            "gridcolor": "white",
            "gridwidth": 2,
            "linecolor": "white",
            "showbackground": true,
            "ticks": "",
            "zerolinecolor": "white"
           }
          },
          "shapedefaults": {
           "line": {
            "color": "#2a3f5f"
           }
          },
          "ternary": {
           "aaxis": {
            "gridcolor": "white",
            "linecolor": "white",
            "ticks": ""
           },
           "baxis": {
            "gridcolor": "white",
            "linecolor": "white",
            "ticks": ""
           },
           "bgcolor": "#E5ECF6",
           "caxis": {
            "gridcolor": "white",
            "linecolor": "white",
            "ticks": ""
           }
          },
          "title": {
           "x": 0.05
          },
          "xaxis": {
           "automargin": true,
           "gridcolor": "white",
           "linecolor": "white",
           "ticks": "",
           "title": {
            "standoff": 15
           },
           "zerolinecolor": "white",
           "zerolinewidth": 2
          },
          "yaxis": {
           "automargin": true,
           "gridcolor": "white",
           "linecolor": "white",
           "ticks": "",
           "title": {
            "standoff": 15
           },
           "zerolinecolor": "white",
           "zerolinewidth": 2
          }
         }
        },
        "title": {
         "text": "3d TSNE Plot for Clusters"
        },
        "width": 900
       }
      }
     },
     "metadata": {},
     "output_type": "display_data"
    }
   ],
   "source": [
    "setup(data = seedDataSet, verbose=False)\n",
    "x = create_model('kmeans', num_clusters =3)\n",
    "plot_model(x, plot = 'tsne')"
   ]
  },
  {
   "cell_type": "markdown",
   "metadata": {},
   "source": [
    "After Normalizing"
   ]
  },
  {
   "cell_type": "code",
   "execution_count": 57,
   "metadata": {},
   "outputs": [
    {
     "data": {
      "text/html": [],
      "text/plain": [
       "<IPython.core.display.HTML object>"
      ]
     },
     "metadata": {},
     "output_type": "display_data"
    },
    {
     "data": {
      "text/html": [
       "<style type=\"text/css\">\n",
       "</style>\n",
       "<table id=\"T_36675\">\n",
       "  <thead>\n",
       "    <tr>\n",
       "      <th class=\"blank level0\" >&nbsp;</th>\n",
       "      <th id=\"T_36675_level0_col0\" class=\"col_heading level0 col0\" >Silhouette</th>\n",
       "      <th id=\"T_36675_level0_col1\" class=\"col_heading level0 col1\" >Calinski-Harabasz</th>\n",
       "      <th id=\"T_36675_level0_col2\" class=\"col_heading level0 col2\" >Davies-Bouldin</th>\n",
       "      <th id=\"T_36675_level0_col3\" class=\"col_heading level0 col3\" >Homogeneity</th>\n",
       "      <th id=\"T_36675_level0_col4\" class=\"col_heading level0 col4\" >Rand Index</th>\n",
       "      <th id=\"T_36675_level0_col5\" class=\"col_heading level0 col5\" >Completeness</th>\n",
       "    </tr>\n",
       "  </thead>\n",
       "  <tbody>\n",
       "    <tr>\n",
       "      <th id=\"T_36675_level0_row0\" class=\"row_heading level0 row0\" >0</th>\n",
       "      <td id=\"T_36675_row0_col0\" class=\"data row0 col0\" >0.3974</td>\n",
       "      <td id=\"T_36675_row0_col1\" class=\"data row0 col1\" >164.6173</td>\n",
       "      <td id=\"T_36675_row0_col2\" class=\"data row0 col2\" >0.8704</td>\n",
       "      <td id=\"T_36675_row0_col3\" class=\"data row0 col3\" >0</td>\n",
       "      <td id=\"T_36675_row0_col4\" class=\"data row0 col4\" >0</td>\n",
       "      <td id=\"T_36675_row0_col5\" class=\"data row0 col5\" >0</td>\n",
       "    </tr>\n",
       "  </tbody>\n",
       "</table>\n"
      ],
      "text/plain": [
       "<pandas.io.formats.style.Styler at 0x22b89d06f50>"
      ]
     },
     "metadata": {},
     "output_type": "display_data"
    },
    {
     "data": {
      "text/html": [],
      "text/plain": [
       "<IPython.core.display.HTML object>"
      ]
     },
     "metadata": {},
     "output_type": "display_data"
    },
    {
     "data": {
      "text/html": [],
      "text/plain": [
       "<IPython.core.display.HTML object>"
      ]
     },
     "metadata": {},
     "output_type": "display_data"
    },
    {
     "data": {
      "image/png": "[encoded data removed]",
      "text/plain": [
       "<Figure size 800x550 with 1 Axes>"
      ]
     },
     "metadata": {},
     "output_type": "display_data"
    }
   ],
   "source": [
    "setup(data = seedDataSet, normalize = True, normalize_method = 'zscore', verbose=False)\n",
    "m = create_model('kmeans')\n",
    "plot_model(m, plot = 'elbow')"
   ]
  },
  {
   "cell_type": "code",
   "execution_count": 58,
   "metadata": {},
   "outputs": [
    {
     "name": "stdout",
     "output_type": "stream",
     "text": [
      "For Cluster = 3\n"
     ]
    },
    {
     "data": {
      "text/html": [],
      "text/plain": [
       "<IPython.core.display.HTML object>"
      ]
     },
     "metadata": {},
     "output_type": "display_data"
    },
    {
     "data": {
      "text/html": [
       "<style type=\"text/css\">\n",
       "</style>\n",
       "<table id=\"T_167fd\">\n",
       "  <thead>\n",
       "    <tr>\n",
       "      <th class=\"blank level0\" >&nbsp;</th>\n",
       "      <th id=\"T_167fd_level0_col0\" class=\"col_heading level0 col0\" >Silhouette</th>\n",
       "      <th id=\"T_167fd_level0_col1\" class=\"col_heading level0 col1\" >Calinski-Harabasz</th>\n",
       "      <th id=\"T_167fd_level0_col2\" class=\"col_heading level0 col2\" >Davies-Bouldin</th>\n",
       "      <th id=\"T_167fd_level0_col3\" class=\"col_heading level0 col3\" >Homogeneity</th>\n",
       "      <th id=\"T_167fd_level0_col4\" class=\"col_heading level0 col4\" >Rand Index</th>\n",
       "      <th id=\"T_167fd_level0_col5\" class=\"col_heading level0 col5\" >Completeness</th>\n",
       "    </tr>\n",
       "  </thead>\n",
       "  <tbody>\n",
       "    <tr>\n",
       "      <th id=\"T_167fd_level0_row0\" class=\"row_heading level0 row0\" >0</th>\n",
       "      <td id=\"T_167fd_row0_col0\" class=\"data row0 col0\" >0.3854</td>\n",
       "      <td id=\"T_167fd_row0_col1\" class=\"data row0 col1\" >155.4493</td>\n",
       "      <td id=\"T_167fd_row0_col2\" class=\"data row0 col2\" >1.0248</td>\n",
       "      <td id=\"T_167fd_row0_col3\" class=\"data row0 col3\" >0</td>\n",
       "      <td id=\"T_167fd_row0_col4\" class=\"data row0 col4\" >0</td>\n",
       "      <td id=\"T_167fd_row0_col5\" class=\"data row0 col5\" >0</td>\n",
       "    </tr>\n",
       "  </tbody>\n",
       "</table>\n"
      ],
      "text/plain": [
       "<pandas.io.formats.style.Styler at 0x22b83808c10>"
      ]
     },
     "metadata": {},
     "output_type": "display_data"
    },
    {
     "data": {
      "text/html": [],
      "text/plain": [
       "<IPython.core.display.HTML object>"
      ]
     },
     "metadata": {},
     "output_type": "display_data"
    },
    {
     "name": "stdout",
     "output_type": "stream",
     "text": [
      "For Cluster = 4\n"
     ]
    },
    {
     "data": {
      "text/html": [],
      "text/plain": [
       "<IPython.core.display.HTML object>"
      ]
     },
     "metadata": {},
     "output_type": "display_data"
    },
    {
     "data": {
      "text/html": [
       "<style type=\"text/css\">\n",
       "</style>\n",
       "<table id=\"T_0765e\">\n",
       "  <thead>\n",
       "    <tr>\n",
       "      <th class=\"blank level0\" >&nbsp;</th>\n",
       "      <th id=\"T_0765e_level0_col0\" class=\"col_heading level0 col0\" >Silhouette</th>\n",
       "      <th id=\"T_0765e_level0_col1\" class=\"col_heading level0 col1\" >Calinski-Harabasz</th>\n",
       "      <th id=\"T_0765e_level0_col2\" class=\"col_heading level0 col2\" >Davies-Bouldin</th>\n",
       "      <th id=\"T_0765e_level0_col3\" class=\"col_heading level0 col3\" >Homogeneity</th>\n",
       "      <th id=\"T_0765e_level0_col4\" class=\"col_heading level0 col4\" >Rand Index</th>\n",
       "      <th id=\"T_0765e_level0_col5\" class=\"col_heading level0 col5\" >Completeness</th>\n",
       "    </tr>\n",
       "  </thead>\n",
       "  <tbody>\n",
       "    <tr>\n",
       "      <th id=\"T_0765e_level0_row0\" class=\"row_heading level0 row0\" >0</th>\n",
       "      <td id=\"T_0765e_row0_col0\" class=\"data row0 col0\" >0.3974</td>\n",
       "      <td id=\"T_0765e_row0_col1\" class=\"data row0 col1\" >164.6173</td>\n",
       "      <td id=\"T_0765e_row0_col2\" class=\"data row0 col2\" >0.8704</td>\n",
       "      <td id=\"T_0765e_row0_col3\" class=\"data row0 col3\" >0</td>\n",
       "      <td id=\"T_0765e_row0_col4\" class=\"data row0 col4\" >0</td>\n",
       "      <td id=\"T_0765e_row0_col5\" class=\"data row0 col5\" >0</td>\n",
       "    </tr>\n",
       "  </tbody>\n",
       "</table>\n"
      ],
      "text/plain": [
       "<pandas.io.formats.style.Styler at 0x22b89d45290>"
      ]
     },
     "metadata": {},
     "output_type": "display_data"
    },
    {
     "data": {
      "text/html": [],
      "text/plain": [
       "<IPython.core.display.HTML object>"
      ]
     },
     "metadata": {},
     "output_type": "display_data"
    },
    {
     "name": "stdout",
     "output_type": "stream",
     "text": [
      "For Cluster = 5\n"
     ]
    },
    {
     "data": {
      "text/html": [],
      "text/plain": [
       "<IPython.core.display.HTML object>"
      ]
     },
     "metadata": {},
     "output_type": "display_data"
    },
    {
     "data": {
      "text/html": [
       "<style type=\"text/css\">\n",
       "</style>\n",
       "<table id=\"T_c7704\">\n",
       "  <thead>\n",
       "    <tr>\n",
       "      <th class=\"blank level0\" >&nbsp;</th>\n",
       "      <th id=\"T_c7704_level0_col0\" class=\"col_heading level0 col0\" >Silhouette</th>\n",
       "      <th id=\"T_c7704_level0_col1\" class=\"col_heading level0 col1\" >Calinski-Harabasz</th>\n",
       "      <th id=\"T_c7704_level0_col2\" class=\"col_heading level0 col2\" >Davies-Bouldin</th>\n",
       "      <th id=\"T_c7704_level0_col3\" class=\"col_heading level0 col3\" >Homogeneity</th>\n",
       "      <th id=\"T_c7704_level0_col4\" class=\"col_heading level0 col4\" >Rand Index</th>\n",
       "      <th id=\"T_c7704_level0_col5\" class=\"col_heading level0 col5\" >Completeness</th>\n",
       "    </tr>\n",
       "  </thead>\n",
       "  <tbody>\n",
       "    <tr>\n",
       "      <th id=\"T_c7704_level0_row0\" class=\"row_heading level0 row0\" >0</th>\n",
       "      <td id=\"T_c7704_row0_col0\" class=\"data row0 col0\" >0.3290</td>\n",
       "      <td id=\"T_c7704_row0_col1\" class=\"data row0 col1\" >145.2859</td>\n",
       "      <td id=\"T_c7704_row0_col2\" class=\"data row0 col2\" >1.0090</td>\n",
       "      <td id=\"T_c7704_row0_col3\" class=\"data row0 col3\" >0</td>\n",
       "      <td id=\"T_c7704_row0_col4\" class=\"data row0 col4\" >0</td>\n",
       "      <td id=\"T_c7704_row0_col5\" class=\"data row0 col5\" >0</td>\n",
       "    </tr>\n",
       "  </tbody>\n",
       "</table>\n"
      ],
      "text/plain": [
       "<pandas.io.formats.style.Styler at 0x22b89ca6810>"
      ]
     },
     "metadata": {},
     "output_type": "display_data"
    },
    {
     "data": {
      "text/html": [],
      "text/plain": [
       "<IPython.core.display.HTML object>"
      ]
     },
     "metadata": {},
     "output_type": "display_data"
    }
   ],
   "source": [
    "setup(data = seedDataSet, normalize = True, normalize_method = 'zscore', verbose=False)\n",
    "\n",
    "print(\"For Cluster = 3\")\n",
    "x2 = create_model('kmeans', num_clusters = 3)\n",
    "\n",
    "print(\"For Cluster = 4\")\n",
    "y2 = create_model('kmeans', num_clusters = 4)\n",
    "\n",
    "print(\"For Cluster = 5\")\n",
    "z2 = create_model('kmeans', num_clusters = 5)"
   ]
  },
  {
   "cell_type": "code",
   "execution_count": 61,
   "metadata": {},
   "outputs": [
    {
     "data": {
      "text/html": [],
      "text/plain": [
       "<IPython.core.display.HTML object>"
      ]
     },
     "metadata": {},
     "output_type": "display_data"
    },
    {
     "data": {
      "text/html": [
       "<style type=\"text/css\">\n",
       "</style>\n",
       "<table id=\"T_98f4f\">\n",
       "  <thead>\n",
       "    <tr>\n",
       "      <th class=\"blank level0\" >&nbsp;</th>\n",
       "      <th id=\"T_98f4f_level0_col0\" class=\"col_heading level0 col0\" >Silhouette</th>\n",
       "      <th id=\"T_98f4f_level0_col1\" class=\"col_heading level0 col1\" >Calinski-Harabasz</th>\n",
       "      <th id=\"T_98f4f_level0_col2\" class=\"col_heading level0 col2\" >Davies-Bouldin</th>\n",
       "      <th id=\"T_98f4f_level0_col3\" class=\"col_heading level0 col3\" >Homogeneity</th>\n",
       "      <th id=\"T_98f4f_level0_col4\" class=\"col_heading level0 col4\" >Rand Index</th>\n",
       "      <th id=\"T_98f4f_level0_col5\" class=\"col_heading level0 col5\" >Completeness</th>\n",
       "    </tr>\n",
       "  </thead>\n",
       "  <tbody>\n",
       "    <tr>\n",
       "      <th id=\"T_98f4f_level0_row0\" class=\"row_heading level0 row0\" >0</th>\n",
       "      <td id=\"T_98f4f_row0_col0\" class=\"data row0 col0\" >0.3974</td>\n",
       "      <td id=\"T_98f4f_row0_col1\" class=\"data row0 col1\" >164.6173</td>\n",
       "      <td id=\"T_98f4f_row0_col2\" class=\"data row0 col2\" >0.8704</td>\n",
       "      <td id=\"T_98f4f_row0_col3\" class=\"data row0 col3\" >0</td>\n",
       "      <td id=\"T_98f4f_row0_col4\" class=\"data row0 col4\" >0</td>\n",
       "      <td id=\"T_98f4f_row0_col5\" class=\"data row0 col5\" >0</td>\n",
       "    </tr>\n",
       "  </tbody>\n",
       "</table>\n"
      ],
      "text/plain": [
       "<pandas.io.formats.style.Styler at 0x22b8be58c90>"
      ]
     },
     "metadata": {},
     "output_type": "display_data"
    },
    {
     "data": {
      "text/html": [],
      "text/plain": [
       "<IPython.core.display.HTML object>"
      ]
     },
     "metadata": {},
     "output_type": "display_data"
    },
    {
     "data": {
      "text/html": [],
      "text/plain": [
       "<IPython.core.display.HTML object>"
      ]
     },
     "metadata": {},
     "output_type": "display_data"
    },
    {
     "data": {
      "application/vnd.plotly.v1+json": {
       "config": {
        "plotlyServerURL": "https://plot.ly"
       },
       "data": [
        {
         "customdata": [
          [
           12.3
          ],
          [
           12.44
          ],
          [
           11.14
          ],
          [
           12.55
          ],
          [
           12.05
          ],
          [
           12.02
          ],
          [
           12.54
          ],
          [
           11.49
          ],
          [
           11.75
          ],
          [
           12.13
          ],
          [
           11.34
          ],
          [
           11.19
          ],
          [
           11.36
          ],
          [
           11.18
          ],
          [
           12.15
          ],
          [
           12.26
          ],
          [
           10.79
          ],
          [
           12.7
          ],
          [
           12.49
          ],
          [
           11.43
          ],
          [
           11.21
          ],
          [
           11.82
          ],
          [
           12.22
          ],
          [
           13.34
          ],
          [
           13.32
          ],
          [
           13.07
          ],
          [
           11.42
          ],
          [
           12.73
          ],
          [
           11.84
          ],
          [
           11.83
          ],
          [
           11.35
          ],
          [
           12.01
          ],
          [
           11.27
          ],
          [
           11.23
          ],
          [
           11.55
          ],
          [
           13.2
          ],
          [
           12.37
          ],
          [
           12.7
          ],
          [
           11.18
          ],
          [
           12.38
          ],
          [
           12.62
          ],
          [
           12.11
          ],
          [
           10.82
          ],
          [
           11.27
          ],
          [
           10.93
          ],
          [
           10.59
          ],
          [
           11.23
          ],
          [
           12.79
          ],
          [
           10.8
          ],
          [
           10.83
          ],
          [
           10.91
          ],
          [
           11.26
          ],
          [
           10.74
          ],
          [
           11.41
          ],
          [
           12.46
          ],
          [
           11.48
          ],
          [
           12.19
          ],
          [
           11.65
          ],
          [
           12.72
          ],
          [
           12.89
          ],
          [
           11.56
          ],
          [
           11.81
          ],
          [
           11.4
          ]
         ],
         "hovertemplate": "Cluster=Cluster 0<br>0=%{x}<br>1=%{y}<br>2=%{z}<br>Feature=%{customdata[0]}<extra></extra>",
         "legendgroup": "Cluster 0",
         "marker": {
          "color": "#636efa",
          "opacity": 0.7,
          "symbol": "circle"
         },
         "mode": "markers",
         "name": "Cluster 0",
         "scene": "scene",
         "showlegend": true,
         "type": "scatter3d",
         "x": [
          -4.224701,
          -4.620469,
          -6.131472,
          -3.8016675,
          -5.401638,
          -4.3092113,
          -3.4346123,
          -6.4754376,
          -6.4482627,
          -6.5115194,
          -4.3589787,
          -6.888361,
          -5.2948623,
          -5.603484,
          -3.8818986,
          -5.2751,
          -7.1100936,
          -3.3069456,
          -3.565697,
          -3.814494,
          -7.0675907,
          -5.7854033,
          -4.340576,
          -4.1024213,
          -4.1475344,
          -4.2393894,
          -3.6694481,
          -3.4008856,
          -4.264027,
          -4.977984,
          -6.063132,
          -6.996003,
          -5.702738,
          -5.2980294,
          -6.3213706,
          -3.2944045,
          -3.6426134,
          -3.3853724,
          -4.8404627,
          -4.4188633,
          -3.3426452,
          -3.7223196,
          -6.699172,
          -4.90448,
          -6.5245314,
          -5.656593,
          -6.1290917,
          -3.4210913,
          -5.5206585,
          -7.0453095,
          -6.0451107,
          -6.436677,
          -6.5145965,
          -5.622477,
          -3.7663996,
          -6.1931653,
          -4.3785596,
          -5.1084433,
          -3.0944588,
          -4.3011074,
          -6.083843,
          -6.233695,
          -6.386289
         ],
         "y": [
          0.86169326,
          -0.7401298,
          0.57488316,
          -0.76877165,
          -1.0030868,
          -1.517827,
          -2.7691364,
          -1.6364007,
          -2.8184714,
          -2.6352262,
          -1.6769891,
          -1.3918002,
          -2.3379915,
          -3.1399734,
          -2.3845809,
          -1.7436136,
          -2.111005,
          -2.45664,
          -0.30649784,
          -3.5279715,
          -1.4681345,
          -2.3134441,
          0.638673,
          1.0812012,
          1.4085679,
          0.09914956,
          -1.9726803,
          -2.2161193,
          -1.8913635,
          -0.4798241,
          -2.4403572,
          -0.72254074,
          -1.881279,
          -1.4041194,
          0.4807022,
          2.422283,
          -1.2073427,
          2.4299843,
          -0.90245366,
          0.56245047,
          -2.3908834,
          -0.69023937,
          -2.123478,
          -1.4285438,
          -0.99436575,
          -0.449658,
          1.0294814,
          1.0994998,
          -0.6516613,
          -2.3046007,
          -2.2405875,
          -1.2118284,
          -1.9971102,
          -0.56108826,
          0.51762,
          -0.11704317,
          -0.27594584,
          -0.077380575,
          -0.40652153,
          0.95646995,
          -2.8449337,
          -2.2464797,
          -0.8295346
         ],
         "z": [
          0.9910606,
          2.1772733,
          1.6010655,
          1.2396009,
          2.056719,
          1.664211,
          1.5464581,
          2.9806442,
          3.310852,
          3.4637291,
          -0.3691495,
          2.8868468,
          1.7162129,
          1.7257146,
          1.5891737,
          2.8337114,
          3.1798851,
          1.3211915,
          0.37624502,
          0.6173896,
          3.3212779,
          2.604354,
          1.1984034,
          2.1172147,
          2.320139,
          2.5266423,
          -1.2854995,
          1.1605272,
          0.44934595,
          1.9416331,
          2.0891001,
          3.3478253,
          1.1260947,
          0.549908,
          1.9661561,
          1.4033644,
          0.49791074,
          1.4411724,
          -0.5599651,
          1.1800216,
          1.2374259,
          0.17446433,
          2.20961,
          0.096687526,
          1.7735952,
          -0.19814414,
          1.7820095,
          0.47484043,
          0.17124249,
          3.1195884,
          1.2739156,
          2.1176877,
          1.6410072,
          0.42137262,
          0.6723158,
          1.763833,
          1.2133889,
          1.0787638,
          0.026263166,
          2.3158484,
          2.6670282,
          3.2326853,
          2.133984
         ]
        },
        {
         "customdata": [
          [
           18.55
          ],
          [
           20.97
          ],
          [
           19.14
          ],
          [
           19.13
          ],
          [
           19.38
          ],
          [
           18.45
          ],
          [
           19.06
          ],
          [
           17.99
          ],
          [
           17.63
          ],
          [
           18.85
          ],
          [
           18.83
          ],
          [
           19.18
          ],
          [
           19.46
          ],
          [
           18.96
          ],
          [
           19.94
          ],
          [
           19.15
          ],
          [
           16.16
          ],
          [
           20.03
          ],
          [
           16.41
          ],
          [
           16.23
          ],
          [
           17.36
          ],
          [
           15.56
          ],
          [
           18.94
          ],
          [
           18.3
          ],
          [
           17.55
          ],
          [
           20.16
          ],
          [
           17.98
          ],
          [
           18.65
          ],
          [
           18.75
          ],
          [
           18.43
          ],
          [
           16.17
          ],
          [
           18.14
          ],
          [
           20.24
          ],
          [
           18.89
          ],
          [
           18.72
          ],
          [
           18.95
          ],
          [
           18.98
          ],
          [
           16.63
          ],
          [
           18.17
          ],
          [
           17.08
          ],
          [
           17.63
          ],
          [
           16.84
          ],
          [
           17.26
          ],
          [
           19.11
          ],
          [
           16.77
          ],
          [
           17.32
          ],
          [
           20.71
          ],
          [
           18.94
          ],
          [
           17.12
          ],
          [
           16.53
          ],
          [
           18.72
          ],
          [
           16.82
          ],
          [
           19.57
          ],
          [
           19.31
          ],
          [
           20.2
          ],
          [
           18.36
          ],
          [
           18.59
          ],
          [
           18.81
          ],
          [
           16.87
          ],
          [
           20.1
          ],
          [
           18.76
          ],
          [
           20.88
          ],
          [
           21.18
          ],
          [
           18.98
          ],
          [
           18.88
          ],
          [
           18.27
          ],
          [
           19.51
          ]
         ],
         "hovertemplate": "Cluster=Cluster 1<br>0=%{x}<br>1=%{y}<br>2=%{z}<br>Feature=%{customdata[0]}<extra></extra>",
         "legendgroup": "Cluster 1",
         "marker": {
          "color": "#EF553B",
          "opacity": 0.7,
          "symbol": "circle"
         },
         "mode": "markers",
         "name": "Cluster 1",
         "scene": "scene",
         "showlegend": true,
         "type": "scatter3d",
         "x": [
          6.46283,
          6.514884,
          5.139704,
          6.6004767,
          6.0547223,
          6.081014,
          7.0010233,
          5.629412,
          4.32127,
          6.4814754,
          6.1981153,
          6.3757124,
          5.7717814,
          5.3445387,
          7.213441,
          6.6275344,
          2.7889342,
          7.196117,
          2.6502624,
          3.226666,
          4.3844666,
          2.2864773,
          6.2849874,
          5.737969,
          4.042021,
          7.605028,
          5.7171474,
          5.196344,
          5.655615,
          5.690055,
          2.6610737,
          4.8057833,
          5.7951355,
          5.9058146,
          6.727996,
          6.281705,
          7.023029,
          3.7795079,
          5.9921536,
          4.327342,
          4.468488,
          3.2946463,
          3.5442812,
          6.3411365,
          2.9974601,
          3.835516,
          6.6260247,
          5.630571,
          4.174446,
          2.691933,
          4.952303,
          3.503813,
          7.5414367,
          6.583465,
          5.945564,
          5.6053324,
          4.7788153,
          6.152668,
          3.8663442,
          7.6375422,
          6.194539,
          6.308532,
          6.171499,
          6.3562436,
          6.825137,
          6.4386334,
          6.8456817
         ],
         "y": [
          0.56022394,
          3.1968439,
          3.2296023,
          1.7025065,
          1.5004044,
          1.0330795,
          0.8723535,
          1.1354108,
          1.0760677,
          2.33754,
          1.3410939,
          1.1382716,
          3.2600477,
          3.3973236,
          1.3564517,
          1.773937,
          0.57872534,
          1.5160466,
          1.4658862,
          1.1402997,
          0.92514634,
          1.512487,
          1.8466936,
          2.180764,
          3.2771988,
          0.5655327,
          1.25792,
          1.430808,
          3.1458845,
          2.2051067,
          0.3731843,
          1.0312574,
          3.5962396,
          2.689296,
          0.6408338,
          1.5961963,
          0.21044439,
          -0.24356309,
          0.27487072,
          1.3187679,
          0.92274976,
          0.84438664,
          1.4118992,
          2.5568702,
          0.95225704,
          0.4123803,
          2.5272672,
          2.1938546,
          0.6821095,
          1.8828701,
          3.5736866,
          1.0689762,
          0.40006226,
          1.707019,
          3.3801694,
          1.1241817,
          3.702496,
          1.7828599,
          0.4605687,
          0.59972566,
          2.186754,
          3.711267,
          3.7657683,
          1.0283358,
          1.0289965,
          0.8137348,
          1.2925868
         ],
         "z": [
          -0.3987117,
          2.441807,
          2.818057,
          -0.9227917,
          1.9715807,
          -0.63935244,
          0.57055557,
          -0.9959488,
          1.3896892,
          -0.4932841,
          -0.32392526,
          2.030241,
          0.82955515,
          0.45290536,
          2.3508024,
          0.77521986,
          1.9780931,
          1.7579479,
          0.984085,
          0.9725447,
          1.3600789,
          1.5762097,
          -0.02497805,
          -0.9441461,
          1.1954842,
          1.323076,
          -0.88387126,
          2.4824166,
          0.54015434,
          -0.7654579,
          2.1019418,
          1.5804678,
          2.368066,
          0.18501651,
          0.43495533,
          1.2309374,
          1.7805312,
          -0.14805423,
          2.0954528,
          -1.3044709,
          2.236834,
          2.3617291,
          1.814873,
          -0.55224967,
          2.3289988,
          2.280669,
          2.661179,
          2.87564,
          -0.30768427,
          1.8231739,
          1.2377983,
          1.4130945,
          0.9503542,
          1.5909561,
          2.2375321,
          3.424008,
          1.3467904,
          0.60114723,
          2.0053494,
          1.5839531,
          -0.0036146431,
          2.1359818,
          2.3142169,
          2.8783643,
          -0.65390354,
          0.29981303,
          1.4939405
         ]
        },
        {
         "customdata": [
          [
           14.7
          ],
          [
           14.16
          ],
          [
           14.11
          ],
          [
           15.88
          ],
          [
           15.69
          ],
          [
           12.08
          ],
          [
           14.11
          ],
          [
           15.01
          ],
          [
           16.19
          ],
          [
           13.02
          ],
          [
           12.74
          ],
          [
           13.45
          ],
          [
           13.16
          ],
          [
           13.99
          ],
          [
           12.21
          ],
          [
           14.59
          ],
          [
           14.38
          ],
          [
           13.78
          ],
          [
           14.88
          ],
          [
           14.29
          ],
          [
           12.19
          ],
          [
           13.84
          ],
          [
           16.14
          ],
          [
           15.49
          ],
          [
           12.67
          ],
          [
           14.69
          ],
          [
           12.76
          ],
          [
           14.11
          ],
          [
           13.37
          ],
          [
           12.8
          ],
          [
           16.44
          ],
          [
           15.26
          ],
          [
           11.87
          ],
          [
           14.03
          ],
          [
           13.89
          ],
          [
           13.74
          ],
          [
           14.09
          ],
          [
           13.8
          ],
          [
           15.05
          ],
          [
           14.46
          ],
          [
           14.92
          ],
          [
           15.38
          ],
          [
           12.11
          ],
          [
           11.23
          ],
          [
           15.6
          ],
          [
           15.57
          ],
          [
           12.36
          ],
          [
           15.38
          ],
          [
           13.22
          ],
          [
           12.78
          ],
          [
           15.38
          ],
          [
           12.88
          ],
          [
           14.34
          ],
          [
           14.01
          ],
          [
           14.37
          ],
          [
           15.99
          ],
          [
           15.03
          ],
          [
           14.52
          ],
          [
           14.33
          ],
          [
           14.49
          ],
          [
           12.1
          ],
          [
           16.2
          ],
          [
           14.8
          ],
          [
           14.28
          ],
          [
           13.54
          ],
          [
           13.94
          ],
          [
           13.16
          ],
          [
           13.5
          ],
          [
           15.11
          ],
          [
           15.36
          ],
          [
           14.99
          ],
          [
           14.79
          ],
          [
           14.86
          ],
          [
           14.43
          ],
          [
           15.78
          ],
          [
           15.5
          ],
          [
           15.26
          ]
         ],
         "hovertemplate": "Cluster=Cluster 2<br>0=%{x}<br>1=%{y}<br>2=%{z}<br>Feature=%{customdata[0]}<extra></extra>",
         "legendgroup": "Cluster 2",
         "marker": {
          "color": "#00cc96",
          "opacity": 0.7,
          "symbol": "circle"
         },
         "mode": "markers",
         "name": "Cluster 2",
         "scene": "scene",
         "showlegend": true,
         "type": "scatter3d",
         "x": [
          0.292284,
          -0.45151708,
          0.0614014,
          1.9289334,
          1.6093006,
          -2.0504239,
          -0.22926934,
          1.118047,
          2.3562346,
          -2.295503,
          -2.3727248,
          -1.742224,
          -1.0756359,
          -1.5709778,
          -2.931313,
          -1.2191925,
          -0.15456447,
          -1.0596578,
          1.2207775,
          -0.442975,
          -3.2584112,
          -0.51811653,
          1.9934577,
          1.1014304,
          -1.2030505,
          0.3152012,
          -1.79143,
          0.27366912,
          -2.634452,
          -2.8916647,
          3.198713,
          0.817162,
          -3.4667473,
          0.0078011956,
          -1.493095,
          -1.1310769,
          -0.47813407,
          -0.2534398,
          1.5639015,
          0.14529628,
          1.3906953,
          1.6817261,
          -2.4982686,
          -2.7526972,
          2.6327548,
          2.684674,
          -2.3613012,
          1.1038877,
          -2.6404853,
          -1.5333649,
          2.1765466,
          -1.9669358,
          0.69660527,
          0.2106943,
          0.7996443,
          1.1665676,
          1.5044705,
          1.3624727,
          0.04595392,
          -0.33748642,
          -2.4970238,
          2.7999578,
          0.7066436,
          -2.6767242,
          -0.5713707,
          -0.096080326,
          -1.3984672,
          -0.52235544,
          0.8829006,
          1.7486154,
          0.72380227,
          0.4985869,
          1.3093582,
          0.06671154,
          0.7756143,
          1.8306093,
          1.4608127
         ],
         "y": [
          0.043718968,
          -1.3592389,
          -1.2373586,
          -0.82235587,
          -0.39887917,
          -2.701417,
          -0.66083634,
          -2.2600064,
          -1.1498216,
          -1.2602099,
          -2.4614673,
          -1.1939472,
          -2.9311283,
          1.8857421,
          -3.3351197,
          1.298866,
          -0.0879452,
          -0.69632536,
          -1.8393801,
          0.22403027,
          -0.6222223,
          -0.08831807,
          -0.54700935,
          -0.060995944,
          -1.306328,
          0.16570191,
          -0.40230474,
          0.0011533655,
          0.96496606,
          1.0242382,
          -0.29274336,
          0.4746332,
          -0.83980757,
          -1.8969929,
          0.8374699,
          -0.9185423,
          -0.8426378,
          -2.0928988,
          -1.220011,
          -0.28952983,
          -0.7184653,
          -0.870213,
          -3.4040082,
          -1.409255,
          -1.066803,
          -1.1205895,
          -0.45152545,
          1.1666694,
          -0.36528876,
          -2.7343032,
          0.8271164,
          -0.5983148,
          -2.3280818,
          -2.074519,
          -2.3255122,
          1.2318406,
          -1.9824257,
          -2.4954152,
          0.0046017515,
          -0.7304235,
          -1.8610535,
          -0.3421851,
          -0.040615205,
          2.2637079,
          -0.87222254,
          -1.8550006,
          -0.25116792,
          -1.1591092,
          0.8442043,
          -1.2703176,
          0.19291712,
          -0.4790766,
          -1.7870429,
          0.23764534,
          1.8549507,
          1.3349082,
          -1.4846041
         ],
         "z": [
          -3.5579119,
          0.64535826,
          -0.61827105,
          -3.031888,
          -3.1477757,
          -1.52196,
          -1.2907602,
          -1.0506396,
          -2.3065546,
          0.012080265,
          -0.0766276,
          0.67004764,
          -1.4748318,
          -0.751967,
          0.1433234,
          -1.1041119,
          -2.5318754,
          -0.77751356,
          -2.3721821,
          -2.9642136,
          -1.0901968,
          -2.9220138,
          -3.0230584,
          0.0751455,
          -3.004656,
          -0.3380074,
          -2.7286777,
          -1.8070549,
          -0.05182532,
          -0.061263405,
          -1.1179049,
          1.1041976,
          -1.1564404,
          -1.8674783,
          -0.96989393,
          -0.7901298,
          1.4031667,
          -1.9164858,
          -1.061987,
          -1.4257653,
          -3.169085,
          -1.784022,
          -0.4026273,
          -2.331468,
          0.8928526,
          1.0218018,
          -2.4804723,
          -1.5051847,
          0.4315615,
          -1.633923,
          1.7760879,
          -2.640409,
          -1.4877441,
          -0.46317878,
          -1.218164,
          -1.9428192,
          -0.41748774,
          -0.17868574,
          -0.75611067,
          1.5018563,
          -1.9561801,
          -0.09932278,
          -0.73430794,
          0.94833934,
          -2.0150523,
          -1.179195,
          -2.907183,
          -2.065116,
          -1.7763672,
          -2.301918,
          -1.3615259,
          -1.2069447,
          -0.5576403,
          0.12577517,
          0.91273004,
          1.2725272,
          -0.80253744
         ]
        },
        {
         "customdata": [
          [
           16.12
          ],
          [
           11.02
          ],
          [
           11.24
          ]
         ],
         "hovertemplate": "Cluster=Cluster 3<br>0=%{x}<br>1=%{y}<br>2=%{z}<br>Feature=%{customdata[0]}<extra></extra>",
         "legendgroup": "Cluster 3",
         "marker": {
          "color": "#ab63fa",
          "opacity": 0.7,
          "symbol": "circle"
         },
         "mode": "markers",
         "name": "Cluster 3",
         "scene": "scene",
         "showlegend": true,
         "type": "scatter3d",
         "x": [
          -3.4837399,
          -3.3690062,
          -3.433364
         ],
         "y": [
          1.8102822,
          1.8787112,
          1.8360845
         ],
         "z": [
          -2.9852307,
          -3.1409886,
          -3.0543015
         ]
        }
       ],
       "layout": {
        "height": 800,
        "legend": {
         "title": {
          "text": "Cluster"
         },
         "tracegroupgap": 0
        },
        "scene": {
         "domain": {
          "x": [
           0,
           1
          ],
          "y": [
           0,
           1
          ]
         },
         "xaxis": {
          "title": {
           "text": "0"
          }
         },
         "yaxis": {
          "title": {
           "text": "1"
          }
         },
         "zaxis": {
          "title": {
           "text": "2"
          }
         }
        },
        "template": {
         "data": {
          "bar": [
           {
            "error_x": {
             "color": "#2a3f5f"
            },
            "error_y": {
             "color": "#2a3f5f"
            },
            "marker": {
             "line": {
              "color": "#E5ECF6",
              "width": 0.5
             },
             "pattern": {
              "fillmode": "overlay",
              "size": 10,
              "solidity": 0.2
             }
            },
            "type": "bar"
           }
          ],
          "barpolar": [
           {
            "marker": {
             "line": {
              "color": "#E5ECF6",
              "width": 0.5
             },
             "pattern": {
              "fillmode": "overlay",
              "size": 10,
              "solidity": 0.2
             }
            },
            "type": "barpolar"
           }
          ],
          "carpet": [
           {
            "aaxis": {
             "endlinecolor": "#2a3f5f",
             "gridcolor": "white",
             "linecolor": "white",
             "minorgridcolor": "white",
             "startlinecolor": "#2a3f5f"
            },
            "baxis": {
             "endlinecolor": "#2a3f5f",
             "gridcolor": "white",
             "linecolor": "white",
             "minorgridcolor": "white",
             "startlinecolor": "#2a3f5f"
            },
            "type": "carpet"
           }
          ],
          "choropleth": [
           {
            "colorbar": {
             "outlinewidth": 0,
             "ticks": ""
            },
            "type": "choropleth"
           }
          ],
          "contour": [
           {
            "colorbar": {
             "outlinewidth": 0,
             "ticks": ""
            },
            "colorscale": [
             [
              0,
              "#0d0887"
             ],
             [
              0.1111111111111111,
              "#46039f"
             ],
             [
              0.2222222222222222,
              "#7201a8"
             ],
             [
              0.3333333333333333,
              "#9c179e"
             ],
             [
              0.4444444444444444,
              "#bd3786"
             ],
             [
              0.5555555555555556,
              "#d8576b"
             ],
             [
              0.6666666666666666,
              "#ed7953"
             ],
             [
              0.7777777777777778,
              "#fb9f3a"
             ],
             [
              0.8888888888888888,
              "#fdca26"
             ],
             [
              1,
              "#f0f921"
             ]
            ],
            "type": "contour"
           }
          ],
          "contourcarpet": [
           {
            "colorbar": {
             "outlinewidth": 0,
             "ticks": ""
            },
            "type": "contourcarpet"
           }
          ],
          "heatmap": [
           {
            "colorbar": {
             "outlinewidth": 0,
             "ticks": ""
            },
            "colorscale": [
             [
              0,
              "#0d0887"
             ],
             [
              0.1111111111111111,
              "#46039f"
             ],
             [
              0.2222222222222222,
              "#7201a8"
             ],
             [
              0.3333333333333333,
              "#9c179e"
             ],
             [
              0.4444444444444444,
              "#bd3786"
             ],
             [
              0.5555555555555556,
              "#d8576b"
             ],
             [
              0.6666666666666666,
              "#ed7953"
             ],
             [
              0.7777777777777778,
              "#fb9f3a"
             ],
             [
              0.8888888888888888,
              "#fdca26"
             ],
             [
              1,
              "#f0f921"
             ]
            ],
            "type": "heatmap"
           }
          ],
          "heatmapgl": [
           {
            "colorbar": {
             "outlinewidth": 0,
             "ticks": ""
            },
            "colorscale": [
             [
              0,
              "#0d0887"
             ],
             [
              0.1111111111111111,
              "#46039f"
             ],
             [
              0.2222222222222222,
              "#7201a8"
             ],
             [
              0.3333333333333333,
              "#9c179e"
             ],
             [
              0.4444444444444444,
              "#bd3786"
             ],
             [
              0.5555555555555556,
              "#d8576b"
             ],
             [
              0.6666666666666666,
              "#ed7953"
             ],
             [
              0.7777777777777778,
              "#fb9f3a"
             ],
             [
              0.8888888888888888,
              "#fdca26"
             ],
             [
              1,
              "#f0f921"
             ]
            ],
            "type": "heatmapgl"
           }
          ],
          "histogram": [
           {
            "marker": {
             "pattern": {
              "fillmode": "overlay",
              "size": 10,
              "solidity": 0.2
             }
            },
            "type": "histogram"
           }
          ],
          "histogram2d": [
           {
            "colorbar": {
             "outlinewidth": 0,
             "ticks": ""
            },
            "colorscale": [
             [
              0,
              "#0d0887"
             ],
             [
              0.1111111111111111,
              "#46039f"
             ],
             [
              0.2222222222222222,
              "#7201a8"
             ],
             [
              0.3333333333333333,
              "#9c179e"
             ],
             [
              0.4444444444444444,
              "#bd3786"
             ],
             [
              0.5555555555555556,
              "#d8576b"
             ],
             [
              0.6666666666666666,
              "#ed7953"
             ],
             [
              0.7777777777777778,
              "#fb9f3a"
             ],
             [
              0.8888888888888888,
              "#fdca26"
             ],
             [
              1,
              "#f0f921"
             ]
            ],
            "type": "histogram2d"
           }
          ],
          "histogram2dcontour": [
           {
            "colorbar": {
             "outlinewidth": 0,
             "ticks": ""
            },
            "colorscale": [
             [
              0,
              "#0d0887"
             ],
             [
              0.1111111111111111,
              "#46039f"
             ],
             [
              0.2222222222222222,
              "#7201a8"
             ],
             [
              0.3333333333333333,
              "#9c179e"
             ],
             [
              0.4444444444444444,
              "#bd3786"
             ],
             [
              0.5555555555555556,
              "#d8576b"
             ],
             [
              0.6666666666666666,
              "#ed7953"
             ],
             [
              0.7777777777777778,
              "#fb9f3a"
             ],
             [
              0.8888888888888888,
              "#fdca26"
             ],
             [
              1,
              "#f0f921"
             ]
            ],
            "type": "histogram2dcontour"
           }
          ],
          "mesh3d": [
           {
            "colorbar": {
             "outlinewidth": 0,
             "ticks": ""
            },
            "type": "mesh3d"
           }
          ],
          "parcoords": [
           {
            "line": {
             "colorbar": {
              "outlinewidth": 0,
              "ticks": ""
             }
            },
            "type": "parcoords"
           }
          ],
          "pie": [
           {
            "automargin": true,
            "type": "pie"
           }
          ],
          "scatter": [
           {
            "fillpattern": {
             "fillmode": "overlay",
             "size": 10,
             "solidity": 0.2
            },
            "type": "scatter"
           }
          ],
          "scatter3d": [
           {
            "line": {
             "colorbar": {
              "outlinewidth": 0,
              "ticks": ""
             }
            },
            "marker": {
             "colorbar": {
              "outlinewidth": 0,
              "ticks": ""
             }
            },
            "type": "scatter3d"
           }
          ],
          "scattercarpet": [
           {
            "marker": {
             "colorbar": {
              "outlinewidth": 0,
              "ticks": ""
             }
            },
            "type": "scattercarpet"
           }
          ],
          "scattergeo": [
           {
            "marker": {
             "colorbar": {
              "outlinewidth": 0,
              "ticks": ""
             }
            },
            "type": "scattergeo"
           }
          ],
          "scattergl": [
           {
            "marker": {
             "colorbar": {
              "outlinewidth": 0,
              "ticks": ""
             }
            },
            "type": "scattergl"
           }
          ],
          "scattermapbox": [
           {
            "marker": {
             "colorbar": {
              "outlinewidth": 0,
              "ticks": ""
             }
            },
            "type": "scattermapbox"
           }
          ],
          "scatterpolar": [
           {
            "marker": {
             "colorbar": {
              "outlinewidth": 0,
              "ticks": ""
             }
            },
            "type": "scatterpolar"
           }
          ],
          "scatterpolargl": [
           {
            "marker": {
             "colorbar": {
              "outlinewidth": 0,
              "ticks": ""
             }
            },
            "type": "scatterpolargl"
           }
          ],
          "scatterternary": [
           {
            "marker": {
             "colorbar": {
              "outlinewidth": 0,
              "ticks": ""
             }
            },
            "type": "scatterternary"
           }
          ],
          "surface": [
           {
            "colorbar": {
             "outlinewidth": 0,
             "ticks": ""
            },
            "colorscale": [
             [
              0,
              "#0d0887"
             ],
             [
              0.1111111111111111,
              "#46039f"
             ],
             [
              0.2222222222222222,
              "#7201a8"
             ],
             [
              0.3333333333333333,
              "#9c179e"
             ],
             [
              0.4444444444444444,
              "#bd3786"
             ],
             [
              0.5555555555555556,
              "#d8576b"
             ],
             [
              0.6666666666666666,
              "#ed7953"
             ],
             [
              0.7777777777777778,
              "#fb9f3a"
             ],
             [
              0.8888888888888888,
              "#fdca26"
             ],
             [
              1,
              "#f0f921"
             ]
            ],
            "type": "surface"
           }
          ],
          "table": [
           {
            "cells": {
             "fill": {
              "color": "#EBF0F8"
             },
             "line": {
              "color": "white"
             }
            },
            "header": {
             "fill": {
              "color": "#C8D4E3"
             },
             "line": {
              "color": "white"
             }
            },
            "type": "table"
           }
          ]
         },
         "layout": {
          "annotationdefaults": {
           "arrowcolor": "#2a3f5f",
           "arrowhead": 0,
           "arrowwidth": 1
          },
          "autotypenumbers": "strict",
          "coloraxis": {
           "colorbar": {
            "outlinewidth": 0,
            "ticks": ""
           }
          },
          "colorscale": {
           "diverging": [
            [
             0,
             "#8e0152"
            ],
            [
             0.1,
             "#c51b7d"
            ],
            [
             0.2,
             "#de77ae"
            ],
            [
             0.3,
             "#f1b6da"
            ],
            [
             0.4,
             "#fde0ef"
            ],
            [
             0.5,
             "#f7f7f7"
            ],
            [
             0.6,
             "#e6f5d0"
            ],
            [
             0.7,
             "#b8e186"
            ],
            [
             0.8,
             "#7fbc41"
            ],
            [
             0.9,
             "#4d9221"
            ],
            [
             1,
             "#276419"
            ]
           ],
           "sequential": [
            [
             0,
             "#0d0887"
            ],
            [
             0.1111111111111111,
             "#46039f"
            ],
            [
             0.2222222222222222,
             "#7201a8"
            ],
            [
             0.3333333333333333,
             "#9c179e"
            ],
            [
             0.4444444444444444,
             "#bd3786"
            ],
            [
             0.5555555555555556,
             "#d8576b"
            ],
            [
             0.6666666666666666,
             "#ed7953"
            ],
            [
             0.7777777777777778,
             "#fb9f3a"
            ],
            [
             0.8888888888888888,
             "#fdca26"
            ],
            [
             1,
             "#f0f921"
            ]
           ],
           "sequentialminus": [
            [
             0,
             "#0d0887"
            ],
            [
             0.1111111111111111,
             "#46039f"
            ],
            [
             0.2222222222222222,
             "#7201a8"
            ],
            [
             0.3333333333333333,
             "#9c179e"
            ],
            [
             0.4444444444444444,
             "#bd3786"
            ],
            [
             0.5555555555555556,
             "#d8576b"
            ],
            [
             0.6666666666666666,
             "#ed7953"
            ],
            [
             0.7777777777777778,
             "#fb9f3a"
            ],
            [
             0.8888888888888888,
             "#fdca26"
            ],
            [
             1,
             "#f0f921"
            ]
           ]
          },
          "colorway": [
           "#636efa",
           "#EF553B",
           "#00cc96",
           "#ab63fa",
           "#FFA15A",
           "#19d3f3",
           "#FF6692",
           "#B6E880",
           "#FF97FF",
           "#FECB52"
          ],
          "font": {
           "color": "#2a3f5f"
          },
          "geo": {
           "bgcolor": "white",
           "lakecolor": "white",
           "landcolor": "#E5ECF6",
           "showlakes": true,
           "showland": true,
           "subunitcolor": "white"
          },
          "hoverlabel": {
           "align": "left"
          },
          "hovermode": "closest",
          "mapbox": {
           "style": "light"
          },
          "paper_bgcolor": "white",
          "plot_bgcolor": "#E5ECF6",
          "polar": {
           "angularaxis": {
            "gridcolor": "white",
            "linecolor": "white",
            "ticks": ""
           },
           "bgcolor": "#E5ECF6",
           "radialaxis": {
            "gridcolor": "white",
            "linecolor": "white",
            "ticks": ""
           }
          },
          "scene": {
           "xaxis": {
            "backgroundcolor": "#E5ECF6",
            "gridcolor": "white",
            "gridwidth": 2,
            "linecolor": "white",
            "showbackground": true,
            "ticks": "",
            "zerolinecolor": "white"
           },
           "yaxis": {
            "backgroundcolor": "#E5ECF6",
            "gridcolor": "white",
            "gridwidth": 2,
            "linecolor": "white",
            "showbackground": true,
            "ticks": "",
            "zerolinecolor": "white"
           },
           "zaxis": {
            "backgroundcolor": "#E5ECF6",
            "gridcolor": "white",
            "gridwidth": 2,
            "linecolor": "white",
            "showbackground": true,
            "ticks": "",
            "zerolinecolor": "white"
           }
          },
          "shapedefaults": {
           "line": {
            "color": "#2a3f5f"
           }
          },
          "ternary": {
           "aaxis": {
            "gridcolor": "white",
            "linecolor": "white",
            "ticks": ""
           },
           "baxis": {
            "gridcolor": "white",
            "linecolor": "white",
            "ticks": ""
           },
           "bgcolor": "#E5ECF6",
           "caxis": {
            "gridcolor": "white",
            "linecolor": "white",
            "ticks": ""
           }
          },
          "title": {
           "x": 0.05
          },
          "xaxis": {
           "automargin": true,
           "gridcolor": "white",
           "linecolor": "white",
           "ticks": "",
           "title": {
            "standoff": 15
           },
           "zerolinecolor": "white",
           "zerolinewidth": 2
          },
          "yaxis": {
           "automargin": true,
           "gridcolor": "white",
           "linecolor": "white",
           "ticks": "",
           "title": {
            "standoff": 15
           },
           "zerolinecolor": "white",
           "zerolinewidth": 2
          }
         }
        },
        "title": {
         "text": "3d TSNE Plot for Clusters"
        },
        "width": 900
       }
      }
     },
     "metadata": {},
     "output_type": "display_data"
    }
   ],
   "source": [
    "setup(data = seedDataSet, normalize = True, normalize_method = 'zscore', verbose=False)\n",
    "x = create_model('kmeans', num_clusters = 4)\n",
    "plot_model(x, plot = 'tsne')"
   ]
  },
  {
   "cell_type": "code",
   "execution_count": 75,
   "metadata": {},
   "outputs": [
    {
     "name": "stdout",
     "output_type": "stream",
     "text": [
      "For Cluster = 3\n"
     ]
    },
    {
     "data": {
      "text/html": [],
      "text/plain": [
       "<IPython.core.display.HTML object>"
      ]
     },
     "metadata": {},
     "output_type": "display_data"
    },
    {
     "data": {
      "text/html": [
       "<style type=\"text/css\">\n",
       "</style>\n",
       "<table id=\"T_b5ed2\">\n",
       "  <thead>\n",
       "    <tr>\n",
       "      <th class=\"blank level0\" >&nbsp;</th>\n",
       "      <th id=\"T_b5ed2_level0_col0\" class=\"col_heading level0 col0\" >Silhouette</th>\n",
       "      <th id=\"T_b5ed2_level0_col1\" class=\"col_heading level0 col1\" >Calinski-Harabasz</th>\n",
       "      <th id=\"T_b5ed2_level0_col2\" class=\"col_heading level0 col2\" >Davies-Bouldin</th>\n",
       "      <th id=\"T_b5ed2_level0_col3\" class=\"col_heading level0 col3\" >Homogeneity</th>\n",
       "      <th id=\"T_b5ed2_level0_col4\" class=\"col_heading level0 col4\" >Rand Index</th>\n",
       "      <th id=\"T_b5ed2_level0_col5\" class=\"col_heading level0 col5\" >Completeness</th>\n",
       "    </tr>\n",
       "  </thead>\n",
       "  <tbody>\n",
       "    <tr>\n",
       "      <th id=\"T_b5ed2_level0_row0\" class=\"row_heading level0 row0\" >0</th>\n",
       "      <td id=\"T_b5ed2_row0_col0\" class=\"data row0 col0\" >0.3986</td>\n",
       "      <td id=\"T_b5ed2_row0_col1\" class=\"data row0 col1\" >213.6218</td>\n",
       "      <td id=\"T_b5ed2_row0_col2\" class=\"data row0 col2\" >0.9698</td>\n",
       "      <td id=\"T_b5ed2_row0_col3\" class=\"data row0 col3\" >0</td>\n",
       "      <td id=\"T_b5ed2_row0_col4\" class=\"data row0 col4\" >0</td>\n",
       "      <td id=\"T_b5ed2_row0_col5\" class=\"data row0 col5\" >0</td>\n",
       "    </tr>\n",
       "  </tbody>\n",
       "</table>\n"
      ],
      "text/plain": [
       "<pandas.io.formats.style.Styler at 0x22b8adc02d0>"
      ]
     },
     "metadata": {},
     "output_type": "display_data"
    },
    {
     "data": {
      "text/html": [],
      "text/plain": [
       "<IPython.core.display.HTML object>"
      ]
     },
     "metadata": {},
     "output_type": "display_data"
    },
    {
     "name": "stdout",
     "output_type": "stream",
     "text": [
      "For Cluster = 4\n"
     ]
    },
    {
     "data": {
      "text/html": [],
      "text/plain": [
       "<IPython.core.display.HTML object>"
      ]
     },
     "metadata": {},
     "output_type": "display_data"
    },
    {
     "data": {
      "text/html": [
       "<style type=\"text/css\">\n",
       "</style>\n",
       "<table id=\"T_26aba\">\n",
       "  <thead>\n",
       "    <tr>\n",
       "      <th class=\"blank level0\" >&nbsp;</th>\n",
       "      <th id=\"T_26aba_level0_col0\" class=\"col_heading level0 col0\" >Silhouette</th>\n",
       "      <th id=\"T_26aba_level0_col1\" class=\"col_heading level0 col1\" >Calinski-Harabasz</th>\n",
       "      <th id=\"T_26aba_level0_col2\" class=\"col_heading level0 col2\" >Davies-Bouldin</th>\n",
       "      <th id=\"T_26aba_level0_col3\" class=\"col_heading level0 col3\" >Homogeneity</th>\n",
       "      <th id=\"T_26aba_level0_col4\" class=\"col_heading level0 col4\" >Rand Index</th>\n",
       "      <th id=\"T_26aba_level0_col5\" class=\"col_heading level0 col5\" >Completeness</th>\n",
       "    </tr>\n",
       "  </thead>\n",
       "  <tbody>\n",
       "    <tr>\n",
       "      <th id=\"T_26aba_level0_row0\" class=\"row_heading level0 row0\" >0</th>\n",
       "      <td id=\"T_26aba_row0_col0\" class=\"data row0 col0\" >0.4044</td>\n",
       "      <td id=\"T_26aba_row0_col1\" class=\"data row0 col1\" >172.6593</td>\n",
       "      <td id=\"T_26aba_row0_col2\" class=\"data row0 col2\" >0.8558</td>\n",
       "      <td id=\"T_26aba_row0_col3\" class=\"data row0 col3\" >0</td>\n",
       "      <td id=\"T_26aba_row0_col4\" class=\"data row0 col4\" >0</td>\n",
       "      <td id=\"T_26aba_row0_col5\" class=\"data row0 col5\" >0</td>\n",
       "    </tr>\n",
       "  </tbody>\n",
       "</table>\n"
      ],
      "text/plain": [
       "<pandas.io.formats.style.Styler at 0x22b8bf45e10>"
      ]
     },
     "metadata": {},
     "output_type": "display_data"
    },
    {
     "data": {
      "text/html": [],
      "text/plain": [
       "<IPython.core.display.HTML object>"
      ]
     },
     "metadata": {},
     "output_type": "display_data"
    },
    {
     "name": "stdout",
     "output_type": "stream",
     "text": [
      "For Cluster = 5\n"
     ]
    },
    {
     "data": {
      "text/html": [],
      "text/plain": [
       "<IPython.core.display.HTML object>"
      ]
     },
     "metadata": {},
     "output_type": "display_data"
    },
    {
     "data": {
      "text/html": [
       "<style type=\"text/css\">\n",
       "</style>\n",
       "<table id=\"T_421d9\">\n",
       "  <thead>\n",
       "    <tr>\n",
       "      <th class=\"blank level0\" >&nbsp;</th>\n",
       "      <th id=\"T_421d9_level0_col0\" class=\"col_heading level0 col0\" >Silhouette</th>\n",
       "      <th id=\"T_421d9_level0_col1\" class=\"col_heading level0 col1\" >Calinski-Harabasz</th>\n",
       "      <th id=\"T_421d9_level0_col2\" class=\"col_heading level0 col2\" >Davies-Bouldin</th>\n",
       "      <th id=\"T_421d9_level0_col3\" class=\"col_heading level0 col3\" >Homogeneity</th>\n",
       "      <th id=\"T_421d9_level0_col4\" class=\"col_heading level0 col4\" >Rand Index</th>\n",
       "      <th id=\"T_421d9_level0_col5\" class=\"col_heading level0 col5\" >Completeness</th>\n",
       "    </tr>\n",
       "  </thead>\n",
       "  <tbody>\n",
       "    <tr>\n",
       "      <th id=\"T_421d9_level0_row0\" class=\"row_heading level0 row0\" >0</th>\n",
       "      <td id=\"T_421d9_row0_col0\" class=\"data row0 col0\" >0.3414</td>\n",
       "      <td id=\"T_421d9_row0_col1\" class=\"data row0 col1\" >156.8165</td>\n",
       "      <td id=\"T_421d9_row0_col2\" class=\"data row0 col2\" >1.0103</td>\n",
       "      <td id=\"T_421d9_row0_col3\" class=\"data row0 col3\" >0</td>\n",
       "      <td id=\"T_421d9_row0_col4\" class=\"data row0 col4\" >0</td>\n",
       "      <td id=\"T_421d9_row0_col5\" class=\"data row0 col5\" >0</td>\n",
       "    </tr>\n",
       "  </tbody>\n",
       "</table>\n"
      ],
      "text/plain": [
       "<pandas.io.formats.style.Styler at 0x22b8ae48fd0>"
      ]
     },
     "metadata": {},
     "output_type": "display_data"
    },
    {
     "data": {
      "text/html": [],
      "text/plain": [
       "<IPython.core.display.HTML object>"
      ]
     },
     "metadata": {},
     "output_type": "display_data"
    }
   ],
   "source": [
    "setup(data = seedDataSet, normalize = True, normalize_method = 'minmax', verbose=False)\n",
    "\n",
    "print(\"For Cluster = 3\")\n",
    "x2 = create_model('kmeans', num_clusters = 3)\n",
    "\n",
    "print(\"For Cluster = 4\")\n",
    "y2 = create_model('kmeans', num_clusters = 4)\n",
    "\n",
    "print(\"For Cluster = 5\")\n",
    "z2 = create_model('kmeans', num_clusters = 5)"
   ]
  },
  {
   "cell_type": "code",
   "execution_count": 69,
   "metadata": {},
   "outputs": [
    {
     "data": {
      "text/html": [],
      "text/plain": [
       "<IPython.core.display.HTML object>"
      ]
     },
     "metadata": {},
     "output_type": "display_data"
    },
    {
     "data": {
      "text/html": [
       "<style type=\"text/css\">\n",
       "</style>\n",
       "<table id=\"T_7f433\">\n",
       "  <thead>\n",
       "    <tr>\n",
       "      <th class=\"blank level0\" >&nbsp;</th>\n",
       "      <th id=\"T_7f433_level0_col0\" class=\"col_heading level0 col0\" >Silhouette</th>\n",
       "      <th id=\"T_7f433_level0_col1\" class=\"col_heading level0 col1\" >Calinski-Harabasz</th>\n",
       "      <th id=\"T_7f433_level0_col2\" class=\"col_heading level0 col2\" >Davies-Bouldin</th>\n",
       "      <th id=\"T_7f433_level0_col3\" class=\"col_heading level0 col3\" >Homogeneity</th>\n",
       "      <th id=\"T_7f433_level0_col4\" class=\"col_heading level0 col4\" >Rand Index</th>\n",
       "      <th id=\"T_7f433_level0_col5\" class=\"col_heading level0 col5\" >Completeness</th>\n",
       "    </tr>\n",
       "  </thead>\n",
       "  <tbody>\n",
       "    <tr>\n",
       "      <th id=\"T_7f433_level0_row0\" class=\"row_heading level0 row0\" >0</th>\n",
       "      <td id=\"T_7f433_row0_col0\" class=\"data row0 col0\" >0.4046</td>\n",
       "      <td id=\"T_7f433_row0_col1\" class=\"data row0 col1\" >172.6624</td>\n",
       "      <td id=\"T_7f433_row0_col2\" class=\"data row0 col2\" >0.8565</td>\n",
       "      <td id=\"T_7f433_row0_col3\" class=\"data row0 col3\" >0</td>\n",
       "      <td id=\"T_7f433_row0_col4\" class=\"data row0 col4\" >0</td>\n",
       "      <td id=\"T_7f433_row0_col5\" class=\"data row0 col5\" >0</td>\n",
       "    </tr>\n",
       "  </tbody>\n",
       "</table>\n"
      ],
      "text/plain": [
       "<pandas.io.formats.style.Styler at 0x22b8be1a590>"
      ]
     },
     "metadata": {},
     "output_type": "display_data"
    },
    {
     "data": {
      "text/html": [],
      "text/plain": [
       "<IPython.core.display.HTML object>"
      ]
     },
     "metadata": {},
     "output_type": "display_data"
    },
    {
     "data": {
      "text/html": [],
      "text/plain": [
       "<IPython.core.display.HTML object>"
      ]
     },
     "metadata": {},
     "output_type": "display_data"
    },
    {
     "data": {
      "application/vnd.plotly.v1+json": {
       "config": {
        "plotlyServerURL": "https://plot.ly"
       },
       "data": [
        {
         "customdata": [
          [
           15.26
          ],
          [
           14.49
          ],
          [
           15.78
          ],
          [
           14.86
          ],
          [
           14.79
          ],
          [
           14.99
          ],
          [
           15.36
          ],
          [
           14.33
          ],
          [
           13.8
          ],
          [
           15.5
          ],
          [
           13.16
          ],
          [
           13.5
          ],
          [
           13.54
          ],
          [
           14.28
          ],
          [
           14.8
          ],
          [
           15.11
          ],
          [
           16.2
          ],
          [
           14.52
          ],
          [
           14.46
          ],
          [
           15.99
          ],
          [
           15.38
          ],
          [
           15.56
          ],
          [
           14.37
          ],
          [
           14.01
          ],
          [
           14.34
          ],
          [
           15.03
          ],
          [
           12.88
          ],
          [
           15.38
          ],
          [
           12.36
          ],
          [
           15.57
          ],
          [
           15.6
          ],
          [
           15.38
          ],
          [
           14.92
          ],
          [
           12.78
          ],
          [
           16.12
          ],
          [
           14.43
          ],
          [
           13.94
          ],
          [
           14.59
          ],
          [
           13.74
          ],
          [
           13.78
          ],
          [
           13.89
          ],
          [
           14.03
          ],
          [
           15.26
          ],
          [
           16.44
          ],
          [
           12.67
          ],
          [
           14.11
          ],
          [
           14.69
          ],
          [
           14.38
          ],
          [
           15.05
          ],
          [
           13.84
          ],
          [
           14.29
          ],
          [
           14.88
          ],
          [
           13.99
          ],
          [
           15.69
          ],
          [
           16.14
          ],
          [
           12.76
          ],
          [
           14.7
          ],
          [
           14.09
          ],
          [
           13.16
          ],
          [
           13.45
          ],
          [
           14.11
          ],
          [
           12.1
          ],
          [
           13.37
          ],
          [
           15.49
          ],
          [
           15.01
          ],
          [
           12.08
          ],
          [
           15.88
          ],
          [
           14.11
          ],
          [
           14.16
          ],
          [
           16.19
          ]
         ],
         "hovertemplate": "Cluster=Cluster 0<br>0=%{x}<br>1=%{y}<br>2=%{z}<br>Feature=%{customdata[0]}<extra></extra>",
         "legendgroup": "Cluster 0",
         "marker": {
          "color": "#636efa",
          "opacity": 0.7,
          "symbol": "circle"
         },
         "mode": "markers",
         "name": "Cluster 0",
         "scene": "scene",
         "showlegend": true,
         "type": "scatter3d",
         "x": [
          0.967484,
          -0.434309,
          2.1792524,
          0.5531848,
          0.49164402,
          0.88900113,
          1.3288779,
          0.07271347,
          -1.0491488,
          2.4264684,
          -1.5039968,
          -1.0578604,
          -0.98288524,
          -1.7410501,
          0.70911354,
          1.2726438,
          2.7607076,
          0.1680724,
          0.12421091,
          1.9265789,
          2.461184,
          2.7872334,
          -0.17693095,
          -0.6659006,
          -0.25783944,
          0.699736,
          -2.0903847,
          1.6533618,
          -2.5002618,
          2.0249298,
          2.0260186,
          1.3619295,
          1.2189728,
          -2.695317,
          -1.0231103,
          0.25942072,
          -0.8470567,
          -0.34334052,
          -1.2558895,
          -1.1197692,
          -0.86445785,
          -0.72026056,
          1.590789,
          2.9532313,
          -1.8732922,
          -0.04009119,
          0.5164921,
          0.022918524,
          0.97882664,
          -0.5064932,
          -0.016491262,
          0.611193,
          -0.6049085,
          1.6881346,
          2.0151777,
          -1.9875222,
          0.65923166,
          -0.6860787,
          -2.3700597,
          -2.2201767,
          -0.44334874,
          -3.1737773,
          -2.055322,
          1.4032528,
          0.41966853,
          -3.2589808,
          1.8204315,
          -0.48050386,
          -0.7994466,
          2.104986
         ],
         "y": [
          -1.752054,
          0.21629822,
          1.5327605,
          -1.8295561,
          -0.7307699,
          -0.3280662,
          -2.241869,
          0.050596707,
          -1.947088,
          0.94961417,
          -0.60057974,
          -1.1522602,
          -0.8778553,
          3.4288406,
          -0.24341635,
          -0.041996483,
          -1.092132,
          -2.2603528,
          -0.53779316,
          0.0017912883,
          0.6301442,
          0.99862576,
          -2.2888575,
          -1.5500286,
          -2.3602495,
          -1.9965893,
          -0.5573075,
          0.23055327,
          -0.15907428,
          -1.3327293,
          -1.3021564,
          -1.7285954,
          -2.0047913,
          -1.8766806,
          1.9631728,
          0.505845,
          -1.5320314,
          1.4170126,
          -0.35703492,
          -0.16677563,
          1.1666257,
          -1.8787441,
          0.6673336,
          -1.6859506,
          -1.1848567,
          -0.48270658,
          0.20210518,
          -0.73788095,
          -1.6639434,
          -0.81652236,
          -0.62228006,
          -2.5360236,
          2.29326,
          -1.8274752,
          -2.0303018,
          -0.47509146,
          -1.2966368,
          0.16069044,
          -2.1280956,
          0.22076257,
          -0.60226345,
          -0.89449376,
          1.9929576,
          -0.24528901,
          -2.3062823,
          -1.5851166,
          -2.2362552,
          -0.9080244,
          -0.46957955,
          -2.3189473
         ],
         "z": [
          -0.13767788,
          1.2440319,
          -0.06440255,
          0.107933074,
          -1.0728207,
          -1.4671342,
          -1.5303876,
          -1.0611805,
          -1.3061785,
          0.45558628,
          -3.0231287,
          -1.9283439,
          -2.0138197,
          -1.573006,
          -0.8805169,
          -2.0667725,
          0.1829897,
          0.6537887,
          -1.2958262,
          -2.2188337,
          1.059655,
          0.6574324,
          -0.46473482,
          0.11738478,
          -0.6532075,
          0.31175795,
          -2.6772444,
          -1.8866193,
          -2.717855,
          1.3331258,
          1.1891159,
          -1.2569884,
          -2.5844073,
          -1.1270554,
          -2.7982411,
          -0.3196724,
          -0.71668226,
          -2.0098393,
          -0.8249269,
          -0.8881826,
          -1.7014399,
          -1.2644256,
          0.66177386,
          -0.87698066,
          -2.9350488,
          -1.9812626,
          -0.64100325,
          -2.5100102,
          -0.5777183,
          -2.8802395,
          -3.0668418,
          -1.4145857,
          -1.7930758,
          -2.5913696,
          -2.3498425,
          -2.8841836,
          -3.318261,
          1.1671392,
          -0.8639768,
          0.25722742,
          -1.2921578,
          -1.9703821,
          -1.2451118,
          0.091042235,
          -0.09837547,
          -1.1642547,
          -2.2760572,
          -0.4088098,
          0.7105066,
          -1.4911534
         ]
        },
        {
         "customdata": [
          [
           18.96
          ],
          [
           19.06
          ],
          [
           20.97
          ],
          [
           19.14
          ],
          [
           19.13
          ],
          [
           18.55
          ],
          [
           18.45
          ],
          [
           19.94
          ],
          [
           18.83
          ],
          [
           17.63
          ],
          [
           19.15
          ],
          [
           18.85
          ],
          [
           19.38
          ],
          [
           18.89
          ],
          [
           18.65
          ],
          [
           20.24
          ],
          [
           18.14
          ],
          [
           16.17
          ],
          [
           18.43
          ],
          [
           16.23
          ],
          [
           18.75
          ],
          [
           17.98
          ],
          [
           20.16
          ],
          [
           17.55
          ],
          [
           18.3
          ],
          [
           18.94
          ],
          [
           16.16
          ],
          [
           17.36
          ],
          [
           19.18
          ],
          [
           20.03
          ],
          [
           19.46
          ],
          [
           18.95
          ],
          [
           16.41
          ],
          [
           18.72
          ],
          [
           16.53
          ],
          [
           17.12
          ],
          [
           18.94
          ],
          [
           17.32
          ],
          [
           16.77
          ],
          [
           20.2
          ],
          [
           16.82
          ],
          [
           17.26
          ],
          [
           16.84
          ],
          [
           17.63
          ],
          [
           17.08
          ],
          [
           16.63
          ],
          [
           17.99
          ],
          [
           19.11
          ],
          [
           19.57
          ],
          [
           20.71
          ],
          [
           18.27
          ],
          [
           18.17
          ],
          [
           19.51
          ],
          [
           18.72
          ],
          [
           18.98
          ],
          [
           19.31
          ],
          [
           16.87
          ],
          [
           18.59
          ],
          [
           18.36
          ],
          [
           18.76
          ],
          [
           20.1
          ],
          [
           20.88
          ],
          [
           21.18
          ],
          [
           18.98
          ],
          [
           18.88
          ],
          [
           18.81
          ]
         ],
         "hovertemplate": "Cluster=Cluster 1<br>0=%{x}<br>1=%{y}<br>2=%{z}<br>Feature=%{customdata[0]}<extra></extra>",
         "legendgroup": "Cluster 1",
         "marker": {
          "color": "#EF553B",
          "opacity": 0.7,
          "symbol": "circle"
         },
         "mode": "markers",
         "name": "Cluster 1",
         "scene": "scene",
         "showlegend": true,
         "type": "scatter3d",
         "x": [
          6.612781,
          7.5780463,
          8.011521,
          6.6246753,
          7.2823358,
          7.074957,
          6.7051396,
          8.131558,
          7.0568414,
          4.9729724,
          7.434884,
          7.094815,
          7.219301,
          6.8656645,
          6.2509503,
          7.379457,
          5.6274953,
          3.1449041,
          6.4095263,
          3.5488973,
          6.749561,
          6.1851487,
          8.383123,
          5.585083,
          6.35614,
          7.169978,
          3.2152371,
          4.820507,
          7.252728,
          8.152999,
          7.0713353,
          7.0918627,
          3.3563883,
          6.364759,
          3.4227042,
          4.3684134,
          6.6325383,
          4.5239573,
          3.7343087,
          7.4824524,
          4.014414,
          4.332087,
          3.928287,
          5.067823,
          4.7521005,
          3.3571281,
          6.163248,
          7.1417265,
          8.164326,
          8.026833,
          6.7652316,
          6.483659,
          7.7260556,
          7.281221,
          7.5681815,
          7.4629145,
          4.186386,
          6.1958723,
          6.208362,
          6.9396687,
          8.381072,
          7.8663726,
          7.8017845,
          7.0093665,
          7.351637,
          6.930726
         ],
         "y": [
          -2.7395554,
          -0.351039,
          -1.5128236,
          -1.4074707,
          -1.7285937,
          -0.4876464,
          -1.0382692,
          0.028533386,
          -1.1338878,
          -0.20140804,
          -1.0212082,
          -2.1649644,
          -0.2124224,
          -2.2034502,
          -0.1652792,
          -1.9148421,
          -0.1782197,
          0.15434998,
          -2.2115223,
          0.15119381,
          -2.4373286,
          -1.4388618,
          0.4016167,
          -2.6493347,
          -2.2493727,
          -1.460922,
          0.22590894,
          -0.21490034,
          0.07764788,
          -0.2909933,
          -2.3345299,
          -0.68231773,
          0.4754483,
          -2.6268156,
          1.1312376,
          -0.99602497,
          -0.60739857,
          0.15840255,
          0.52406746,
          -1.7859987,
          0.08630825,
          0.3200951,
          0.3874611,
          0.13386855,
          -1.558449,
          -1.4032003,
          -1.3927867,
          -2.3607035,
          0.3536617,
          -0.9463967,
          -0.47972298,
          0.71534383,
          -0.20513934,
          -0.16014963,
          0.7692928,
          -0.5894037,
          -0.08903255,
          -2.7584076,
          0.58182466,
          -1.8017442,
          0.44257024,
          -2.1163445,
          -2.0772388,
          0.54293525,
          -1.0307282,
          -1.2018807
         ],
         "z": [
          0.97570837,
          -0.17795168,
          2.541309,
          3.0472944,
          -1.0349734,
          -0.9889774,
          -0.938915,
          1.5464995,
          -0.5000091,
          0.91511905,
          0.45834598,
          -0.48208347,
          1.6300379,
          0.4028297,
          2.0383694,
          2.764727,
          1.0962543,
          1.739817,
          -0.5643998,
          0.33663675,
          0.9002722,
          -1.0457722,
          0.45814186,
          1.781599,
          -0.7762207,
          -0.105352566,
          1.515576,
          0.849535,
          1.3870969,
          1.1954266,
          1.2607285,
          0.8440853,
          0.30245912,
          1.7846311,
          0.90826994,
          -0.32679576,
          2.5387485,
          1.9208813,
          1.7559278,
          2.5457506,
          0.8106859,
          1.1472226,
          1.8189627,
          1.6574887,
          -1.23053,
          -0.04980096,
          -1.1676817,
          -0.36696175,
          -0.026899092,
          2.423379,
          -0.3901444,
          1.1299151,
          0.9327987,
          -0.28648975,
          0.5864915,
          1.1684102,
          1.6134318,
          1.9279186,
          2.6146064,
          -0.020092823,
          0.58336335,
          2.531037,
          2.7249503,
          1.9906961,
          -1.1483469,
          0.36086124
         ]
        },
        {
         "customdata": [
          [
           11.65
          ],
          [
           10.91
          ],
          [
           11.81
          ],
          [
           11.56
          ],
          [
           12.89
          ],
          [
           12.19
          ],
          [
           11.26
          ],
          [
           11.41
          ],
          [
           10.83
          ],
          [
           12.21
          ],
          [
           11.48
          ],
          [
           10.74
          ],
          [
           10.8
          ],
          [
           11.23
          ],
          [
           12.46
          ],
          [
           10.59
          ],
          [
           12.37
          ],
          [
           11.27
          ],
          [
           13.2
          ],
          [
           11.23
          ],
          [
           12.19
          ],
          [
           11.4
          ],
          [
           12.7
          ],
          [
           11.18
          ],
          [
           12.38
          ],
          [
           12.72
          ],
          [
           12.62
          ],
          [
           13.02
          ],
          [
           12.79
          ],
          [
           12.8
          ],
          [
           12.11
          ],
          [
           10.82
          ],
          [
           11.87
          ],
          [
           10.93
          ],
          [
           11.27
          ],
          [
           11.19
          ],
          [
           12.01
          ],
          [
           12.7
          ],
          [
           12.49
          ],
          [
           11.43
          ],
          [
           11.21
          ],
          [
           11.82
          ],
          [
           12.22
          ],
          [
           13.34
          ],
          [
           13.32
          ],
          [
           13.07
          ],
          [
           12.11
          ],
          [
           11.42
          ],
          [
           11.23
          ],
          [
           13.22
          ],
          [
           12.73
          ],
          [
           11.84
          ],
          [
           10.79
          ],
          [
           11.83
          ],
          [
           12.3
          ],
          [
           12.26
          ],
          [
           11.35
          ],
          [
           12.15
          ],
          [
           12.44
          ],
          [
           12.74
          ],
          [
           11.14
          ],
          [
           12.55
          ],
          [
           11.55
          ],
          [
           12.05
          ],
          [
           12.54
          ],
          [
           11.49
          ],
          [
           11.75
          ],
          [
           12.13
          ],
          [
           11.34
          ],
          [
           11.36
          ],
          [
           11.18
          ],
          [
           12.02
          ]
         ],
         "hovertemplate": "Cluster=Cluster 2<br>0=%{x}<br>1=%{y}<br>2=%{z}<br>Feature=%{customdata[0]}<extra></extra>",
         "legendgroup": "Cluster 2",
         "marker": {
          "color": "#00cc96",
          "opacity": 0.7,
          "symbol": "circle"
         },
         "mode": "markers",
         "name": "Cluster 2",
         "scene": "scene",
         "showlegend": true,
         "type": "scatter3d",
         "x": [
          -4.738597,
          -6.5287642,
          -7.8911057,
          -7.7617793,
          -4.504711,
          -4.490468,
          -6.7634993,
          -4.8592234,
          -8.332905,
          -4.658951,
          -5.8108087,
          -6.9056873,
          -4.6927586,
          -5.2277646,
          -3.4198065,
          -4.440381,
          -4.1441045,
          -4.7422295,
          -2.4844604,
          -5.218694,
          -3.2110288,
          -6.575787,
          -2.5684378,
          -4.1190553,
          -4.0983796,
          -3.131542,
          -4.928135,
          -2.8679876,
          -2.8306992,
          -2.3669374,
          -3.8091009,
          -7.4462895,
          -3.4282286,
          -6.495122,
          -6.071851,
          -7.5881863,
          -7.6243625,
          -4.956745,
          -3.5578628,
          -5.689285,
          -8.049414,
          -7.2966785,
          -3.9535837,
          -4.1867743,
          -4.112883,
          -5.0685015,
          -4.4647403,
          -4.043682,
          -3.3533084,
          -2.6726618,
          -4.874301,
          -4.8077407,
          -8.314125,
          -5.4143906,
          -3.6654258,
          -6.820068,
          -7.1718917,
          -5.496798,
          -5.5151763,
          -3.7735891,
          -5.325778,
          -4.477684,
          -5.803405,
          -6.046551,
          -5.3744555,
          -7.5295086,
          -8.377255,
          -8.429861,
          -4.393583,
          -6.425451,
          -7.079652,
          -5.3032312
         ],
         "y": [
          2.8360176,
          1.729082,
          2.045725,
          1.4175682,
          3.5037282,
          2.2665112,
          2.8298628,
          2.6436915,
          2.456665,
          -1.2349722,
          3.4825742,
          2.2190344,
          2.5043793,
          4.3964615,
          2.3851423,
          2.6636188,
          0.99212646,
          1.6085122,
          4.065389,
          1.8897285,
          0.56074274,
          3.095467,
          4.1287017,
          1.875412,
          2.8997688,
          1.2240107,
          0.0040313643,
          0.24554443,
          2.606881,
          2.136214,
          1.410526,
          2.2925043,
          0.41163948,
          2.9778607,
          1.7762988,
          3.0617595,
          3.715203,
          -0.05194342,
          1.6336462,
          -0.80033976,
          3.140505,
          1.6714702,
          2.9330754,
          3.4911122,
          3.8203614,
          2.888356,
          -1.5412178,
          -0.43281436,
          -0.68505776,
          1.1206276,
          0.114174664,
          0.8882868,
          2.664957,
          2.6370766,
          2.982828,
          1.8714849,
          1.6521689,
          0.44524947,
          2.2096276,
          -0.74376225,
          3.9892387,
          1.5730577,
          4.059823,
          2.3455245,
          -0.17698702,
          2.6442285,
          1.724317,
          1.8888757,
          1.109861,
          1.3336924,
          0.812023,
          1.4080433
         ],
         "z": [
          0.34964207,
          1.4671167,
          0.10370563,
          0.55923927,
          -1.3699809,
          -0.27091375,
          0.80723375,
          1.1194298,
          0.81898177,
          0.14977604,
          0.57257193,
          1.4665763,
          1.5836093,
          0.37381256,
          -0.68194294,
          1.7747072,
          -0.065827884,
          1.2980484,
          -1.4372756,
          1.2662704,
          -1.6871103,
          0.6137945,
          -1.4013841,
          1.523049,
          -0.5285556,
          -0.54894954,
          -0.015721828,
          -0.15125383,
          -1.06276,
          -1.2887808,
          -0.12809531,
          1.2162521,
          -1.7689925,
          1.1085165,
          1.2035351,
          0.6142599,
          0.060165107,
          -0.054490913,
          -0.44393143,
          0.71102005,
          0.41636583,
          0.22642884,
          -0.48022118,
          -1.4709126,
          -1.5501242,
          -1.3845757,
          0.21564822,
          -1.644637,
          -2.3951175,
          -0.32343644,
          -0.02597486,
          0.6516371,
          0.7849592,
          -0.10326839,
          -0.5800207,
          -0.37255788,
          0.87515265,
          0.045594096,
          -0.65283394,
          -0.026338942,
          0.59871703,
          -0.46989724,
          0.41415262,
          -0.1245464,
          -0.038656805,
          0.3332483,
          0.28056967,
          0.09361509,
          1.2392539,
          0.8601459,
          1.0488514,
          -0.07264975
         ]
        },
        {
         "customdata": [
          [
           11.24
          ],
          [
           11.02
          ]
         ],
         "hovertemplate": "Cluster=Cluster 3<br>0=%{x}<br>1=%{y}<br>2=%{z}<br>Feature=%{customdata[0]}<extra></extra>",
         "legendgroup": "Cluster 3",
         "marker": {
          "color": "#ab63fa",
          "opacity": 0.7,
          "symbol": "circle"
         },
         "mode": "markers",
         "name": "Cluster 3",
         "scene": "scene",
         "showlegend": true,
         "type": "scatter3d",
         "x": [
          -1.4152136,
          -1.4543113
         ],
         "y": [
          1.7179027,
          1.7020112
         ],
         "z": [
          -3.8885505,
          -4.0181184
         ]
        }
       ],
       "layout": {
        "height": 800,
        "legend": {
         "title": {
          "text": "Cluster"
         },
         "tracegroupgap": 0
        },
        "scene": {
         "domain": {
          "x": [
           0,
           1
          ],
          "y": [
           0,
           1
          ]
         },
         "xaxis": {
          "title": {
           "text": "0"
          }
         },
         "yaxis": {
          "title": {
           "text": "1"
          }
         },
         "zaxis": {
          "title": {
           "text": "2"
          }
         }
        },
        "template": {
         "data": {
          "bar": [
           {
            "error_x": {
             "color": "#2a3f5f"
            },
            "error_y": {
             "color": "#2a3f5f"
            },
            "marker": {
             "line": {
              "color": "#E5ECF6",
              "width": 0.5
             },
             "pattern": {
              "fillmode": "overlay",
              "size": 10,
              "solidity": 0.2
             }
            },
            "type": "bar"
           }
          ],
          "barpolar": [
           {
            "marker": {
             "line": {
              "color": "#E5ECF6",
              "width": 0.5
             },
             "pattern": {
              "fillmode": "overlay",
              "size": 10,
              "solidity": 0.2
             }
            },
            "type": "barpolar"
           }
          ],
          "carpet": [
           {
            "aaxis": {
             "endlinecolor": "#2a3f5f",
             "gridcolor": "white",
             "linecolor": "white",
             "minorgridcolor": "white",
             "startlinecolor": "#2a3f5f"
            },
            "baxis": {
             "endlinecolor": "#2a3f5f",
             "gridcolor": "white",
             "linecolor": "white",
             "minorgridcolor": "white",
             "startlinecolor": "#2a3f5f"
            },
            "type": "carpet"
           }
          ],
          "choropleth": [
           {
            "colorbar": {
             "outlinewidth": 0,
             "ticks": ""
            },
            "type": "choropleth"
           }
          ],
          "contour": [
           {
            "colorbar": {
             "outlinewidth": 0,
             "ticks": ""
            },
            "colorscale": [
             [
              0,
              "#0d0887"
             ],
             [
              0.1111111111111111,
              "#46039f"
             ],
             [
              0.2222222222222222,
              "#7201a8"
             ],
             [
              0.3333333333333333,
              "#9c179e"
             ],
             [
              0.4444444444444444,
              "#bd3786"
             ],
             [
              0.5555555555555556,
              "#d8576b"
             ],
             [
              0.6666666666666666,
              "#ed7953"
             ],
             [
              0.7777777777777778,
              "#fb9f3a"
             ],
             [
              0.8888888888888888,
              "#fdca26"
             ],
             [
              1,
              "#f0f921"
             ]
            ],
            "type": "contour"
           }
          ],
          "contourcarpet": [
           {
            "colorbar": {
             "outlinewidth": 0,
             "ticks": ""
            },
            "type": "contourcarpet"
           }
          ],
          "heatmap": [
           {
            "colorbar": {
             "outlinewidth": 0,
             "ticks": ""
            },
            "colorscale": [
             [
              0,
              "#0d0887"
             ],
             [
              0.1111111111111111,
              "#46039f"
             ],
             [
              0.2222222222222222,
              "#7201a8"
             ],
             [
              0.3333333333333333,
              "#9c179e"
             ],
             [
              0.4444444444444444,
              "#bd3786"
             ],
             [
              0.5555555555555556,
              "#d8576b"
             ],
             [
              0.6666666666666666,
              "#ed7953"
             ],
             [
              0.7777777777777778,
              "#fb9f3a"
             ],
             [
              0.8888888888888888,
              "#fdca26"
             ],
             [
              1,
              "#f0f921"
             ]
            ],
            "type": "heatmap"
           }
          ],
          "heatmapgl": [
           {
            "colorbar": {
             "outlinewidth": 0,
             "ticks": ""
            },
            "colorscale": [
             [
              0,
              "#0d0887"
             ],
             [
              0.1111111111111111,
              "#46039f"
             ],
             [
              0.2222222222222222,
              "#7201a8"
             ],
             [
              0.3333333333333333,
              "#9c179e"
             ],
             [
              0.4444444444444444,
              "#bd3786"
             ],
             [
              0.5555555555555556,
              "#d8576b"
             ],
             [
              0.6666666666666666,
              "#ed7953"
             ],
             [
              0.7777777777777778,
              "#fb9f3a"
             ],
             [
              0.8888888888888888,
              "#fdca26"
             ],
             [
              1,
              "#f0f921"
             ]
            ],
            "type": "heatmapgl"
           }
          ],
          "histogram": [
           {
            "marker": {
             "pattern": {
              "fillmode": "overlay",
              "size": 10,
              "solidity": 0.2
             }
            },
            "type": "histogram"
           }
          ],
          "histogram2d": [
           {
            "colorbar": {
             "outlinewidth": 0,
             "ticks": ""
            },
            "colorscale": [
             [
              0,
              "#0d0887"
             ],
             [
              0.1111111111111111,
              "#46039f"
             ],
             [
              0.2222222222222222,
              "#7201a8"
             ],
             [
              0.3333333333333333,
              "#9c179e"
             ],
             [
              0.4444444444444444,
              "#bd3786"
             ],
             [
              0.5555555555555556,
              "#d8576b"
             ],
             [
              0.6666666666666666,
              "#ed7953"
             ],
             [
              0.7777777777777778,
              "#fb9f3a"
             ],
             [
              0.8888888888888888,
              "#fdca26"
             ],
             [
              1,
              "#f0f921"
             ]
            ],
            "type": "histogram2d"
           }
          ],
          "histogram2dcontour": [
           {
            "colorbar": {
             "outlinewidth": 0,
             "ticks": ""
            },
            "colorscale": [
             [
              0,
              "#0d0887"
             ],
             [
              0.1111111111111111,
              "#46039f"
             ],
             [
              0.2222222222222222,
              "#7201a8"
             ],
             [
              0.3333333333333333,
              "#9c179e"
             ],
             [
              0.4444444444444444,
              "#bd3786"
             ],
             [
              0.5555555555555556,
              "#d8576b"
             ],
             [
              0.6666666666666666,
              "#ed7953"
             ],
             [
              0.7777777777777778,
              "#fb9f3a"
             ],
             [
              0.8888888888888888,
              "#fdca26"
             ],
             [
              1,
              "#f0f921"
             ]
            ],
            "type": "histogram2dcontour"
           }
          ],
          "mesh3d": [
           {
            "colorbar": {
             "outlinewidth": 0,
             "ticks": ""
            },
            "type": "mesh3d"
           }
          ],
          "parcoords": [
           {
            "line": {
             "colorbar": {
              "outlinewidth": 0,
              "ticks": ""
             }
            },
            "type": "parcoords"
           }
          ],
          "pie": [
           {
            "automargin": true,
            "type": "pie"
           }
          ],
          "scatter": [
           {
            "fillpattern": {
             "fillmode": "overlay",
             "size": 10,
             "solidity": 0.2
            },
            "type": "scatter"
           }
          ],
          "scatter3d": [
           {
            "line": {
             "colorbar": {
              "outlinewidth": 0,
              "ticks": ""
             }
            },
            "marker": {
             "colorbar": {
              "outlinewidth": 0,
              "ticks": ""
             }
            },
            "type": "scatter3d"
           }
          ],
          "scattercarpet": [
           {
            "marker": {
             "colorbar": {
              "outlinewidth": 0,
              "ticks": ""
             }
            },
            "type": "scattercarpet"
           }
          ],
          "scattergeo": [
           {
            "marker": {
             "colorbar": {
              "outlinewidth": 0,
              "ticks": ""
             }
            },
            "type": "scattergeo"
           }
          ],
          "scattergl": [
           {
            "marker": {
             "colorbar": {
              "outlinewidth": 0,
              "ticks": ""
             }
            },
            "type": "scattergl"
           }
          ],
          "scattermapbox": [
           {
            "marker": {
             "colorbar": {
              "outlinewidth": 0,
              "ticks": ""
             }
            },
            "type": "scattermapbox"
           }
          ],
          "scatterpolar": [
           {
            "marker": {
             "colorbar": {
              "outlinewidth": 0,
              "ticks": ""
             }
            },
            "type": "scatterpolar"
           }
          ],
          "scatterpolargl": [
           {
            "marker": {
             "colorbar": {
              "outlinewidth": 0,
              "ticks": ""
             }
            },
            "type": "scatterpolargl"
           }
          ],
          "scatterternary": [
           {
            "marker": {
             "colorbar": {
              "outlinewidth": 0,
              "ticks": ""
             }
            },
            "type": "scatterternary"
           }
          ],
          "surface": [
           {
            "colorbar": {
             "outlinewidth": 0,
             "ticks": ""
            },
            "colorscale": [
             [
              0,
              "#0d0887"
             ],
             [
              0.1111111111111111,
              "#46039f"
             ],
             [
              0.2222222222222222,
              "#7201a8"
             ],
             [
              0.3333333333333333,
              "#9c179e"
             ],
             [
              0.4444444444444444,
              "#bd3786"
             ],
             [
              0.5555555555555556,
              "#d8576b"
             ],
             [
              0.6666666666666666,
              "#ed7953"
             ],
             [
              0.7777777777777778,
              "#fb9f3a"
             ],
             [
              0.8888888888888888,
              "#fdca26"
             ],
             [
              1,
              "#f0f921"
             ]
            ],
            "type": "surface"
           }
          ],
          "table": [
           {
            "cells": {
             "fill": {
              "color": "#EBF0F8"
             },
             "line": {
              "color": "white"
             }
            },
            "header": {
             "fill": {
              "color": "#C8D4E3"
             },
             "line": {
              "color": "white"
             }
            },
            "type": "table"
           }
          ]
         },
         "layout": {
          "annotationdefaults": {
           "arrowcolor": "#2a3f5f",
           "arrowhead": 0,
           "arrowwidth": 1
          },
          "autotypenumbers": "strict",
          "coloraxis": {
           "colorbar": {
            "outlinewidth": 0,
            "ticks": ""
           }
          },
          "colorscale": {
           "diverging": [
            [
             0,
             "#8e0152"
            ],
            [
             0.1,
             "#c51b7d"
            ],
            [
             0.2,
             "#de77ae"
            ],
            [
             0.3,
             "#f1b6da"
            ],
            [
             0.4,
             "#fde0ef"
            ],
            [
             0.5,
             "#f7f7f7"
            ],
            [
             0.6,
             "#e6f5d0"
            ],
            [
             0.7,
             "#b8e186"
            ],
            [
             0.8,
             "#7fbc41"
            ],
            [
             0.9,
             "#4d9221"
            ],
            [
             1,
             "#276419"
            ]
           ],
           "sequential": [
            [
             0,
             "#0d0887"
            ],
            [
             0.1111111111111111,
             "#46039f"
            ],
            [
             0.2222222222222222,
             "#7201a8"
            ],
            [
             0.3333333333333333,
             "#9c179e"
            ],
            [
             0.4444444444444444,
             "#bd3786"
            ],
            [
             0.5555555555555556,
             "#d8576b"
            ],
            [
             0.6666666666666666,
             "#ed7953"
            ],
            [
             0.7777777777777778,
             "#fb9f3a"
            ],
            [
             0.8888888888888888,
             "#fdca26"
            ],
            [
             1,
             "#f0f921"
            ]
           ],
           "sequentialminus": [
            [
             0,
             "#0d0887"
            ],
            [
             0.1111111111111111,
             "#46039f"
            ],
            [
             0.2222222222222222,
             "#7201a8"
            ],
            [
             0.3333333333333333,
             "#9c179e"
            ],
            [
             0.4444444444444444,
             "#bd3786"
            ],
            [
             0.5555555555555556,
             "#d8576b"
            ],
            [
             0.6666666666666666,
             "#ed7953"
            ],
            [
             0.7777777777777778,
             "#fb9f3a"
            ],
            [
             0.8888888888888888,
             "#fdca26"
            ],
            [
             1,
             "#f0f921"
            ]
           ]
          },
          "colorway": [
           "#636efa",
           "#EF553B",
           "#00cc96",
           "#ab63fa",
           "#FFA15A",
           "#19d3f3",
           "#FF6692",
           "#B6E880",
           "#FF97FF",
           "#FECB52"
          ],
          "font": {
           "color": "#2a3f5f"
          },
          "geo": {
           "bgcolor": "white",
           "lakecolor": "white",
           "landcolor": "#E5ECF6",
           "showlakes": true,
           "showland": true,
           "subunitcolor": "white"
          },
          "hoverlabel": {
           "align": "left"
          },
          "hovermode": "closest",
          "mapbox": {
           "style": "light"
          },
          "paper_bgcolor": "white",
          "plot_bgcolor": "#E5ECF6",
          "polar": {
           "angularaxis": {
            "gridcolor": "white",
            "linecolor": "white",
            "ticks": ""
           },
           "bgcolor": "#E5ECF6",
           "radialaxis": {
            "gridcolor": "white",
            "linecolor": "white",
            "ticks": ""
           }
          },
          "scene": {
           "xaxis": {
            "backgroundcolor": "#E5ECF6",
            "gridcolor": "white",
            "gridwidth": 2,
            "linecolor": "white",
            "showbackground": true,
            "ticks": "",
            "zerolinecolor": "white"
           },
           "yaxis": {
            "backgroundcolor": "#E5ECF6",
            "gridcolor": "white",
            "gridwidth": 2,
            "linecolor": "white",
            "showbackground": true,
            "ticks": "",
            "zerolinecolor": "white"
           },
           "zaxis": {
            "backgroundcolor": "#E5ECF6",
            "gridcolor": "white",
            "gridwidth": 2,
            "linecolor": "white",
            "showbackground": true,
            "ticks": "",
            "zerolinecolor": "white"
           }
          },
          "shapedefaults": {
           "line": {
            "color": "#2a3f5f"
           }
          },
          "ternary": {
           "aaxis": {
            "gridcolor": "white",
            "linecolor": "white",
            "ticks": ""
           },
           "baxis": {
            "gridcolor": "white",
            "linecolor": "white",
            "ticks": ""
           },
           "bgcolor": "#E5ECF6",
           "caxis": {
            "gridcolor": "white",
            "linecolor": "white",
            "ticks": ""
           }
          },
          "title": {
           "x": 0.05
          },
          "xaxis": {
           "automargin": true,
           "gridcolor": "white",
           "linecolor": "white",
           "ticks": "",
           "title": {
            "standoff": 15
           },
           "zerolinecolor": "white",
           "zerolinewidth": 2
          },
          "yaxis": {
           "automargin": true,
           "gridcolor": "white",
           "linecolor": "white",
           "ticks": "",
           "title": {
            "standoff": 15
           },
           "zerolinecolor": "white",
           "zerolinewidth": 2
          }
         }
        },
        "title": {
         "text": "3d TSNE Plot for Clusters"
        },
        "width": 900
       }
      }
     },
     "metadata": {},
     "output_type": "display_data"
    }
   ],
   "source": [
    "setup(data = seedDataSet, normalize = True, normalize_method = 'minmax', verbose=False)\n",
    "x = create_model('kmeans', num_clusters = 4)\n",
    "plot_model(x, plot = 'tsne')"
   ]
  },
  {
   "cell_type": "markdown",
   "metadata": {},
   "source": [
    "After Transformation"
   ]
  },
  {
   "cell_type": "code",
   "execution_count": 70,
   "metadata": {},
   "outputs": [
    {
     "data": {
      "text/html": [],
      "text/plain": [
       "<IPython.core.display.HTML object>"
      ]
     },
     "metadata": {},
     "output_type": "display_data"
    },
    {
     "data": {
      "text/html": [
       "<style type=\"text/css\">\n",
       "</style>\n",
       "<table id=\"T_92db4\">\n",
       "  <thead>\n",
       "    <tr>\n",
       "      <th class=\"blank level0\" >&nbsp;</th>\n",
       "      <th id=\"T_92db4_level0_col0\" class=\"col_heading level0 col0\" >Silhouette</th>\n",
       "      <th id=\"T_92db4_level0_col1\" class=\"col_heading level0 col1\" >Calinski-Harabasz</th>\n",
       "      <th id=\"T_92db4_level0_col2\" class=\"col_heading level0 col2\" >Davies-Bouldin</th>\n",
       "      <th id=\"T_92db4_level0_col3\" class=\"col_heading level0 col3\" >Homogeneity</th>\n",
       "      <th id=\"T_92db4_level0_col4\" class=\"col_heading level0 col4\" >Rand Index</th>\n",
       "      <th id=\"T_92db4_level0_col5\" class=\"col_heading level0 col5\" >Completeness</th>\n",
       "    </tr>\n",
       "  </thead>\n",
       "  <tbody>\n",
       "    <tr>\n",
       "      <th id=\"T_92db4_level0_row0\" class=\"row_heading level0 row0\" >0</th>\n",
       "      <td id=\"T_92db4_row0_col0\" class=\"data row0 col0\" >0.5343</td>\n",
       "      <td id=\"T_92db4_row0_col1\" class=\"data row0 col1\" >653.3190</td>\n",
       "      <td id=\"T_92db4_row0_col2\" class=\"data row0 col2\" >0.5415</td>\n",
       "      <td id=\"T_92db4_row0_col3\" class=\"data row0 col3\" >0</td>\n",
       "      <td id=\"T_92db4_row0_col4\" class=\"data row0 col4\" >0</td>\n",
       "      <td id=\"T_92db4_row0_col5\" class=\"data row0 col5\" >0</td>\n",
       "    </tr>\n",
       "  </tbody>\n",
       "</table>\n"
      ],
      "text/plain": [
       "<pandas.io.formats.style.Styler at 0x22b8b3c8b90>"
      ]
     },
     "metadata": {},
     "output_type": "display_data"
    },
    {
     "data": {
      "text/html": [],
      "text/plain": [
       "<IPython.core.display.HTML object>"
      ]
     },
     "metadata": {},
     "output_type": "display_data"
    },
    {
     "data": {
      "text/html": [],
      "text/plain": [
       "<IPython.core.display.HTML object>"
      ]
     },
     "metadata": {},
     "output_type": "display_data"
    },
    {
     "data": {
      "image/png": "[encoded data removed]",
      "text/plain": [
       "<Figure size 800x550 with 1 Axes>"
      ]
     },
     "metadata": {},
     "output_type": "display_data"
    }
   ],
   "source": [
    "setup(data = seedDataSet, transformation = True, transformation_method = 'yeo-johnson', verbose=False)\n",
    "x = create_model('kmeans')\n",
    "plot_model(x, plot = 'elbow')"
   ]
  },
  {
   "cell_type": "code",
   "execution_count": 74,
   "metadata": {},
   "outputs": [
    {
     "name": "stdout",
     "output_type": "stream",
     "text": [
      "For Cluster = 3\n"
     ]
    },
    {
     "data": {
      "text/html": [],
      "text/plain": [
       "<IPython.core.display.HTML object>"
      ]
     },
     "metadata": {},
     "output_type": "display_data"
    },
    {
     "data": {
      "text/html": [
       "<style type=\"text/css\">\n",
       "</style>\n",
       "<table id=\"T_6e313\">\n",
       "  <thead>\n",
       "    <tr>\n",
       "      <th class=\"blank level0\" >&nbsp;</th>\n",
       "      <th id=\"T_6e313_level0_col0\" class=\"col_heading level0 col0\" >Silhouette</th>\n",
       "      <th id=\"T_6e313_level0_col1\" class=\"col_heading level0 col1\" >Calinski-Harabasz</th>\n",
       "      <th id=\"T_6e313_level0_col2\" class=\"col_heading level0 col2\" >Davies-Bouldin</th>\n",
       "      <th id=\"T_6e313_level0_col3\" class=\"col_heading level0 col3\" >Homogeneity</th>\n",
       "      <th id=\"T_6e313_level0_col4\" class=\"col_heading level0 col4\" >Rand Index</th>\n",
       "      <th id=\"T_6e313_level0_col5\" class=\"col_heading level0 col5\" >Completeness</th>\n",
       "    </tr>\n",
       "  </thead>\n",
       "  <tbody>\n",
       "    <tr>\n",
       "      <th id=\"T_6e313_level0_row0\" class=\"row_heading level0 row0\" >0</th>\n",
       "      <td id=\"T_6e313_row0_col0\" class=\"data row0 col0\" >0.5234</td>\n",
       "      <td id=\"T_6e313_row0_col1\" class=\"data row0 col1\" >492.8330</td>\n",
       "      <td id=\"T_6e313_row0_col2\" class=\"data row0 col2\" >0.5664</td>\n",
       "      <td id=\"T_6e313_row0_col3\" class=\"data row0 col3\" >0</td>\n",
       "      <td id=\"T_6e313_row0_col4\" class=\"data row0 col4\" >0</td>\n",
       "      <td id=\"T_6e313_row0_col5\" class=\"data row0 col5\" >0</td>\n",
       "    </tr>\n",
       "  </tbody>\n",
       "</table>\n"
      ],
      "text/plain": [
       "<pandas.io.formats.style.Styler at 0x22b8bf38b90>"
      ]
     },
     "metadata": {},
     "output_type": "display_data"
    },
    {
     "data": {
      "text/html": [],
      "text/plain": [
       "<IPython.core.display.HTML object>"
      ]
     },
     "metadata": {},
     "output_type": "display_data"
    },
    {
     "name": "stdout",
     "output_type": "stream",
     "text": [
      "For Cluster = 4\n"
     ]
    },
    {
     "data": {
      "text/html": [],
      "text/plain": [
       "<IPython.core.display.HTML object>"
      ]
     },
     "metadata": {},
     "output_type": "display_data"
    },
    {
     "data": {
      "text/html": [
       "<style type=\"text/css\">\n",
       "</style>\n",
       "<table id=\"T_fc3d1\">\n",
       "  <thead>\n",
       "    <tr>\n",
       "      <th class=\"blank level0\" >&nbsp;</th>\n",
       "      <th id=\"T_fc3d1_level0_col0\" class=\"col_heading level0 col0\" >Silhouette</th>\n",
       "      <th id=\"T_fc3d1_level0_col1\" class=\"col_heading level0 col1\" >Calinski-Harabasz</th>\n",
       "      <th id=\"T_fc3d1_level0_col2\" class=\"col_heading level0 col2\" >Davies-Bouldin</th>\n",
       "      <th id=\"T_fc3d1_level0_col3\" class=\"col_heading level0 col3\" >Homogeneity</th>\n",
       "      <th id=\"T_fc3d1_level0_col4\" class=\"col_heading level0 col4\" >Rand Index</th>\n",
       "      <th id=\"T_fc3d1_level0_col5\" class=\"col_heading level0 col5\" >Completeness</th>\n",
       "    </tr>\n",
       "  </thead>\n",
       "  <tbody>\n",
       "    <tr>\n",
       "      <th id=\"T_fc3d1_level0_row0\" class=\"row_heading level0 row0\" >0</th>\n",
       "      <td id=\"T_fc3d1_row0_col0\" class=\"data row0 col0\" >0.5343</td>\n",
       "      <td id=\"T_fc3d1_row0_col1\" class=\"data row0 col1\" >653.3190</td>\n",
       "      <td id=\"T_fc3d1_row0_col2\" class=\"data row0 col2\" >0.5415</td>\n",
       "      <td id=\"T_fc3d1_row0_col3\" class=\"data row0 col3\" >0</td>\n",
       "      <td id=\"T_fc3d1_row0_col4\" class=\"data row0 col4\" >0</td>\n",
       "      <td id=\"T_fc3d1_row0_col5\" class=\"data row0 col5\" >0</td>\n",
       "    </tr>\n",
       "  </tbody>\n",
       "</table>\n"
      ],
      "text/plain": [
       "<pandas.io.formats.style.Styler at 0x22b8bf04b10>"
      ]
     },
     "metadata": {},
     "output_type": "display_data"
    },
    {
     "data": {
      "text/html": [],
      "text/plain": [
       "<IPython.core.display.HTML object>"
      ]
     },
     "metadata": {},
     "output_type": "display_data"
    },
    {
     "name": "stdout",
     "output_type": "stream",
     "text": [
      "For Cluster = 5\n"
     ]
    },
    {
     "data": {
      "text/html": [],
      "text/plain": [
       "<IPython.core.display.HTML object>"
      ]
     },
     "metadata": {},
     "output_type": "display_data"
    },
    {
     "data": {
      "text/html": [
       "<style type=\"text/css\">\n",
       "</style>\n",
       "<table id=\"T_c52a1\">\n",
       "  <thead>\n",
       "    <tr>\n",
       "      <th class=\"blank level0\" >&nbsp;</th>\n",
       "      <th id=\"T_c52a1_level0_col0\" class=\"col_heading level0 col0\" >Silhouette</th>\n",
       "      <th id=\"T_c52a1_level0_col1\" class=\"col_heading level0 col1\" >Calinski-Harabasz</th>\n",
       "      <th id=\"T_c52a1_level0_col2\" class=\"col_heading level0 col2\" >Davies-Bouldin</th>\n",
       "      <th id=\"T_c52a1_level0_col3\" class=\"col_heading level0 col3\" >Homogeneity</th>\n",
       "      <th id=\"T_c52a1_level0_col4\" class=\"col_heading level0 col4\" >Rand Index</th>\n",
       "      <th id=\"T_c52a1_level0_col5\" class=\"col_heading level0 col5\" >Completeness</th>\n",
       "    </tr>\n",
       "  </thead>\n",
       "  <tbody>\n",
       "    <tr>\n",
       "      <th id=\"T_c52a1_level0_row0\" class=\"row_heading level0 row0\" >0</th>\n",
       "      <td id=\"T_c52a1_row0_col0\" class=\"data row0 col0\" >0.5207</td>\n",
       "      <td id=\"T_c52a1_row0_col1\" class=\"data row0 col1\" >736.6037</td>\n",
       "      <td id=\"T_c52a1_row0_col2\" class=\"data row0 col2\" >0.5515</td>\n",
       "      <td id=\"T_c52a1_row0_col3\" class=\"data row0 col3\" >0</td>\n",
       "      <td id=\"T_c52a1_row0_col4\" class=\"data row0 col4\" >0</td>\n",
       "      <td id=\"T_c52a1_row0_col5\" class=\"data row0 col5\" >0</td>\n",
       "    </tr>\n",
       "  </tbody>\n",
       "</table>\n"
      ],
      "text/plain": [
       "<pandas.io.formats.style.Styler at 0x22b8be7bed0>"
      ]
     },
     "metadata": {},
     "output_type": "display_data"
    },
    {
     "data": {
      "text/html": [],
      "text/plain": [
       "<IPython.core.display.HTML object>"
      ]
     },
     "metadata": {},
     "output_type": "display_data"
    }
   ],
   "source": [
    "setup(data = seedDataSet, transformation = True, transformation_method = 'yeo-johnson', verbose=False)\n",
    "print(\"For Cluster = 3\")\n",
    "x3 = create_model('kmeans', num_clusters = 3)\n",
    "\n",
    "print(\"For Cluster = 4\")\n",
    "y3 = create_model('kmeans', num_clusters = 4)\n",
    "\n",
    "print(\"For Cluster = 5\")\n",
    "z3 = create_model('kmeans', num_clusters = 5)"
   ]
  },
  {
   "cell_type": "code",
   "execution_count": 73,
   "metadata": {},
   "outputs": [
    {
     "data": {
      "text/html": [],
      "text/plain": [
       "<IPython.core.display.HTML object>"
      ]
     },
     "metadata": {},
     "output_type": "display_data"
    },
    {
     "data": {
      "text/html": [
       "<style type=\"text/css\">\n",
       "</style>\n",
       "<table id=\"T_02735\">\n",
       "  <thead>\n",
       "    <tr>\n",
       "      <th class=\"blank level0\" >&nbsp;</th>\n",
       "      <th id=\"T_02735_level0_col0\" class=\"col_heading level0 col0\" >Silhouette</th>\n",
       "      <th id=\"T_02735_level0_col1\" class=\"col_heading level0 col1\" >Calinski-Harabasz</th>\n",
       "      <th id=\"T_02735_level0_col2\" class=\"col_heading level0 col2\" >Davies-Bouldin</th>\n",
       "      <th id=\"T_02735_level0_col3\" class=\"col_heading level0 col3\" >Homogeneity</th>\n",
       "      <th id=\"T_02735_level0_col4\" class=\"col_heading level0 col4\" >Rand Index</th>\n",
       "      <th id=\"T_02735_level0_col5\" class=\"col_heading level0 col5\" >Completeness</th>\n",
       "    </tr>\n",
       "  </thead>\n",
       "  <tbody>\n",
       "    <tr>\n",
       "      <th id=\"T_02735_level0_row0\" class=\"row_heading level0 row0\" >0</th>\n",
       "      <td id=\"T_02735_row0_col0\" class=\"data row0 col0\" >0.5343</td>\n",
       "      <td id=\"T_02735_row0_col1\" class=\"data row0 col1\" >653.3190</td>\n",
       "      <td id=\"T_02735_row0_col2\" class=\"data row0 col2\" >0.5415</td>\n",
       "      <td id=\"T_02735_row0_col3\" class=\"data row0 col3\" >0</td>\n",
       "      <td id=\"T_02735_row0_col4\" class=\"data row0 col4\" >0</td>\n",
       "      <td id=\"T_02735_row0_col5\" class=\"data row0 col5\" >0</td>\n",
       "    </tr>\n",
       "  </tbody>\n",
       "</table>\n"
      ],
      "text/plain": [
       "<pandas.io.formats.style.Styler at 0x22b8bee96d0>"
      ]
     },
     "metadata": {},
     "output_type": "display_data"
    },
    {
     "data": {
      "text/html": [],
      "text/plain": [
       "<IPython.core.display.HTML object>"
      ]
     },
     "metadata": {},
     "output_type": "display_data"
    },
    {
     "data": {
      "text/html": [],
      "text/plain": [
       "<IPython.core.display.HTML object>"
      ]
     },
     "metadata": {},
     "output_type": "display_data"
    },
    {
     "data": {
      "application/vnd.plotly.v1+json": {
       "config": {
        "plotlyServerURL": "https://plot.ly"
       },
       "data": [
        {
         "customdata": [
          [
           15.26
          ],
          [
           20.16
          ],
          [
           18.65
          ],
          [
           16.17
          ],
          [
           19.14
          ],
          [
           19.38
          ],
          [
           11.84
          ],
          [
           19.18
          ],
          [
           18.17
          ],
          [
           18.98
          ],
          [
           16.87
          ],
          [
           15.38
          ],
          [
           18.98
          ],
          [
           16.77
          ],
          [
           16.84
          ],
          [
           17.63
          ],
          [
           14.37
          ],
          [
           14.01
          ],
          [
           14.34
          ],
          [
           12.78
          ],
          [
           13.22
          ],
          [
           11.42
          ],
          [
           15.03
          ],
          [
           17.32
          ],
          [
           16.16
          ],
          [
           15.57
          ],
          [
           15.6
          ],
          [
           11.23
          ],
          [
           12.37
          ],
          [
           11.18
          ],
          [
           12.38
          ],
          [
           12.11
          ],
          [
           11.27
          ],
          [
           10.59
          ],
          [
           11.23
          ],
          [
           12.89
          ],
          [
           11.65
          ],
          [
           12.19
          ],
          [
           12.46
          ],
          [
           11.41
          ],
          [
           10.8
          ],
          [
           11.02
          ],
          [
           11.24
          ],
          [
           11.14
          ],
          [
           12.55
          ],
          [
           11.34
          ],
          [
           12.49
          ],
          [
           12.22
          ],
          [
           13.34
          ],
          [
           13.32
          ],
          [
           14.52
          ],
          [
           14.49
          ],
          [
           12.3
          ],
          [
           15.01
          ],
          [
           16.12
          ],
          [
           16.2
          ],
          [
           14.09
          ],
          [
           15.49
          ],
          [
           13.16
          ],
          [
           13.45
          ],
          [
           12.74
          ],
          [
           13.02
          ],
          [
           12.08
          ],
          [
           14.11
          ],
          [
           14.16
          ],
          [
           12.72
          ],
          [
           15.26
          ],
          [
           13.94
          ],
          [
           14.86
          ]
         ],
         "hovertemplate": "Cluster=Cluster 0<br>0=%{x}<br>1=%{y}<br>2=%{z}<br>Feature=%{customdata[0]}<extra></extra>",
         "legendgroup": "Cluster 0",
         "marker": {
          "color": "#636efa",
          "opacity": 0.7,
          "symbol": "circle"
         },
         "mode": "markers",
         "name": "Cluster 0",
         "scene": "scene",
         "showlegend": true,
         "type": "scatter3d",
         "x": [
          -1.3666974,
          -0.04237482,
          -1.7181048,
          -6.793545,
          -0.6934187,
          -0.9415076,
          -9.18858,
          -0.86943346,
          -4.708726,
          -2.1526492,
          -4.2728295,
          -1.5037942,
          -6.43367,
          -4.703448,
          -5.300559,
          -3.0279458,
          -0.7038679,
          -5.2916656,
          -0.6876698,
          -1.2484978,
          -2.8929174,
          -2.798325,
          -3.83581,
          -6.282923,
          -4.452084,
          -8.960666,
          -7.086327,
          -9.49001,
          -7.6529107,
          -2.9288182,
          -6.085276,
          -4.687096,
          -7.8177414,
          -4.2577047,
          -6.7175465,
          -8.545619,
          -7.3920593,
          -7.2350993,
          -1.717909,
          -7.9256916,
          -6.891106,
          -1.8096457,
          -1.8096339,
          -8.000825,
          -7.975993,
          -6.647705,
          -3.8348668,
          -4.1001353,
          -5.5550747,
          -5.83353,
          -7.980525,
          -8.636919,
          -2.7301598,
          -3.8801525,
          -1.8095896,
          -0.282029,
          -8.910138,
          -0.75025463,
          -3.6616569,
          -6.2178245,
          -7.7487273,
          -4.600063,
          -3.5778396,
          -0.9046881,
          -6.97718,
          -2.640275,
          -2.0355206,
          -0.6055542,
          -3.0358665
         ],
         "y": [
          -0.06864742,
          -0.28382778,
          -0.21029843,
          -0.014673985,
          -0.21611606,
          -0.22520122,
          0.11564333,
          -0.24220832,
          -0.13836426,
          -0.23262712,
          -0.12502615,
          -0.10259267,
          -0.1700379,
          -0.06558095,
          -0.0701757,
          -0.16453594,
          -0.020457994,
          0.018260177,
          -0.035308976,
          0.041172042,
          0.030770073,
          0.09781132,
          -0.034378767,
          -0.08162327,
          -0.053499296,
          0.03825711,
          -0.031256713,
          0.11504026,
          0.259764,
          0.09908355,
          0.09263449,
          0.08060372,
          0.020897495,
          0.12461667,
          0.12216037,
          0.07983796,
          0.10586109,
          0.07886556,
          0.047559265,
          0.13957179,
          0.14113398,
          0.29584444,
          0.29582477,
          0.1464246,
          0.07414565,
          0.12590016,
          0.067075245,
          0.077476636,
          0.060987316,
          0.035091177,
          0.00497112,
          0.053098813,
          0.058595903,
          -0.055466447,
          0.29574463,
          -0.08579417,
          0.06376128,
          -0.0694525,
          0.025361061,
          0.0418183,
          0.009459727,
          0.052324604,
          0.091958046,
          -0.00883508,
          0.0065749306,
          0.060426522,
          -0.047832426,
          -0.024712844,
          -0.03390077
         ],
         "z": [
          -0.3405454,
          0.6475889,
          0.44586316,
          0.16498847,
          0.35413462,
          0.42850533,
          -0.15644331,
          0.5103541,
          0.48338497,
          0.6192537,
          0.35149068,
          -0.14671303,
          0.8984814,
          0.1067549,
          0.22011049,
          0.3807847,
          -0.66092396,
          -0.23451552,
          -0.5865382,
          -0.9243785,
          -0.66050744,
          -1.0222105,
          -0.18545833,
          0.42585903,
          0.0060553886,
          0.21740673,
          0.29098722,
          -0.11240212,
          -0.25659773,
          -1.0102277,
          -0.49056014,
          -0.65167445,
          -0.42010278,
          -0.9476347,
          -0.5348806,
          -0.053670518,
          -0.45935637,
          -0.34591597,
          -0.90285087,
          -0.38961703,
          -0.60006744,
          -2.204266,
          -2.2041633,
          -0.44173312,
          -0.10124082,
          -0.5665943,
          -0.7134552,
          -0.72684443,
          -0.41276252,
          -0.23693684,
          0.24716142,
          0.09644045,
          -0.8286718,
          -0.068723455,
          -2.2037446,
          -0.3621818,
          0.07643225,
          -0.40451258,
          -0.52277446,
          -0.21165575,
          -0.03919333,
          -0.5193518,
          -0.8822422,
          -0.7013962,
          0.08350238,
          -0.85069144,
          -0.36371705,
          -0.64835066,
          -0.3029026
         ]
        },
        {
         "customdata": [
          [
           14.03
          ],
          [
           18.14
          ],
          [
           20.24
          ],
          [
           20.03
          ],
          [
           19.15
          ],
          [
           19.06
          ],
          [
           20.97
          ],
          [
           12.19
          ],
          [
           14.88
          ],
          [
           18.45
          ],
          [
           13.2
          ],
          [
           18.55
          ],
          [
           19.94
          ],
          [
           17.63
          ],
          [
           12.7
          ],
          [
           13.37
          ],
          [
           14.11
          ],
          [
           15.78
          ],
          [
           13.89
          ],
          [
           13.78
          ],
          [
           13.74
          ],
          [
           12.1
          ],
          [
           16.63
          ],
          [
           14.11
          ],
          [
           14.69
          ],
          [
           11.87
          ],
          [
           16.23
          ],
          [
           18.83
          ],
          [
           16.19
          ],
          [
           17.36
          ],
          [
           15.56
          ],
          [
           12.8
          ],
          [
           12.79
          ],
          [
           16.44
          ],
          [
           14.33
          ],
          [
           18.95
          ],
          [
           12.36
          ],
          [
           14.79
          ],
          [
           11.23
          ],
          [
           13.54
          ],
          [
           18.27
          ],
          [
           13.8
          ],
          [
           14.99
          ],
          [
           15.5
          ],
          [
           19.51
          ],
          [
           20.2
          ],
          [
           12.88
          ],
          [
           15.36
          ],
          [
           16.53
          ],
          [
           17.12
          ],
          [
           18.94
          ],
          [
           19.57
          ],
          [
           20.71
          ],
          [
           14.8
          ],
          [
           17.26
          ],
          [
           20.1
          ],
          [
           16.82
          ],
          [
           14.43
          ],
          [
           14.46
          ],
          [
           13.5
          ],
          [
           18.81
          ],
          [
           15.38
          ],
          [
           16.41
          ],
          [
           18.72
          ],
          [
           15.05
          ],
          [
           19.31
          ]
         ],
         "hovertemplate": "Cluster=Cluster 1<br>0=%{x}<br>1=%{y}<br>2=%{z}<br>Feature=%{customdata[0]}<extra></extra>",
         "legendgroup": "Cluster 1",
         "marker": {
          "color": "#EF553B",
          "opacity": 0.7,
          "symbol": "circle"
         },
         "mode": "markers",
         "name": "Cluster 1",
         "scene": "scene",
         "showlegend": true,
         "type": "scatter3d",
         "x": [
          2.957234,
          1.6159943,
          8.045574,
          3.5189135,
          7.751664,
          6.1279564,
          6.3537526,
          2.3991084,
          3.6825743,
          8.972785,
          7.4427376,
          6.6185746,
          0.6413667,
          3.0435526,
          7.018098,
          5.814816,
          4.166583,
          9.156929,
          7.304599,
          0.9464192,
          0.10226615,
          2.8404822,
          0.36185312,
          8.68531,
          3.0943558,
          2.9328585,
          5.841362,
          8.829508,
          5.7846127,
          2.215363,
          4.3056107,
          6.3895183,
          2.5107012,
          7.299745,
          4.7911086,
          4.499522,
          9.2587595,
          4.107511,
          5.3742275,
          6.8815994,
          6.8539605,
          2.8628619,
          7.448628,
          4.114299,
          1.88109,
          7.924507,
          7.250175,
          6.411945,
          4.2820053,
          7.8558254,
          0.55787283,
          1.8253462,
          1.0651059,
          4.3282585,
          1.1802596,
          0.41089132,
          2.3074374,
          0.47964394,
          4.057743,
          5.976442,
          8.38075,
          6.214966,
          6.651587,
          3.538054,
          2.0550196,
          3.751139
         ],
         "y": [
          -0.04049555,
          -0.1771366,
          -0.17702013,
          -0.3069366,
          -0.18379194,
          -0.28195894,
          -0.30357733,
          0.015366132,
          -0.0662564,
          -0.10070843,
          0.012796476,
          -0.21263048,
          -0.32052907,
          -0.19755256,
          0.016275778,
          -0.026235284,
          -0.06415701,
          -0.047074772,
          -0.025232567,
          -0.029248685,
          -0.017129729,
          0.018336937,
          -0.15270306,
          -0.017311722,
          -0.069843344,
          0.014301836,
          -0.14898165,
          -0.097316936,
          -0.13873288,
          -0.21365245,
          -0.12848638,
          0.011987559,
          0.002556894,
          -0.1291129,
          -0.067329764,
          -0.25149503,
          0.009954994,
          -0.064783484,
          0.0155845275,
          -0.013165301,
          -0.21125871,
          -0.026913565,
          -0.047687847,
          -0.15816018,
          -0.26047984,
          -0.17973359,
          0.02498262,
          -0.0984327,
          -0.15716867,
          -0.08948487,
          -0.27347022,
          -0.26390076,
          -0.30248454,
          -0.0946076,
          -0.14428413,
          -0.30228388,
          -0.18155776,
          -0.039605033,
          -0.031753656,
          -0.027022013,
          -0.14880323,
          -0.09041512,
          -0.10094679,
          -0.24731185,
          -0.08880259,
          -0.2768912
         ],
         "z": [
          -0.7560305,
          -0.004701286,
          0.5051048,
          0.6805812,
          0.4863866,
          0.74566954,
          0.88747823,
          -1.0462769,
          -0.60236275,
          0.32985592,
          -0.5811181,
          0.44276625,
          0.7851706,
          0.08665459,
          -0.688592,
          -0.6334795,
          -0.58460563,
          0.12983727,
          -0.42180935,
          -0.7360992,
          -0.74441075,
          -1.0699598,
          -0.06307179,
          -0.12808761,
          -0.59867233,
          -1.0480734,
          0.011272932,
          0.2835702,
          -0.04793334,
          0.17252634,
          -0.23698005,
          -0.7610201,
          -0.98148316,
          0.1109608,
          -0.51928014,
          0.4391408,
          -0.09939776,
          -0.58545315,
          -0.90168846,
          -0.5642219,
          0.47066724,
          -0.8284963,
          -0.27503902,
          -0.09303968,
          0.42561823,
          0.49719188,
          -0.68591154,
          -0.19061555,
          -0.0861243,
          0.026907636,
          0.5485647,
          0.4439387,
          0.6703892,
          -0.41386154,
          -0.15444584,
          0.70726424,
          0.0004339618,
          -0.65345305,
          -0.760385,
          -0.6116827,
          0.43074104,
          -0.25599518,
          -0.14769487,
          0.3616976,
          -0.48400664,
          0.5273921
         ]
        },
        {
         "customdata": [
          [
           12.02
          ],
          [
           12.05
          ],
          [
           12.54
          ],
          [
           11.56
          ],
          [
           11.75
          ],
          [
           11.49
          ],
          [
           12.13
          ],
          [
           11.81
          ],
          [
           12.15
          ],
          [
           11.35
          ],
          [
           11.55
          ],
          [
           11.27
          ],
          [
           11.4
          ],
          [
           10.83
          ],
          [
           11.26
          ],
          [
           10.74
          ],
          [
           11.48
          ],
          [
           12.44
          ],
          [
           11.19
          ],
          [
           10.91
          ],
          [
           11.18
          ],
          [
           18.36
          ],
          [
           12.62
          ],
          [
           12.11
          ],
          [
           11.36
          ],
          [
           10.93
          ],
          [
           13.07
          ],
          [
           12.21
          ],
          [
           10.82
          ],
          [
           11.21
          ],
          [
           12.26
          ],
          [
           11.82
          ],
          [
           12.01
          ],
          [
           11.83
          ],
          [
           12.73
          ],
          [
           10.79
          ],
          [
           12.7
          ],
          [
           11.43
          ]
         ],
         "hovertemplate": "Cluster=Cluster 2<br>0=%{x}<br>1=%{y}<br>2=%{z}<br>Feature=%{customdata[0]}<extra></extra>",
         "legendgroup": "Cluster 2",
         "marker": {
          "color": "#00cc96",
          "opacity": 0.7,
          "symbol": "circle"
         },
         "mode": "markers",
         "name": "Cluster 2",
         "scene": "scene",
         "showlegend": true,
         "type": "scatter3d",
         "x": [
          -9.694527,
          -11.640187,
          -11.467493,
          -14.25869,
          -14.590007,
          -13.6929035,
          -14.591749,
          -14.228705,
          -11.122311,
          -13.433047,
          -10.877482,
          -11.593923,
          -12.345196,
          -14.552592,
          -12.64421,
          -12.988219,
          -10.457953,
          -10.71041,
          -13.785794,
          -12.38944,
          -13.656476,
          -10.867066,
          -10.255793,
          -12.063651,
          -12.231934,
          -12.097966,
          -10.278038,
          -10.912022,
          -13.807256,
          -14.365566,
          -12.942885,
          -13.6043,
          -13.875445,
          -9.885533,
          -10.796516,
          -14.533384,
          -10.007195,
          -12.912607
         ],
         "y": [
          0.10099335,
          0.13968411,
          0.118104845,
          0.17533948,
          0.21510173,
          0.41592312,
          0.21511069,
          0.3516792,
          0.116989814,
          0.19588819,
          0.15077634,
          0.16365454,
          0.10492126,
          0.21542923,
          0.20319228,
          0.21972264,
          0.13986506,
          0.12800947,
          -0.023891391,
          0.21390088,
          0.41394004,
          -0.030937677,
          0.10523968,
          0.15362927,
          0.15860085,
          0.17570244,
          0.09716614,
          0.124062955,
          0.31749952,
          0.13930176,
          0.07598455,
          0.0035675042,
          0.04183049,
          0.111483805,
          0.11211644,
          0.21569487,
          0.10384178,
          0.2203587
         ],
         "z": [
          -0.010350129,
          0.022750605,
          0.12247849,
          0.09272931,
          0.60857695,
          0.013962861,
          0.61043817,
          0.14805607,
          0.09015587,
          -0.20469587,
          -0.11935574,
          -0.083579674,
          -0.021832721,
          0.5689747,
          -0.016430333,
          -0.13088101,
          -0.111058615,
          -0.014419744,
          0.07245056,
          -0.045167472,
          0.03161495,
          0.85429776,
          0.043861695,
          0.0038625177,
          0.03388587,
          -0.08825429,
          0.0892477,
          0.028804524,
          -0.14327067,
          0.30563447,
          -0.028452791,
          -0.06875293,
          -0.086547874,
          -0.03915031,
          0.07714291,
          0.5487401,
          0.01855282,
          -0.101263456
         ]
        },
        {
         "customdata": [
          [
           14.38
          ],
          [
           16.14
          ],
          [
           12.67
          ],
          [
           13.84
          ],
          [
           14.29
          ],
          [
           14.92
          ],
          [
           15.11
          ],
          [
           12.76
          ],
          [
           19.46
          ],
          [
           14.59
          ],
          [
           18.85
          ],
          [
           17.99
          ],
          [
           17.08
          ],
          [
           19.13
          ],
          [
           18.59
          ],
          [
           18.96
          ],
          [
           18.76
          ],
          [
           18.89
          ],
          [
           20.88
          ],
          [
           21.18
          ],
          [
           18.43
          ],
          [
           15.99
          ],
          [
           18.75
          ],
          [
           18.88
          ],
          [
           17.98
          ],
          [
           17.55
          ],
          [
           18.3
          ],
          [
           18.72
          ],
          [
           15.38
          ],
          [
           14.28
          ],
          [
           15.88
          ],
          [
           19.11
          ],
          [
           14.7
          ],
          [
           15.69
          ],
          [
           13.99
          ],
          [
           13.16
          ],
          [
           18.94
          ]
         ],
         "hovertemplate": "Cluster=Cluster 3<br>0=%{x}<br>1=%{y}<br>2=%{z}<br>Feature=%{customdata[0]}<extra></extra>",
         "legendgroup": "Cluster 3",
         "marker": {
          "color": "#ab63fa",
          "opacity": 0.7,
          "symbol": "circle"
         },
         "mode": "markers",
         "name": "Cluster 3",
         "scene": "scene",
         "showlegend": true,
         "type": "scatter3d",
         "x": [
          10.305141,
          12.968248,
          11.167785,
          10.453884,
          13.363666,
          12.195693,
          11.52284,
          10.755761,
          11.519986,
          11.760847,
          13.525161,
          11.796237,
          13.944027,
          13.022805,
          13.733912,
          13.919721,
          11.512273,
          12.300021,
          12.940236,
          11.765982,
          13.923757,
          13.672461,
          12.046815,
          10.970324,
          11.805949,
          11.703555,
          14.173369,
          11.214795,
          11.641547,
          10.031836,
          11.609515,
          13.972445,
          14.280494,
          13.551701,
          14.311113,
          12.268912,
          9.857993
         ],
         "y": [
          0.017592331,
          0.25252983,
          0.1905541,
          0.032666113,
          0.32939205,
          0.18167654,
          -0.09287074,
          0.09654139,
          0.07651416,
          0.20467371,
          0.11154402,
          -0.25771222,
          0.049472425,
          0.105925485,
          0.10785238,
          -0.011109759,
          -0.20779307,
          -0.005801833,
          0.020438386,
          -0.17322184,
          0.025570504,
          0.26736444,
          -0.13800777,
          -0.07525021,
          0.25318587,
          0.3426598,
          -0.30500382,
          -0.038557827,
          0.32905856,
          0.005058828,
          -0.14392838,
          -0.0749564,
          -0.66692126,
          0.31612378,
          -0.76899207,
          0.2350987,
          -0.074076205
         ],
         "z": [
          0.13178134,
          0.23906004,
          -0.13497716,
          0.11403989,
          0.065759294,
          0.017734172,
          0.05770925,
          -0.010752591,
          0.712153,
          -0.0571048,
          0.56992894,
          0.32966414,
          0.17733476,
          0.5805851,
          0.4756967,
          0.35366693,
          0.678683,
          0.68273544,
          0.7346408,
          0.99719596,
          0.30312186,
          0.057098664,
          0.59330326,
          0.5717872,
          0.592165,
          0.4117478,
          0.05677439,
          0.5551765,
          0.095657475,
          0.11762261,
          0.08008724,
          0.34855944,
          -0.19506642,
          0.16559453,
          -0.26295245,
          -0.07968704,
          0.37874433
         ]
        }
       ],
       "layout": {
        "height": 800,
        "legend": {
         "title": {
          "text": "Cluster"
         },
         "tracegroupgap": 0
        },
        "scene": {
         "domain": {
          "x": [
           0,
           1
          ],
          "y": [
           0,
           1
          ]
         },
         "xaxis": {
          "title": {
           "text": "0"
          }
         },
         "yaxis": {
          "title": {
           "text": "1"
          }
         },
         "zaxis": {
          "title": {
           "text": "2"
          }
         }
        },
        "template": {
         "data": {
          "bar": [
           {
            "error_x": {
             "color": "#2a3f5f"
            },
            "error_y": {
             "color": "#2a3f5f"
            },
            "marker": {
             "line": {
              "color": "#E5ECF6",
              "width": 0.5
             },
             "pattern": {
              "fillmode": "overlay",
              "size": 10,
              "solidity": 0.2
             }
            },
            "type": "bar"
           }
          ],
          "barpolar": [
           {
            "marker": {
             "line": {
              "color": "#E5ECF6",
              "width": 0.5
             },
             "pattern": {
              "fillmode": "overlay",
              "size": 10,
              "solidity": 0.2
             }
            },
            "type": "barpolar"
           }
          ],
          "carpet": [
           {
            "aaxis": {
             "endlinecolor": "#2a3f5f",
             "gridcolor": "white",
             "linecolor": "white",
             "minorgridcolor": "white",
             "startlinecolor": "#2a3f5f"
            },
            "baxis": {
             "endlinecolor": "#2a3f5f",
             "gridcolor": "white",
             "linecolor": "white",
             "minorgridcolor": "white",
             "startlinecolor": "#2a3f5f"
            },
            "type": "carpet"
           }
          ],
          "choropleth": [
           {
            "colorbar": {
             "outlinewidth": 0,
             "ticks": ""
            },
            "type": "choropleth"
           }
          ],
          "contour": [
           {
            "colorbar": {
             "outlinewidth": 0,
             "ticks": ""
            },
            "colorscale": [
             [
              0,
              "#0d0887"
             ],
             [
              0.1111111111111111,
              "#46039f"
             ],
             [
              0.2222222222222222,
              "#7201a8"
             ],
             [
              0.3333333333333333,
              "#9c179e"
             ],
             [
              0.4444444444444444,
              "#bd3786"
             ],
             [
              0.5555555555555556,
              "#d8576b"
             ],
             [
              0.6666666666666666,
              "#ed7953"
             ],
             [
              0.7777777777777778,
              "#fb9f3a"
             ],
             [
              0.8888888888888888,
              "#fdca26"
             ],
             [
              1,
              "#f0f921"
             ]
            ],
            "type": "contour"
           }
          ],
          "contourcarpet": [
           {
            "colorbar": {
             "outlinewidth": 0,
             "ticks": ""
            },
            "type": "contourcarpet"
           }
          ],
          "heatmap": [
           {
            "colorbar": {
             "outlinewidth": 0,
             "ticks": ""
            },
            "colorscale": [
             [
              0,
              "#0d0887"
             ],
             [
              0.1111111111111111,
              "#46039f"
             ],
             [
              0.2222222222222222,
              "#7201a8"
             ],
             [
              0.3333333333333333,
              "#9c179e"
             ],
             [
              0.4444444444444444,
              "#bd3786"
             ],
             [
              0.5555555555555556,
              "#d8576b"
             ],
             [
              0.6666666666666666,
              "#ed7953"
             ],
             [
              0.7777777777777778,
              "#fb9f3a"
             ],
             [
              0.8888888888888888,
              "#fdca26"
             ],
             [
              1,
              "#f0f921"
             ]
            ],
            "type": "heatmap"
           }
          ],
          "heatmapgl": [
           {
            "colorbar": {
             "outlinewidth": 0,
             "ticks": ""
            },
            "colorscale": [
             [
              0,
              "#0d0887"
             ],
             [
              0.1111111111111111,
              "#46039f"
             ],
             [
              0.2222222222222222,
              "#7201a8"
             ],
             [
              0.3333333333333333,
              "#9c179e"
             ],
             [
              0.4444444444444444,
              "#bd3786"
             ],
             [
              0.5555555555555556,
              "#d8576b"
             ],
             [
              0.6666666666666666,
              "#ed7953"
             ],
             [
              0.7777777777777778,
              "#fb9f3a"
             ],
             [
              0.8888888888888888,
              "#fdca26"
             ],
             [
              1,
              "#f0f921"
             ]
            ],
            "type": "heatmapgl"
           }
          ],
          "histogram": [
           {
            "marker": {
             "pattern": {
              "fillmode": "overlay",
              "size": 10,
              "solidity": 0.2
             }
            },
            "type": "histogram"
           }
          ],
          "histogram2d": [
           {
            "colorbar": {
             "outlinewidth": 0,
             "ticks": ""
            },
            "colorscale": [
             [
              0,
              "#0d0887"
             ],
             [
              0.1111111111111111,
              "#46039f"
             ],
             [
              0.2222222222222222,
              "#7201a8"
             ],
             [
              0.3333333333333333,
              "#9c179e"
             ],
             [
              0.4444444444444444,
              "#bd3786"
             ],
             [
              0.5555555555555556,
              "#d8576b"
             ],
             [
              0.6666666666666666,
              "#ed7953"
             ],
             [
              0.7777777777777778,
              "#fb9f3a"
             ],
             [
              0.8888888888888888,
              "#fdca26"
             ],
             [
              1,
              "#f0f921"
             ]
            ],
            "type": "histogram2d"
           }
          ],
          "histogram2dcontour": [
           {
            "colorbar": {
             "outlinewidth": 0,
             "ticks": ""
            },
            "colorscale": [
             [
              0,
              "#0d0887"
             ],
             [
              0.1111111111111111,
              "#46039f"
             ],
             [
              0.2222222222222222,
              "#7201a8"
             ],
             [
              0.3333333333333333,
              "#9c179e"
             ],
             [
              0.4444444444444444,
              "#bd3786"
             ],
             [
              0.5555555555555556,
              "#d8576b"
             ],
             [
              0.6666666666666666,
              "#ed7953"
             ],
             [
              0.7777777777777778,
              "#fb9f3a"
             ],
             [
              0.8888888888888888,
              "#fdca26"
             ],
             [
              1,
              "#f0f921"
             ]
            ],
            "type": "histogram2dcontour"
           }
          ],
          "mesh3d": [
           {
            "colorbar": {
             "outlinewidth": 0,
             "ticks": ""
            },
            "type": "mesh3d"
           }
          ],
          "parcoords": [
           {
            "line": {
             "colorbar": {
              "outlinewidth": 0,
              "ticks": ""
             }
            },
            "type": "parcoords"
           }
          ],
          "pie": [
           {
            "automargin": true,
            "type": "pie"
           }
          ],
          "scatter": [
           {
            "fillpattern": {
             "fillmode": "overlay",
             "size": 10,
             "solidity": 0.2
            },
            "type": "scatter"
           }
          ],
          "scatter3d": [
           {
            "line": {
             "colorbar": {
              "outlinewidth": 0,
              "ticks": ""
             }
            },
            "marker": {
             "colorbar": {
              "outlinewidth": 0,
              "ticks": ""
             }
            },
            "type": "scatter3d"
           }
          ],
          "scattercarpet": [
           {
            "marker": {
             "colorbar": {
              "outlinewidth": 0,
              "ticks": ""
             }
            },
            "type": "scattercarpet"
           }
          ],
          "scattergeo": [
           {
            "marker": {
             "colorbar": {
              "outlinewidth": 0,
              "ticks": ""
             }
            },
            "type": "scattergeo"
           }
          ],
          "scattergl": [
           {
            "marker": {
             "colorbar": {
              "outlinewidth": 0,
              "ticks": ""
             }
            },
            "type": "scattergl"
           }
          ],
          "scattermapbox": [
           {
            "marker": {
             "colorbar": {
              "outlinewidth": 0,
              "ticks": ""
             }
            },
            "type": "scattermapbox"
           }
          ],
          "scatterpolar": [
           {
            "marker": {
             "colorbar": {
              "outlinewidth": 0,
              "ticks": ""
             }
            },
            "type": "scatterpolar"
           }
          ],
          "scatterpolargl": [
           {
            "marker": {
             "colorbar": {
              "outlinewidth": 0,
              "ticks": ""
             }
            },
            "type": "scatterpolargl"
           }
          ],
          "scatterternary": [
           {
            "marker": {
             "colorbar": {
              "outlinewidth": 0,
              "ticks": ""
             }
            },
            "type": "scatterternary"
           }
          ],
          "surface": [
           {
            "colorbar": {
             "outlinewidth": 0,
             "ticks": ""
            },
            "colorscale": [
             [
              0,
              "#0d0887"
             ],
             [
              0.1111111111111111,
              "#46039f"
             ],
             [
              0.2222222222222222,
              "#7201a8"
             ],
             [
              0.3333333333333333,
              "#9c179e"
             ],
             [
              0.4444444444444444,
              "#bd3786"
             ],
             [
              0.5555555555555556,
              "#d8576b"
             ],
             [
              0.6666666666666666,
              "#ed7953"
             ],
             [
              0.7777777777777778,
              "#fb9f3a"
             ],
             [
              0.8888888888888888,
              "#fdca26"
             ],
             [
              1,
              "#f0f921"
             ]
            ],
            "type": "surface"
           }
          ],
          "table": [
           {
            "cells": {
             "fill": {
              "color": "#EBF0F8"
             },
             "line": {
              "color": "white"
             }
            },
            "header": {
             "fill": {
              "color": "#C8D4E3"
             },
             "line": {
              "color": "white"
             }
            },
            "type": "table"
           }
          ]
         },
         "layout": {
          "annotationdefaults": {
           "arrowcolor": "#2a3f5f",
           "arrowhead": 0,
           "arrowwidth": 1
          },
          "autotypenumbers": "strict",
          "coloraxis": {
           "colorbar": {
            "outlinewidth": 0,
            "ticks": ""
           }
          },
          "colorscale": {
           "diverging": [
            [
             0,
             "#8e0152"
            ],
            [
             0.1,
             "#c51b7d"
            ],
            [
             0.2,
             "#de77ae"
            ],
            [
             0.3,
             "#f1b6da"
            ],
            [
             0.4,
             "#fde0ef"
            ],
            [
             0.5,
             "#f7f7f7"
            ],
            [
             0.6,
             "#e6f5d0"
            ],
            [
             0.7,
             "#b8e186"
            ],
            [
             0.8,
             "#7fbc41"
            ],
            [
             0.9,
             "#4d9221"
            ],
            [
             1,
             "#276419"
            ]
           ],
           "sequential": [
            [
             0,
             "#0d0887"
            ],
            [
             0.1111111111111111,
             "#46039f"
            ],
            [
             0.2222222222222222,
             "#7201a8"
            ],
            [
             0.3333333333333333,
             "#9c179e"
            ],
            [
             0.4444444444444444,
             "#bd3786"
            ],
            [
             0.5555555555555556,
             "#d8576b"
            ],
            [
             0.6666666666666666,
             "#ed7953"
            ],
            [
             0.7777777777777778,
             "#fb9f3a"
            ],
            [
             0.8888888888888888,
             "#fdca26"
            ],
            [
             1,
             "#f0f921"
            ]
           ],
           "sequentialminus": [
            [
             0,
             "#0d0887"
            ],
            [
             0.1111111111111111,
             "#46039f"
            ],
            [
             0.2222222222222222,
             "#7201a8"
            ],
            [
             0.3333333333333333,
             "#9c179e"
            ],
            [
             0.4444444444444444,
             "#bd3786"
            ],
            [
             0.5555555555555556,
             "#d8576b"
            ],
            [
             0.6666666666666666,
             "#ed7953"
            ],
            [
             0.7777777777777778,
             "#fb9f3a"
            ],
            [
             0.8888888888888888,
             "#fdca26"
            ],
            [
             1,
             "#f0f921"
            ]
           ]
          },
          "colorway": [
           "#636efa",
           "#EF553B",
           "#00cc96",
           "#ab63fa",
           "#FFA15A",
           "#19d3f3",
           "#FF6692",
           "#B6E880",
           "#FF97FF",
           "#FECB52"
          ],
          "font": {
           "color": "#2a3f5f"
          },
          "geo": {
           "bgcolor": "white",
           "lakecolor": "white",
           "landcolor": "#E5ECF6",
           "showlakes": true,
           "showland": true,
           "subunitcolor": "white"
          },
          "hoverlabel": {
           "align": "left"
          },
          "hovermode": "closest",
          "mapbox": {
           "style": "light"
          },
          "paper_bgcolor": "white",
          "plot_bgcolor": "#E5ECF6",
          "polar": {
           "angularaxis": {
            "gridcolor": "white",
            "linecolor": "white",
            "ticks": ""
           },
           "bgcolor": "#E5ECF6",
           "radialaxis": {
            "gridcolor": "white",
            "linecolor": "white",
            "ticks": ""
           }
          },
          "scene": {
           "xaxis": {
            "backgroundcolor": "#E5ECF6",
            "gridcolor": "white",
            "gridwidth": 2,
            "linecolor": "white",
            "showbackground": true,
            "ticks": "",
            "zerolinecolor": "white"
           },
           "yaxis": {
            "backgroundcolor": "#E5ECF6",
            "gridcolor": "white",
            "gridwidth": 2,
            "linecolor": "white",
            "showbackground": true,
            "ticks": "",
            "zerolinecolor": "white"
           },
           "zaxis": {
            "backgroundcolor": "#E5ECF6",
            "gridcolor": "white",
            "gridwidth": 2,
            "linecolor": "white",
            "showbackground": true,
            "ticks": "",
            "zerolinecolor": "white"
           }
          },
          "shapedefaults": {
           "line": {
            "color": "#2a3f5f"
           }
          },
          "ternary": {
           "aaxis": {
            "gridcolor": "white",
            "linecolor": "white",
            "ticks": ""
           },
           "baxis": {
            "gridcolor": "white",
            "linecolor": "white",
            "ticks": ""
           },
           "bgcolor": "#E5ECF6",
           "caxis": {
            "gridcolor": "white",
            "linecolor": "white",
            "ticks": ""
           }
          },
          "title": {
           "x": 0.05
          },
          "xaxis": {
           "automargin": true,
           "gridcolor": "white",
           "linecolor": "white",
           "ticks": "",
           "title": {
            "standoff": 15
           },
           "zerolinecolor": "white",
           "zerolinewidth": 2
          },
          "yaxis": {
           "automargin": true,
           "gridcolor": "white",
           "linecolor": "white",
           "ticks": "",
           "title": {
            "standoff": 15
           },
           "zerolinecolor": "white",
           "zerolinewidth": 2
          }
         }
        },
        "title": {
         "text": "3d TSNE Plot for Clusters"
        },
        "width": 900
       }
      }
     },
     "metadata": {},
     "output_type": "display_data"
    }
   ],
   "source": [
    "setup(data = seedDataSet, transformation = True, transformation_method = 'yeo-johnson', verbose=False)\n",
    "x = create_model('kmeans', num_clusters = 4)\n",
    "plot_model(x, plot = 'tsne')"
   ]
  },
  {
   "cell_type": "markdown",
   "metadata": {},
   "source": [
    "After Normalization (min-max) + Transformation (yeo-johnson)"
   ]
  },
  {
   "cell_type": "code",
   "execution_count": 76,
   "metadata": {},
   "outputs": [
    {
     "data": {
      "text/html": [],
      "text/plain": [
       "<IPython.core.display.HTML object>"
      ]
     },
     "metadata": {},
     "output_type": "display_data"
    },
    {
     "data": {
      "text/html": [
       "<style type=\"text/css\">\n",
       "</style>\n",
       "<table id=\"T_2690a\">\n",
       "  <thead>\n",
       "    <tr>\n",
       "      <th class=\"blank level0\" >&nbsp;</th>\n",
       "      <th id=\"T_2690a_level0_col0\" class=\"col_heading level0 col0\" >Silhouette</th>\n",
       "      <th id=\"T_2690a_level0_col1\" class=\"col_heading level0 col1\" >Calinski-Harabasz</th>\n",
       "      <th id=\"T_2690a_level0_col2\" class=\"col_heading level0 col2\" >Davies-Bouldin</th>\n",
       "      <th id=\"T_2690a_level0_col3\" class=\"col_heading level0 col3\" >Homogeneity</th>\n",
       "      <th id=\"T_2690a_level0_col4\" class=\"col_heading level0 col4\" >Rand Index</th>\n",
       "      <th id=\"T_2690a_level0_col5\" class=\"col_heading level0 col5\" >Completeness</th>\n",
       "    </tr>\n",
       "  </thead>\n",
       "  <tbody>\n",
       "    <tr>\n",
       "      <th id=\"T_2690a_level0_row0\" class=\"row_heading level0 row0\" >0</th>\n",
       "      <td id=\"T_2690a_row0_col0\" class=\"data row0 col0\" >0.3428</td>\n",
       "      <td id=\"T_2690a_row0_col1\" class=\"data row0 col1\" >183.1045</td>\n",
       "      <td id=\"T_2690a_row0_col2\" class=\"data row0 col2\" >1.2963</td>\n",
       "      <td id=\"T_2690a_row0_col3\" class=\"data row0 col3\" >0</td>\n",
       "      <td id=\"T_2690a_row0_col4\" class=\"data row0 col4\" >0</td>\n",
       "      <td id=\"T_2690a_row0_col5\" class=\"data row0 col5\" >0</td>\n",
       "    </tr>\n",
       "  </tbody>\n",
       "</table>\n"
      ],
      "text/plain": [
       "<pandas.io.formats.style.Styler at 0x22b8bea6090>"
      ]
     },
     "metadata": {},
     "output_type": "display_data"
    },
    {
     "data": {
      "text/html": [],
      "text/plain": [
       "<IPython.core.display.HTML object>"
      ]
     },
     "metadata": {},
     "output_type": "display_data"
    },
    {
     "data": {
      "text/html": [],
      "text/plain": [
       "<IPython.core.display.HTML object>"
      ]
     },
     "metadata": {},
     "output_type": "display_data"
    },
    {
     "data": {
      "image/png": "[encoded data removed]",
      "text/plain": [
       "<Figure size 800x550 with 1 Axes>"
      ]
     },
     "metadata": {},
     "output_type": "display_data"
    }
   ],
   "source": [
    "setup(data = seedDataSet,normalize = True, normalize_method = 'minmax', transformation = True, transformation_method = 'yeo-johnson', verbose=False)\n",
    "x = create_model('kmeans')\n",
    "plot_model(x, plot = 'elbow')"
   ]
  },
  {
   "cell_type": "code",
   "execution_count": 77,
   "metadata": {},
   "outputs": [
    {
     "name": "stdout",
     "output_type": "stream",
     "text": [
      "For Cluster = 3\n"
     ]
    },
    {
     "data": {
      "text/html": [],
      "text/plain": [
       "<IPython.core.display.HTML object>"
      ]
     },
     "metadata": {},
     "output_type": "display_data"
    },
    {
     "data": {
      "text/html": [
       "<style type=\"text/css\">\n",
       "</style>\n",
       "<table id=\"T_0eaaa\">\n",
       "  <thead>\n",
       "    <tr>\n",
       "      <th class=\"blank level0\" >&nbsp;</th>\n",
       "      <th id=\"T_0eaaa_level0_col0\" class=\"col_heading level0 col0\" >Silhouette</th>\n",
       "      <th id=\"T_0eaaa_level0_col1\" class=\"col_heading level0 col1\" >Calinski-Harabasz</th>\n",
       "      <th id=\"T_0eaaa_level0_col2\" class=\"col_heading level0 col2\" >Davies-Bouldin</th>\n",
       "      <th id=\"T_0eaaa_level0_col3\" class=\"col_heading level0 col3\" >Homogeneity</th>\n",
       "      <th id=\"T_0eaaa_level0_col4\" class=\"col_heading level0 col4\" >Rand Index</th>\n",
       "      <th id=\"T_0eaaa_level0_col5\" class=\"col_heading level0 col5\" >Completeness</th>\n",
       "    </tr>\n",
       "  </thead>\n",
       "  <tbody>\n",
       "    <tr>\n",
       "      <th id=\"T_0eaaa_level0_row0\" class=\"row_heading level0 row0\" >0</th>\n",
       "      <td id=\"T_0eaaa_row0_col0\" class=\"data row0 col0\" >0.4026</td>\n",
       "      <td id=\"T_0eaaa_row0_col1\" class=\"data row0 col1\" >232.0212</td>\n",
       "      <td id=\"T_0eaaa_row0_col2\" class=\"data row0 col2\" >0.9484</td>\n",
       "      <td id=\"T_0eaaa_row0_col3\" class=\"data row0 col3\" >0</td>\n",
       "      <td id=\"T_0eaaa_row0_col4\" class=\"data row0 col4\" >0</td>\n",
       "      <td id=\"T_0eaaa_row0_col5\" class=\"data row0 col5\" >0</td>\n",
       "    </tr>\n",
       "  </tbody>\n",
       "</table>\n"
      ],
      "text/plain": [
       "<pandas.io.formats.style.Styler at 0x22b8be40b90>"
      ]
     },
     "metadata": {},
     "output_type": "display_data"
    },
    {
     "data": {
      "text/html": [],
      "text/plain": [
       "<IPython.core.display.HTML object>"
      ]
     },
     "metadata": {},
     "output_type": "display_data"
    },
    {
     "name": "stdout",
     "output_type": "stream",
     "text": [
      "For Cluster = 4\n"
     ]
    },
    {
     "data": {
      "text/html": [],
      "text/plain": [
       "<IPython.core.display.HTML object>"
      ]
     },
     "metadata": {},
     "output_type": "display_data"
    },
    {
     "data": {
      "text/html": [
       "<style type=\"text/css\">\n",
       "</style>\n",
       "<table id=\"T_819ae\">\n",
       "  <thead>\n",
       "    <tr>\n",
       "      <th class=\"blank level0\" >&nbsp;</th>\n",
       "      <th id=\"T_819ae_level0_col0\" class=\"col_heading level0 col0\" >Silhouette</th>\n",
       "      <th id=\"T_819ae_level0_col1\" class=\"col_heading level0 col1\" >Calinski-Harabasz</th>\n",
       "      <th id=\"T_819ae_level0_col2\" class=\"col_heading level0 col2\" >Davies-Bouldin</th>\n",
       "      <th id=\"T_819ae_level0_col3\" class=\"col_heading level0 col3\" >Homogeneity</th>\n",
       "      <th id=\"T_819ae_level0_col4\" class=\"col_heading level0 col4\" >Rand Index</th>\n",
       "      <th id=\"T_819ae_level0_col5\" class=\"col_heading level0 col5\" >Completeness</th>\n",
       "    </tr>\n",
       "  </thead>\n",
       "  <tbody>\n",
       "    <tr>\n",
       "      <th id=\"T_819ae_level0_row0\" class=\"row_heading level0 row0\" >0</th>\n",
       "      <td id=\"T_819ae_row0_col0\" class=\"data row0 col0\" >0.3434</td>\n",
       "      <td id=\"T_819ae_row0_col1\" class=\"data row0 col1\" >183.0927</td>\n",
       "      <td id=\"T_819ae_row0_col2\" class=\"data row0 col2\" >1.2953</td>\n",
       "      <td id=\"T_819ae_row0_col3\" class=\"data row0 col3\" >0</td>\n",
       "      <td id=\"T_819ae_row0_col4\" class=\"data row0 col4\" >0</td>\n",
       "      <td id=\"T_819ae_row0_col5\" class=\"data row0 col5\" >0</td>\n",
       "    </tr>\n",
       "  </tbody>\n",
       "</table>\n"
      ],
      "text/plain": [
       "<pandas.io.formats.style.Styler at 0x22b8be786d0>"
      ]
     },
     "metadata": {},
     "output_type": "display_data"
    },
    {
     "data": {
      "text/html": [],
      "text/plain": [
       "<IPython.core.display.HTML object>"
      ]
     },
     "metadata": {},
     "output_type": "display_data"
    },
    {
     "name": "stdout",
     "output_type": "stream",
     "text": [
      "For Cluster = 5\n"
     ]
    },
    {
     "data": {
      "text/html": [],
      "text/plain": [
       "<IPython.core.display.HTML object>"
      ]
     },
     "metadata": {},
     "output_type": "display_data"
    },
    {
     "data": {
      "text/html": [
       "<style type=\"text/css\">\n",
       "</style>\n",
       "<table id=\"T_501d9\">\n",
       "  <thead>\n",
       "    <tr>\n",
       "      <th class=\"blank level0\" >&nbsp;</th>\n",
       "      <th id=\"T_501d9_level0_col0\" class=\"col_heading level0 col0\" >Silhouette</th>\n",
       "      <th id=\"T_501d9_level0_col1\" class=\"col_heading level0 col1\" >Calinski-Harabasz</th>\n",
       "      <th id=\"T_501d9_level0_col2\" class=\"col_heading level0 col2\" >Davies-Bouldin</th>\n",
       "      <th id=\"T_501d9_level0_col3\" class=\"col_heading level0 col3\" >Homogeneity</th>\n",
       "      <th id=\"T_501d9_level0_col4\" class=\"col_heading level0 col4\" >Rand Index</th>\n",
       "      <th id=\"T_501d9_level0_col5\" class=\"col_heading level0 col5\" >Completeness</th>\n",
       "    </tr>\n",
       "  </thead>\n",
       "  <tbody>\n",
       "    <tr>\n",
       "      <th id=\"T_501d9_level0_row0\" class=\"row_heading level0 row0\" >0</th>\n",
       "      <td id=\"T_501d9_row0_col0\" class=\"data row0 col0\" >0.2771</td>\n",
       "      <td id=\"T_501d9_row0_col1\" class=\"data row0 col1\" >158.9339</td>\n",
       "      <td id=\"T_501d9_row0_col2\" class=\"data row0 col2\" >1.2797</td>\n",
       "      <td id=\"T_501d9_row0_col3\" class=\"data row0 col3\" >0</td>\n",
       "      <td id=\"T_501d9_row0_col4\" class=\"data row0 col4\" >0</td>\n",
       "      <td id=\"T_501d9_row0_col5\" class=\"data row0 col5\" >0</td>\n",
       "    </tr>\n",
       "  </tbody>\n",
       "</table>\n"
      ],
      "text/plain": [
       "<pandas.io.formats.style.Styler at 0x22b8beeb610>"
      ]
     },
     "metadata": {},
     "output_type": "display_data"
    },
    {
     "data": {
      "text/html": [],
      "text/plain": [
       "<IPython.core.display.HTML object>"
      ]
     },
     "metadata": {},
     "output_type": "display_data"
    }
   ],
   "source": [
    "setup(data = seedDataSet,normalize = True, normalize_method = 'minmax', transformation = True, transformation_method = 'yeo-johnson', verbose=False)\n",
    "print(\"For Cluster = 3\")\n",
    "x4 = create_model('kmeans', num_clusters = 3)\n",
    "\n",
    "print(\"For Cluster = 4\")\n",
    "y4 = create_model('kmeans', num_clusters = 4)\n",
    "\n",
    "print(\"For Cluster = 5\")\n",
    "z4 = create_model('kmeans', num_clusters = 5)"
   ]
  },
  {
   "cell_type": "markdown",
   "metadata": {},
   "source": [
    "After PCA"
   ]
  },
  {
   "cell_type": "code",
   "execution_count": 86,
   "metadata": {},
   "outputs": [
    {
     "data": {
      "text/html": [],
      "text/plain": [
       "<IPython.core.display.HTML object>"
      ]
     },
     "metadata": {},
     "output_type": "display_data"
    },
    {
     "data": {
      "text/html": [
       "<style type=\"text/css\">\n",
       "</style>\n",
       "<table id=\"T_5b4c7\">\n",
       "  <thead>\n",
       "    <tr>\n",
       "      <th class=\"blank level0\" >&nbsp;</th>\n",
       "      <th id=\"T_5b4c7_level0_col0\" class=\"col_heading level0 col0\" >Silhouette</th>\n",
       "      <th id=\"T_5b4c7_level0_col1\" class=\"col_heading level0 col1\" >Calinski-Harabasz</th>\n",
       "      <th id=\"T_5b4c7_level0_col2\" class=\"col_heading level0 col2\" >Davies-Bouldin</th>\n",
       "      <th id=\"T_5b4c7_level0_col3\" class=\"col_heading level0 col3\" >Homogeneity</th>\n",
       "      <th id=\"T_5b4c7_level0_col4\" class=\"col_heading level0 col4\" >Rand Index</th>\n",
       "      <th id=\"T_5b4c7_level0_col5\" class=\"col_heading level0 col5\" >Completeness</th>\n",
       "    </tr>\n",
       "  </thead>\n",
       "  <tbody>\n",
       "    <tr>\n",
       "      <th id=\"T_5b4c7_level0_row0\" class=\"row_heading level0 row0\" >0</th>\n",
       "      <td id=\"T_5b4c7_row0_col0\" class=\"data row0 col0\" >0.3928</td>\n",
       "      <td id=\"T_5b4c7_row0_col1\" class=\"data row0 col1\" >275.4455</td>\n",
       "      <td id=\"T_5b4c7_row0_col2\" class=\"data row0 col2\" >0.9250</td>\n",
       "      <td id=\"T_5b4c7_row0_col3\" class=\"data row0 col3\" >0</td>\n",
       "      <td id=\"T_5b4c7_row0_col4\" class=\"data row0 col4\" >0</td>\n",
       "      <td id=\"T_5b4c7_row0_col5\" class=\"data row0 col5\" >0</td>\n",
       "    </tr>\n",
       "  </tbody>\n",
       "</table>\n"
      ],
      "text/plain": [
       "<pandas.io.formats.style.Styler at 0x22b8adc0b90>"
      ]
     },
     "metadata": {},
     "output_type": "display_data"
    },
    {
     "data": {
      "text/html": [],
      "text/plain": [
       "<IPython.core.display.HTML object>"
      ]
     },
     "metadata": {},
     "output_type": "display_data"
    },
    {
     "data": {
      "text/html": [],
      "text/plain": [
       "<IPython.core.display.HTML object>"
      ]
     },
     "metadata": {},
     "output_type": "display_data"
    },
    {
     "data": {
      "image/png": "[encoded data removed]",
      "text/plain": [
       "<Figure size 800x550 with 1 Axes>"
      ]
     },
     "metadata": {},
     "output_type": "display_data"
    }
   ],
   "source": [
    "setup(data = seedDataSet, pca = True, pca_method = 'linear', verbose=False)\n",
    "x = create_model('kmeans')\n",
    "plot_model(x, plot = 'elbow')"
   ]
  },
  {
   "cell_type": "code",
   "execution_count": 87,
   "metadata": {},
   "outputs": [
    {
     "name": "stdout",
     "output_type": "stream",
     "text": [
      "For Cluster = 3\n"
     ]
    },
    {
     "data": {
      "text/html": [],
      "text/plain": [
       "<IPython.core.display.HTML object>"
      ]
     },
     "metadata": {},
     "output_type": "display_data"
    },
    {
     "data": {
      "text/html": [
       "<style type=\"text/css\">\n",
       "</style>\n",
       "<table id=\"T_0853b\">\n",
       "  <thead>\n",
       "    <tr>\n",
       "      <th class=\"blank level0\" >&nbsp;</th>\n",
       "      <th id=\"T_0853b_level0_col0\" class=\"col_heading level0 col0\" >Silhouette</th>\n",
       "      <th id=\"T_0853b_level0_col1\" class=\"col_heading level0 col1\" >Calinski-Harabasz</th>\n",
       "      <th id=\"T_0853b_level0_col2\" class=\"col_heading level0 col2\" >Davies-Bouldin</th>\n",
       "      <th id=\"T_0853b_level0_col3\" class=\"col_heading level0 col3\" >Homogeneity</th>\n",
       "      <th id=\"T_0853b_level0_col4\" class=\"col_heading level0 col4\" >Rand Index</th>\n",
       "      <th id=\"T_0853b_level0_col5\" class=\"col_heading level0 col5\" >Completeness</th>\n",
       "    </tr>\n",
       "  </thead>\n",
       "  <tbody>\n",
       "    <tr>\n",
       "      <th id=\"T_0853b_level0_row0\" class=\"row_heading level0 row0\" >0</th>\n",
       "      <td id=\"T_0853b_row0_col0\" class=\"data row0 col0\" >0.4540</td>\n",
       "      <td id=\"T_0853b_row0_col1\" class=\"data row0 col1\" >324.4955</td>\n",
       "      <td id=\"T_0853b_row0_col2\" class=\"data row0 col2\" >0.7987</td>\n",
       "      <td id=\"T_0853b_row0_col3\" class=\"data row0 col3\" >0</td>\n",
       "      <td id=\"T_0853b_row0_col4\" class=\"data row0 col4\" >0</td>\n",
       "      <td id=\"T_0853b_row0_col5\" class=\"data row0 col5\" >0</td>\n",
       "    </tr>\n",
       "  </tbody>\n",
       "</table>\n"
      ],
      "text/plain": [
       "<pandas.io.formats.style.Styler at 0x22b8bf0bc90>"
      ]
     },
     "metadata": {},
     "output_type": "display_data"
    },
    {
     "data": {
      "text/html": [],
      "text/plain": [
       "<IPython.core.display.HTML object>"
      ]
     },
     "metadata": {},
     "output_type": "display_data"
    },
    {
     "name": "stdout",
     "output_type": "stream",
     "text": [
      "For Cluster = 4\n"
     ]
    },
    {
     "data": {
      "text/html": [],
      "text/plain": [
       "<IPython.core.display.HTML object>"
      ]
     },
     "metadata": {},
     "output_type": "display_data"
    },
    {
     "data": {
      "text/html": [
       "<style type=\"text/css\">\n",
       "</style>\n",
       "<table id=\"T_17fc5\">\n",
       "  <thead>\n",
       "    <tr>\n",
       "      <th class=\"blank level0\" >&nbsp;</th>\n",
       "      <th id=\"T_17fc5_level0_col0\" class=\"col_heading level0 col0\" >Silhouette</th>\n",
       "      <th id=\"T_17fc5_level0_col1\" class=\"col_heading level0 col1\" >Calinski-Harabasz</th>\n",
       "      <th id=\"T_17fc5_level0_col2\" class=\"col_heading level0 col2\" >Davies-Bouldin</th>\n",
       "      <th id=\"T_17fc5_level0_col3\" class=\"col_heading level0 col3\" >Homogeneity</th>\n",
       "      <th id=\"T_17fc5_level0_col4\" class=\"col_heading level0 col4\" >Rand Index</th>\n",
       "      <th id=\"T_17fc5_level0_col5\" class=\"col_heading level0 col5\" >Completeness</th>\n",
       "    </tr>\n",
       "  </thead>\n",
       "  <tbody>\n",
       "    <tr>\n",
       "      <th id=\"T_17fc5_level0_row0\" class=\"row_heading level0 row0\" >0</th>\n",
       "      <td id=\"T_17fc5_row0_col0\" class=\"data row0 col0\" >0.4030</td>\n",
       "      <td id=\"T_17fc5_row0_col1\" class=\"data row0 col1\" >275.5164</td>\n",
       "      <td id=\"T_17fc5_row0_col2\" class=\"data row0 col2\" >0.8609</td>\n",
       "      <td id=\"T_17fc5_row0_col3\" class=\"data row0 col3\" >0</td>\n",
       "      <td id=\"T_17fc5_row0_col4\" class=\"data row0 col4\" >0</td>\n",
       "      <td id=\"T_17fc5_row0_col5\" class=\"data row0 col5\" >0</td>\n",
       "    </tr>\n",
       "  </tbody>\n",
       "</table>\n"
      ],
      "text/plain": [
       "<pandas.io.formats.style.Styler at 0x22b8bf24a50>"
      ]
     },
     "metadata": {},
     "output_type": "display_data"
    },
    {
     "data": {
      "text/html": [],
      "text/plain": [
       "<IPython.core.display.HTML object>"
      ]
     },
     "metadata": {},
     "output_type": "display_data"
    },
    {
     "name": "stdout",
     "output_type": "stream",
     "text": [
      "For Cluster = 5\n"
     ]
    },
    {
     "data": {
      "text/html": [],
      "text/plain": [
       "<IPython.core.display.HTML object>"
      ]
     },
     "metadata": {},
     "output_type": "display_data"
    },
    {
     "data": {
      "text/html": [
       "<style type=\"text/css\">\n",
       "</style>\n",
       "<table id=\"T_c4a30\">\n",
       "  <thead>\n",
       "    <tr>\n",
       "      <th class=\"blank level0\" >&nbsp;</th>\n",
       "      <th id=\"T_c4a30_level0_col0\" class=\"col_heading level0 col0\" >Silhouette</th>\n",
       "      <th id=\"T_c4a30_level0_col1\" class=\"col_heading level0 col1\" >Calinski-Harabasz</th>\n",
       "      <th id=\"T_c4a30_level0_col2\" class=\"col_heading level0 col2\" >Davies-Bouldin</th>\n",
       "      <th id=\"T_c4a30_level0_col3\" class=\"col_heading level0 col3\" >Homogeneity</th>\n",
       "      <th id=\"T_c4a30_level0_col4\" class=\"col_heading level0 col4\" >Rand Index</th>\n",
       "      <th id=\"T_c4a30_level0_col5\" class=\"col_heading level0 col5\" >Completeness</th>\n",
       "    </tr>\n",
       "  </thead>\n",
       "  <tbody>\n",
       "    <tr>\n",
       "      <th id=\"T_c4a30_level0_row0\" class=\"row_heading level0 row0\" >0</th>\n",
       "      <td id=\"T_c4a30_row0_col0\" class=\"data row0 col0\" >0.3612</td>\n",
       "      <td id=\"T_c4a30_row0_col1\" class=\"data row0 col1\" >256.8150</td>\n",
       "      <td id=\"T_c4a30_row0_col2\" class=\"data row0 col2\" >0.9768</td>\n",
       "      <td id=\"T_c4a30_row0_col3\" class=\"data row0 col3\" >0</td>\n",
       "      <td id=\"T_c4a30_row0_col4\" class=\"data row0 col4\" >0</td>\n",
       "      <td id=\"T_c4a30_row0_col5\" class=\"data row0 col5\" >0</td>\n",
       "    </tr>\n",
       "  </tbody>\n",
       "</table>\n"
      ],
      "text/plain": [
       "<pandas.io.formats.style.Styler at 0x22b8bf8fc50>"
      ]
     },
     "metadata": {},
     "output_type": "display_data"
    },
    {
     "data": {
      "text/html": [],
      "text/plain": [
       "<IPython.core.display.HTML object>"
      ]
     },
     "metadata": {},
     "output_type": "display_data"
    }
   ],
   "source": [
    "setup(data = seedDataSet, pca = True, pca_method = 'linear', verbose=False)\n",
    "print(\"For Cluster = 3\")\n",
    "x5 = create_model('kmeans', num_clusters = 3)\n",
    "\n",
    "print(\"For Cluster = 4\")\n",
    "y5 = create_model('kmeans', num_clusters = 4)\n",
    "\n",
    "print(\"For Cluster = 5\")\n",
    "z5 = create_model('kmeans', num_clusters = 5)"
   ]
  },
  {
   "cell_type": "markdown",
   "metadata": {},
   "source": [
    "After Normalization (min-max) + Transformation (yeo-johnson) + PCA"
   ]
  },
  {
   "cell_type": "code",
   "execution_count": 101,
   "metadata": {},
   "outputs": [
    {
     "name": "stdout",
     "output_type": "stream",
     "text": [
      "For Cluster = 3\n"
     ]
    },
    {
     "data": {
      "text/html": [],
      "text/plain": [
       "<IPython.core.display.HTML object>"
      ]
     },
     "metadata": {},
     "output_type": "display_data"
    },
    {
     "data": {
      "text/html": [
       "<style type=\"text/css\">\n",
       "</style>\n",
       "<table id=\"T_45360\">\n",
       "  <thead>\n",
       "    <tr>\n",
       "      <th class=\"blank level0\" >&nbsp;</th>\n",
       "      <th id=\"T_45360_level0_col0\" class=\"col_heading level0 col0\" >Silhouette</th>\n",
       "      <th id=\"T_45360_level0_col1\" class=\"col_heading level0 col1\" >Calinski-Harabasz</th>\n",
       "      <th id=\"T_45360_level0_col2\" class=\"col_heading level0 col2\" >Davies-Bouldin</th>\n",
       "      <th id=\"T_45360_level0_col3\" class=\"col_heading level0 col3\" >Homogeneity</th>\n",
       "      <th id=\"T_45360_level0_col4\" class=\"col_heading level0 col4\" >Rand Index</th>\n",
       "      <th id=\"T_45360_level0_col5\" class=\"col_heading level0 col5\" >Completeness</th>\n",
       "    </tr>\n",
       "  </thead>\n",
       "  <tbody>\n",
       "    <tr>\n",
       "      <th id=\"T_45360_level0_row0\" class=\"row_heading level0 row0\" >0</th>\n",
       "      <td id=\"T_45360_row0_col0\" class=\"data row0 col0\" >0.4026</td>\n",
       "      <td id=\"T_45360_row0_col1\" class=\"data row0 col1\" >232.0212</td>\n",
       "      <td id=\"T_45360_row0_col2\" class=\"data row0 col2\" >0.9484</td>\n",
       "      <td id=\"T_45360_row0_col3\" class=\"data row0 col3\" >0</td>\n",
       "      <td id=\"T_45360_row0_col4\" class=\"data row0 col4\" >0</td>\n",
       "      <td id=\"T_45360_row0_col5\" class=\"data row0 col5\" >0</td>\n",
       "    </tr>\n",
       "  </tbody>\n",
       "</table>\n"
      ],
      "text/plain": [
       "<pandas.io.formats.style.Styler at 0x22b8e81c9d0>"
      ]
     },
     "metadata": {},
     "output_type": "display_data"
    },
    {
     "data": {
      "text/html": [],
      "text/plain": [
       "<IPython.core.display.HTML object>"
      ]
     },
     "metadata": {},
     "output_type": "display_data"
    },
    {
     "name": "stdout",
     "output_type": "stream",
     "text": [
      "For Cluster = 4\n"
     ]
    },
    {
     "data": {
      "text/html": [],
      "text/plain": [
       "<IPython.core.display.HTML object>"
      ]
     },
     "metadata": {},
     "output_type": "display_data"
    },
    {
     "data": {
      "text/html": [
       "<style type=\"text/css\">\n",
       "</style>\n",
       "<table id=\"T_da400\">\n",
       "  <thead>\n",
       "    <tr>\n",
       "      <th class=\"blank level0\" >&nbsp;</th>\n",
       "      <th id=\"T_da400_level0_col0\" class=\"col_heading level0 col0\" >Silhouette</th>\n",
       "      <th id=\"T_da400_level0_col1\" class=\"col_heading level0 col1\" >Calinski-Harabasz</th>\n",
       "      <th id=\"T_da400_level0_col2\" class=\"col_heading level0 col2\" >Davies-Bouldin</th>\n",
       "      <th id=\"T_da400_level0_col3\" class=\"col_heading level0 col3\" >Homogeneity</th>\n",
       "      <th id=\"T_da400_level0_col4\" class=\"col_heading level0 col4\" >Rand Index</th>\n",
       "      <th id=\"T_da400_level0_col5\" class=\"col_heading level0 col5\" >Completeness</th>\n",
       "    </tr>\n",
       "  </thead>\n",
       "  <tbody>\n",
       "    <tr>\n",
       "      <th id=\"T_da400_level0_row0\" class=\"row_heading level0 row0\" >0</th>\n",
       "      <td id=\"T_da400_row0_col0\" class=\"data row0 col0\" >0.3428</td>\n",
       "      <td id=\"T_da400_row0_col1\" class=\"data row0 col1\" >183.1045</td>\n",
       "      <td id=\"T_da400_row0_col2\" class=\"data row0 col2\" >1.2963</td>\n",
       "      <td id=\"T_da400_row0_col3\" class=\"data row0 col3\" >0</td>\n",
       "      <td id=\"T_da400_row0_col4\" class=\"data row0 col4\" >0</td>\n",
       "      <td id=\"T_da400_row0_col5\" class=\"data row0 col5\" >0</td>\n",
       "    </tr>\n",
       "  </tbody>\n",
       "</table>\n"
      ],
      "text/plain": [
       "<pandas.io.formats.style.Styler at 0x22b8e808890>"
      ]
     },
     "metadata": {},
     "output_type": "display_data"
    },
    {
     "data": {
      "text/html": [],
      "text/plain": [
       "<IPython.core.display.HTML object>"
      ]
     },
     "metadata": {},
     "output_type": "display_data"
    },
    {
     "name": "stdout",
     "output_type": "stream",
     "text": [
      "For Cluster = 5\n"
     ]
    },
    {
     "data": {
      "text/html": [],
      "text/plain": [
       "<IPython.core.display.HTML object>"
      ]
     },
     "metadata": {},
     "output_type": "display_data"
    },
    {
     "data": {
      "text/html": [
       "<style type=\"text/css\">\n",
       "</style>\n",
       "<table id=\"T_7a4a5\">\n",
       "  <thead>\n",
       "    <tr>\n",
       "      <th class=\"blank level0\" >&nbsp;</th>\n",
       "      <th id=\"T_7a4a5_level0_col0\" class=\"col_heading level0 col0\" >Silhouette</th>\n",
       "      <th id=\"T_7a4a5_level0_col1\" class=\"col_heading level0 col1\" >Calinski-Harabasz</th>\n",
       "      <th id=\"T_7a4a5_level0_col2\" class=\"col_heading level0 col2\" >Davies-Bouldin</th>\n",
       "      <th id=\"T_7a4a5_level0_col3\" class=\"col_heading level0 col3\" >Homogeneity</th>\n",
       "      <th id=\"T_7a4a5_level0_col4\" class=\"col_heading level0 col4\" >Rand Index</th>\n",
       "      <th id=\"T_7a4a5_level0_col5\" class=\"col_heading level0 col5\" >Completeness</th>\n",
       "    </tr>\n",
       "  </thead>\n",
       "  <tbody>\n",
       "    <tr>\n",
       "      <th id=\"T_7a4a5_level0_row0\" class=\"row_heading level0 row0\" >0</th>\n",
       "      <td id=\"T_7a4a5_row0_col0\" class=\"data row0 col0\" >0.2858</td>\n",
       "      <td id=\"T_7a4a5_row0_col1\" class=\"data row0 col1\" >157.6637</td>\n",
       "      <td id=\"T_7a4a5_row0_col2\" class=\"data row0 col2\" >1.3029</td>\n",
       "      <td id=\"T_7a4a5_row0_col3\" class=\"data row0 col3\" >0</td>\n",
       "      <td id=\"T_7a4a5_row0_col4\" class=\"data row0 col4\" >0</td>\n",
       "      <td id=\"T_7a4a5_row0_col5\" class=\"data row0 col5\" >0</td>\n",
       "    </tr>\n",
       "  </tbody>\n",
       "</table>\n"
      ],
      "text/plain": [
       "<pandas.io.formats.style.Styler at 0x22b8c3e13d0>"
      ]
     },
     "metadata": {},
     "output_type": "display_data"
    },
    {
     "data": {
      "text/html": [],
      "text/plain": [
       "<IPython.core.display.HTML object>"
      ]
     },
     "metadata": {},
     "output_type": "display_data"
    }
   ],
   "source": [
    "setup(data = seedDataSet,normalize = True, normalize_method = 'minmax', transformation = True, transformation_method = 'yeo-johnson',pca = True, pca_method = 'linear', verbose=False)\n",
    "print(\"For Cluster = 3\")\n",
    "x4 = create_model('kmeans', num_clusters = 3)\n",
    "\n",
    "print(\"For Cluster = 4\")\n",
    "y4 = create_model('kmeans', num_clusters = 4)\n",
    "\n",
    "print(\"For Cluster = 5\")\n",
    "z4 = create_model('kmeans', num_clusters = 5)"
   ]
  },
  {
   "cell_type": "markdown",
   "metadata": {},
   "source": [
    "FINAL OUTPUT"
   ]
  },
  {
   "cell_type": "code",
   "execution_count": 6,
   "metadata": {},
   "outputs": [
    {
     "name": "stdout",
     "output_type": "stream",
     "text": [
      "╒══════════════════════╤═════════════════════════╤═════════════════════════╤═════════════════════════╤════════════════════════════════╤════════════════════════════════╤════════════════════════════════╤═════════════════════════════╤═════════════════════════════╤═════════════════════════════╕\n",
      "│                      │   ('Silhouette', 'c=3') │   ('Silhouette', 'c=4') │   ('Silhouette', 'c=5') │   ('Calinski-Harabasz', 'c=3') │   ('Calinski-Harabasz', 'c=4') │   ('Calinski-Harabasz', 'c=5') │   ('Davies-Bouldin', 'c=3') │   ('Davies-Bouldin', 'c=4') │   ('Davies-Bouldin', 'c=5') │\n",
      "╞══════════════════════╪═════════════════════════╪═════════════════════════╪═════════════════════════╪════════════════════════════════╪════════════════════════════════╪════════════════════════════════╪═════════════════════════════╪═════════════════════════════╪═════════════════════════════╡\n",
      "│ No Data Processing   │                  0.454  │                  0.3985 │                  0.3622 │                        324.495 │                        276.028 │                        256.955 │                      0.7987 │                      0.9254 │                      0.9701 │\n",
      "├──────────────────────┼─────────────────────────┼─────────────────────────┼─────────────────────────┼────────────────────────────────┼────────────────────────────────┼────────────────────────────────┼─────────────────────────────┼─────────────────────────────┼─────────────────────────────┤\n",
      "│ After Normalization  │                  0.3986 │                  0.4044 │                  0.3414 │                        213.622 │                        172.659 │                        156.816 │                      0.9698 │                      0.8558 │                      1.0103 │\n",
      "├──────────────────────┼─────────────────────────┼─────────────────────────┼─────────────────────────┼────────────────────────────────┼────────────────────────────────┼────────────────────────────────┼─────────────────────────────┼─────────────────────────────┼─────────────────────────────┤\n",
      "│ After Transformation │                  0.5234 │                  0.5343 │                  0.5207 │                        492.833 │                        653.319 │                        736.604 │                      0.5664 │                      0.5415 │                      0.5515 │\n",
      "├──────────────────────┼─────────────────────────┼─────────────────────────┼─────────────────────────┼────────────────────────────────┼────────────────────────────────┼────────────────────────────────┼─────────────────────────────┼─────────────────────────────┼─────────────────────────────┤\n",
      "│ After PCA            │                  0.454  │                  0.403  │                  0.3612 │                        324.495 │                        275.516 │                        256.815 │                      0.7987 │                      0.8609 │                      0.9768 │\n",
      "├──────────────────────┼─────────────────────────┼─────────────────────────┼─────────────────────────┼────────────────────────────────┼────────────────────────────────┼────────────────────────────────┼─────────────────────────────┼─────────────────────────────┼─────────────────────────────┤\n",
      "│ After T + N          │                  0.4026 │                  0.3434 │                  0.2771 │                        232.021 │                        183.093 │                        158.934 │                      0.9484 │                      1.2953 │                      1.2797 │\n",
      "├──────────────────────┼─────────────────────────┼─────────────────────────┼─────────────────────────┼────────────────────────────────┼────────────────────────────────┼────────────────────────────────┼─────────────────────────────┼─────────────────────────────┼─────────────────────────────┤\n",
      "│ T + N + PCA          │                  0.4026 │                  0.3428 │                  0.2858 │                        232.021 │                        183.105 │                        157.664 │                      0.9484 │                      1.2963 │                      1.3029 │\n",
      "╘══════════════════════╧═════════════════════════╧═════════════════════════╧═════════════════════════╧════════════════════════════════╧════════════════════════════════╧════════════════════════════════╧═════════════════════════════╧═════════════════════════════╧═════════════════════════════╛\n"
     ]
    }
   ],
   "source": [
    "import pandas as pd\n",
    "from tabulate import tabulate\n",
    "\n",
    "silhouette_values = [[0.4540, 0.3985, 0.3622],\n",
    "                     [0.3986, 0.4044, 0.3414],\n",
    "                     [0.5234, 0.5343, 0.5207],\n",
    "                     [0.4540, 0.4030, 0.3612],\n",
    "                     [0.4026, 0.3434, 0.2771],\n",
    "                     [0.4026, 0.3428, 0.2858]]\n",
    "\n",
    "calinski_values = [[324.4954, 276.0281, 256.9547],\n",
    "                   [213.6218, 172.6593, 156.8165],\n",
    "                   [492.8330, 653.3190, 736.6037],\n",
    "                   [324.4955, 275.5164, 256.8150],\n",
    "                   [232.0212, 183.0927, 158.9339],\n",
    "                   [232.0212, 183.1045, 157.6637]]\n",
    "\n",
    "davies_values = [[0.7987, 0.9254, 0.9701],\n",
    "                 [0.9698, 0.8558, 1.0103],\n",
    "                 [0.5664, 0.5415, 0.5515],\n",
    "                 [0.7987, 0.8609, 0.9768],\n",
    "                 [0.9484, 1.2953, 1.2797],\n",
    "                 [0.9484, 1.2963, 1.3029]]\n",
    "\n",
    "methods = ['No Data Processing', 'After Normalization', 'After Transformation', 'After PCA', 'After T + N', 'T + N + PCA']\n",
    "clusters = ['c=3', 'c=4', 'c=5']\n",
    "\n",
    "# Create DataFrames for each metric\n",
    "silhouette_df = pd.DataFrame(silhouette_values, columns=clusters, index=methods)\n",
    "calinski_df = pd.DataFrame(calinski_values, columns=clusters, index=methods)\n",
    "davies_df = pd.DataFrame(davies_values, columns=clusters, index=methods)\n",
    "\n",
    "# Concatenate DataFrames horizontally\n",
    "combined_df = pd.concat([silhouette_df, calinski_df, davies_df], axis=1, keys=['Silhouette', 'Calinski-Harabasz', 'Davies-Bouldin'])\n",
    "\n",
    "# Display the combined table\n",
    "print(tabulate(combined_df, headers='keys', tablefmt='fancy_grid'))\n"
   ]
  },
  {
   "cell_type": "code",
   "execution_count": 7,
   "metadata": {},
   "outputs": [
    {
     "data": {
      "text/plain": [
       "True"
      ]
     },
     "execution_count": 7,
     "metadata": {},
     "output_type": "execute_result"
    }
   ],
   "source": [
    "import webbrowser\n",
    "\n",
    "# Export the table to a CSV file\n",
    "combined_df.to_csv('kmeans_clustering_table.csv', index=False)\n",
    "\n",
    "# Open the file in the default web browser\n",
    "webbrowser.open('kmeans_clustering_table.csv')"
   ]
  },
  {
   "cell_type": "markdown",
   "metadata": {},
   "source": [
    "Using Hierarchical Clustering"
   ]
  },
  {
   "cell_type": "markdown",
   "metadata": {},
   "source": [
    "No Data Processing"
   ]
  },
  {
   "cell_type": "code",
   "execution_count": 108,
   "metadata": {},
   "outputs": [
    {
     "name": "stdout",
     "output_type": "stream",
     "text": [
      "For Cluster = 3\n"
     ]
    },
    {
     "data": {
      "text/html": [],
      "text/plain": [
       "<IPython.core.display.HTML object>"
      ]
     },
     "metadata": {},
     "output_type": "display_data"
    },
    {
     "data": {
      "text/html": [
       "<style type=\"text/css\">\n",
       "</style>\n",
       "<table id=\"T_71bd1\">\n",
       "  <thead>\n",
       "    <tr>\n",
       "      <th class=\"blank level0\" >&nbsp;</th>\n",
       "      <th id=\"T_71bd1_level0_col0\" class=\"col_heading level0 col0\" >Silhouette</th>\n",
       "      <th id=\"T_71bd1_level0_col1\" class=\"col_heading level0 col1\" >Calinski-Harabasz</th>\n",
       "      <th id=\"T_71bd1_level0_col2\" class=\"col_heading level0 col2\" >Davies-Bouldin</th>\n",
       "      <th id=\"T_71bd1_level0_col3\" class=\"col_heading level0 col3\" >Homogeneity</th>\n",
       "      <th id=\"T_71bd1_level0_col4\" class=\"col_heading level0 col4\" >Rand Index</th>\n",
       "      <th id=\"T_71bd1_level0_col5\" class=\"col_heading level0 col5\" >Completeness</th>\n",
       "    </tr>\n",
       "  </thead>\n",
       "  <tbody>\n",
       "    <tr>\n",
       "      <th id=\"T_71bd1_level0_row0\" class=\"row_heading level0 row0\" >0</th>\n",
       "      <td id=\"T_71bd1_row0_col0\" class=\"data row0 col0\" >0.4066</td>\n",
       "      <td id=\"T_71bd1_row0_col1\" class=\"data row0 col1\" >253.3362</td>\n",
       "      <td id=\"T_71bd1_row0_col2\" class=\"data row0 col2\" >0.8383</td>\n",
       "      <td id=\"T_71bd1_row0_col3\" class=\"data row0 col3\" >0</td>\n",
       "      <td id=\"T_71bd1_row0_col4\" class=\"data row0 col4\" >0</td>\n",
       "      <td id=\"T_71bd1_row0_col5\" class=\"data row0 col5\" >0</td>\n",
       "    </tr>\n",
       "  </tbody>\n",
       "</table>\n"
      ],
      "text/plain": [
       "<pandas.io.formats.style.Styler at 0x22b8dff7cd0>"
      ]
     },
     "metadata": {},
     "output_type": "display_data"
    },
    {
     "data": {
      "text/html": [],
      "text/plain": [
       "<IPython.core.display.HTML object>"
      ]
     },
     "metadata": {},
     "output_type": "display_data"
    },
    {
     "name": "stdout",
     "output_type": "stream",
     "text": [
      "For Cluster = 4\n"
     ]
    },
    {
     "data": {
      "text/html": [],
      "text/plain": [
       "<IPython.core.display.HTML object>"
      ]
     },
     "metadata": {},
     "output_type": "display_data"
    },
    {
     "data": {
      "text/html": [
       "<style type=\"text/css\">\n",
       "</style>\n",
       "<table id=\"T_58581\">\n",
       "  <thead>\n",
       "    <tr>\n",
       "      <th class=\"blank level0\" >&nbsp;</th>\n",
       "      <th id=\"T_58581_level0_col0\" class=\"col_heading level0 col0\" >Silhouette</th>\n",
       "      <th id=\"T_58581_level0_col1\" class=\"col_heading level0 col1\" >Calinski-Harabasz</th>\n",
       "      <th id=\"T_58581_level0_col2\" class=\"col_heading level0 col2\" >Davies-Bouldin</th>\n",
       "      <th id=\"T_58581_level0_col3\" class=\"col_heading level0 col3\" >Homogeneity</th>\n",
       "      <th id=\"T_58581_level0_col4\" class=\"col_heading level0 col4\" >Rand Index</th>\n",
       "      <th id=\"T_58581_level0_col5\" class=\"col_heading level0 col5\" >Completeness</th>\n",
       "    </tr>\n",
       "  </thead>\n",
       "  <tbody>\n",
       "    <tr>\n",
       "      <th id=\"T_58581_level0_row0\" class=\"row_heading level0 row0\" >0</th>\n",
       "      <td id=\"T_58581_row0_col0\" class=\"data row0 col0\" >0.3914</td>\n",
       "      <td id=\"T_58581_row0_col1\" class=\"data row0 col1\" >256.1088</td>\n",
       "      <td id=\"T_58581_row0_col2\" class=\"data row0 col2\" >0.9231</td>\n",
       "      <td id=\"T_58581_row0_col3\" class=\"data row0 col3\" >0</td>\n",
       "      <td id=\"T_58581_row0_col4\" class=\"data row0 col4\" >0</td>\n",
       "      <td id=\"T_58581_row0_col5\" class=\"data row0 col5\" >0</td>\n",
       "    </tr>\n",
       "  </tbody>\n",
       "</table>\n"
      ],
      "text/plain": [
       "<pandas.io.formats.style.Styler at 0x22b8e80a690>"
      ]
     },
     "metadata": {},
     "output_type": "display_data"
    },
    {
     "data": {
      "text/html": [],
      "text/plain": [
       "<IPython.core.display.HTML object>"
      ]
     },
     "metadata": {},
     "output_type": "display_data"
    },
    {
     "name": "stdout",
     "output_type": "stream",
     "text": [
      "For Cluster = 5\n"
     ]
    },
    {
     "data": {
      "text/html": [],
      "text/plain": [
       "<IPython.core.display.HTML object>"
      ]
     },
     "metadata": {},
     "output_type": "display_data"
    },
    {
     "data": {
      "text/html": [
       "<style type=\"text/css\">\n",
       "</style>\n",
       "<table id=\"T_da11d\">\n",
       "  <thead>\n",
       "    <tr>\n",
       "      <th class=\"blank level0\" >&nbsp;</th>\n",
       "      <th id=\"T_da11d_level0_col0\" class=\"col_heading level0 col0\" >Silhouette</th>\n",
       "      <th id=\"T_da11d_level0_col1\" class=\"col_heading level0 col1\" >Calinski-Harabasz</th>\n",
       "      <th id=\"T_da11d_level0_col2\" class=\"col_heading level0 col2\" >Davies-Bouldin</th>\n",
       "      <th id=\"T_da11d_level0_col3\" class=\"col_heading level0 col3\" >Homogeneity</th>\n",
       "      <th id=\"T_da11d_level0_col4\" class=\"col_heading level0 col4\" >Rand Index</th>\n",
       "      <th id=\"T_da11d_level0_col5\" class=\"col_heading level0 col5\" >Completeness</th>\n",
       "    </tr>\n",
       "  </thead>\n",
       "  <tbody>\n",
       "    <tr>\n",
       "      <th id=\"T_da11d_level0_row0\" class=\"row_heading level0 row0\" >0</th>\n",
       "      <td id=\"T_da11d_row0_col0\" class=\"data row0 col0\" >0.3734</td>\n",
       "      <td id=\"T_da11d_row0_col1\" class=\"data row0 col1\" >231.3251</td>\n",
       "      <td id=\"T_da11d_row0_col2\" class=\"data row0 col2\" >0.9811</td>\n",
       "      <td id=\"T_da11d_row0_col3\" class=\"data row0 col3\" >0</td>\n",
       "      <td id=\"T_da11d_row0_col4\" class=\"data row0 col4\" >0</td>\n",
       "      <td id=\"T_da11d_row0_col5\" class=\"data row0 col5\" >0</td>\n",
       "    </tr>\n",
       "  </tbody>\n",
       "</table>\n"
      ],
      "text/plain": [
       "<pandas.io.formats.style.Styler at 0x22b8c2316d0>"
      ]
     },
     "metadata": {},
     "output_type": "display_data"
    },
    {
     "data": {
      "text/html": [],
      "text/plain": [
       "<IPython.core.display.HTML object>"
      ]
     },
     "metadata": {},
     "output_type": "display_data"
    }
   ],
   "source": [
    "setup(data = seedDataSet, verbose=False)\n",
    "\n",
    "print(\"For Cluster = 3\")\n",
    "x1 = create_model('hclust', num_clusters = 3)\n",
    "\n",
    "print(\"For Cluster = 4\")\n",
    "y1 = create_model('hclust', num_clusters = 4)\n",
    "\n",
    "print(\"For Cluster = 5\")\n",
    "z1 = create_model('hclust', num_clusters = 5)"
   ]
  },
  {
   "cell_type": "markdown",
   "metadata": {},
   "source": [
    "After Normalization"
   ]
  },
  {
   "cell_type": "code",
   "execution_count": 16,
   "metadata": {},
   "outputs": [
    {
     "name": "stdout",
     "output_type": "stream",
     "text": [
      "For Cluster = 3\n"
     ]
    },
    {
     "data": {
      "text/html": [],
      "text/plain": [
       "<IPython.core.display.HTML object>"
      ]
     },
     "metadata": {},
     "output_type": "display_data"
    },
    {
     "data": {
      "text/html": [
       "<style type=\"text/css\">\n",
       "</style>\n",
       "<table id=\"T_268c5\">\n",
       "  <thead>\n",
       "    <tr>\n",
       "      <th class=\"blank level0\" >&nbsp;</th>\n",
       "      <th id=\"T_268c5_level0_col0\" class=\"col_heading level0 col0\" >Silhouette</th>\n",
       "      <th id=\"T_268c5_level0_col1\" class=\"col_heading level0 col1\" >Calinski-Harabasz</th>\n",
       "      <th id=\"T_268c5_level0_col2\" class=\"col_heading level0 col2\" >Davies-Bouldin</th>\n",
       "      <th id=\"T_268c5_level0_col3\" class=\"col_heading level0 col3\" >Homogeneity</th>\n",
       "      <th id=\"T_268c5_level0_col4\" class=\"col_heading level0 col4\" >Rand Index</th>\n",
       "      <th id=\"T_268c5_level0_col5\" class=\"col_heading level0 col5\" >Completeness</th>\n",
       "    </tr>\n",
       "  </thead>\n",
       "  <tbody>\n",
       "    <tr>\n",
       "      <th id=\"T_268c5_level0_row0\" class=\"row_heading level0 row0\" >0</th>\n",
       "      <td id=\"T_268c5_row0_col0\" class=\"data row0 col0\" >0.3737</td>\n",
       "      <td id=\"T_268c5_row0_col1\" class=\"data row0 col1\" >189.7498</td>\n",
       "      <td id=\"T_268c5_row0_col2\" class=\"data row0 col2\" >1.0376</td>\n",
       "      <td id=\"T_268c5_row0_col3\" class=\"data row0 col3\" >0</td>\n",
       "      <td id=\"T_268c5_row0_col4\" class=\"data row0 col4\" >0</td>\n",
       "      <td id=\"T_268c5_row0_col5\" class=\"data row0 col5\" >0</td>\n",
       "    </tr>\n",
       "  </tbody>\n",
       "</table>\n"
      ],
      "text/plain": [
       "<pandas.io.formats.style.Styler at 0x1281b68be50>"
      ]
     },
     "metadata": {},
     "output_type": "display_data"
    },
    {
     "data": {
      "text/html": [],
      "text/plain": [
       "<IPython.core.display.HTML object>"
      ]
     },
     "metadata": {},
     "output_type": "display_data"
    },
    {
     "name": "stdout",
     "output_type": "stream",
     "text": [
      "For Cluster = 4\n"
     ]
    },
    {
     "data": {
      "text/html": [],
      "text/plain": [
       "<IPython.core.display.HTML object>"
      ]
     },
     "metadata": {},
     "output_type": "display_data"
    },
    {
     "data": {
      "text/html": [
       "<style type=\"text/css\">\n",
       "</style>\n",
       "<table id=\"T_c7ea7\">\n",
       "  <thead>\n",
       "    <tr>\n",
       "      <th class=\"blank level0\" >&nbsp;</th>\n",
       "      <th id=\"T_c7ea7_level0_col0\" class=\"col_heading level0 col0\" >Silhouette</th>\n",
       "      <th id=\"T_c7ea7_level0_col1\" class=\"col_heading level0 col1\" >Calinski-Harabasz</th>\n",
       "      <th id=\"T_c7ea7_level0_col2\" class=\"col_heading level0 col2\" >Davies-Bouldin</th>\n",
       "      <th id=\"T_c7ea7_level0_col3\" class=\"col_heading level0 col3\" >Homogeneity</th>\n",
       "      <th id=\"T_c7ea7_level0_col4\" class=\"col_heading level0 col4\" >Rand Index</th>\n",
       "      <th id=\"T_c7ea7_level0_col5\" class=\"col_heading level0 col5\" >Completeness</th>\n",
       "    </tr>\n",
       "  </thead>\n",
       "  <tbody>\n",
       "    <tr>\n",
       "      <th id=\"T_c7ea7_level0_row0\" class=\"row_heading level0 row0\" >0</th>\n",
       "      <td id=\"T_c7ea7_row0_col0\" class=\"data row0 col0\" >0.3755</td>\n",
       "      <td id=\"T_c7ea7_row0_col1\" class=\"data row0 col1\" >154.0536</td>\n",
       "      <td id=\"T_c7ea7_row0_col2\" class=\"data row0 col2\" >0.9478</td>\n",
       "      <td id=\"T_c7ea7_row0_col3\" class=\"data row0 col3\" >0</td>\n",
       "      <td id=\"T_c7ea7_row0_col4\" class=\"data row0 col4\" >0</td>\n",
       "      <td id=\"T_c7ea7_row0_col5\" class=\"data row0 col5\" >0</td>\n",
       "    </tr>\n",
       "  </tbody>\n",
       "</table>\n"
      ],
      "text/plain": [
       "<pandas.io.formats.style.Styler at 0x128217e0310>"
      ]
     },
     "metadata": {},
     "output_type": "display_data"
    },
    {
     "data": {
      "text/html": [],
      "text/plain": [
       "<IPython.core.display.HTML object>"
      ]
     },
     "metadata": {},
     "output_type": "display_data"
    },
    {
     "name": "stdout",
     "output_type": "stream",
     "text": [
      "For Cluster = 5\n"
     ]
    },
    {
     "data": {
      "text/html": [],
      "text/plain": [
       "<IPython.core.display.HTML object>"
      ]
     },
     "metadata": {},
     "output_type": "display_data"
    },
    {
     "data": {
      "text/html": [
       "<style type=\"text/css\">\n",
       "</style>\n",
       "<table id=\"T_14800\">\n",
       "  <thead>\n",
       "    <tr>\n",
       "      <th class=\"blank level0\" >&nbsp;</th>\n",
       "      <th id=\"T_14800_level0_col0\" class=\"col_heading level0 col0\" >Silhouette</th>\n",
       "      <th id=\"T_14800_level0_col1\" class=\"col_heading level0 col1\" >Calinski-Harabasz</th>\n",
       "      <th id=\"T_14800_level0_col2\" class=\"col_heading level0 col2\" >Davies-Bouldin</th>\n",
       "      <th id=\"T_14800_level0_col3\" class=\"col_heading level0 col3\" >Homogeneity</th>\n",
       "      <th id=\"T_14800_level0_col4\" class=\"col_heading level0 col4\" >Rand Index</th>\n",
       "      <th id=\"T_14800_level0_col5\" class=\"col_heading level0 col5\" >Completeness</th>\n",
       "    </tr>\n",
       "  </thead>\n",
       "  <tbody>\n",
       "    <tr>\n",
       "      <th id=\"T_14800_level0_row0\" class=\"row_heading level0 row0\" >0</th>\n",
       "      <td id=\"T_14800_row0_col0\" class=\"data row0 col0\" >0.2961</td>\n",
       "      <td id=\"T_14800_row0_col1\" class=\"data row0 col1\" >136.1257</td>\n",
       "      <td id=\"T_14800_row0_col2\" class=\"data row0 col2\" >1.0402</td>\n",
       "      <td id=\"T_14800_row0_col3\" class=\"data row0 col3\" >0</td>\n",
       "      <td id=\"T_14800_row0_col4\" class=\"data row0 col4\" >0</td>\n",
       "      <td id=\"T_14800_row0_col5\" class=\"data row0 col5\" >0</td>\n",
       "    </tr>\n",
       "  </tbody>\n",
       "</table>\n"
      ],
      "text/plain": [
       "<pandas.io.formats.style.Styler at 0x12821711190>"
      ]
     },
     "metadata": {},
     "output_type": "display_data"
    },
    {
     "data": {
      "text/html": [],
      "text/plain": [
       "<IPython.core.display.HTML object>"
      ]
     },
     "metadata": {},
     "output_type": "display_data"
    }
   ],
   "source": [
    "setup(data = seedDataSet, normalize = True, normalize_method = 'minmax', verbose=False)\n",
    "\n",
    "print(\"For Cluster = 3\")\n",
    "x2 = create_model('hclust', num_clusters = 3)\n",
    "\n",
    "print(\"For Cluster = 4\")\n",
    "y2 = create_model('hclust', num_clusters = 4)\n",
    "\n",
    "print(\"For Cluster = 5\")\n",
    "z2 = create_model('hclust', num_clusters = 5)"
   ]
  },
  {
   "cell_type": "markdown",
   "metadata": {},
   "source": [
    "After Transformation"
   ]
  },
  {
   "cell_type": "code",
   "execution_count": 17,
   "metadata": {},
   "outputs": [
    {
     "name": "stdout",
     "output_type": "stream",
     "text": [
      "For Cluster = 3\n"
     ]
    },
    {
     "data": {
      "text/html": [],
      "text/plain": [
       "<IPython.core.display.HTML object>"
      ]
     },
     "metadata": {},
     "output_type": "display_data"
    },
    {
     "data": {
      "text/html": [
       "<style type=\"text/css\">\n",
       "</style>\n",
       "<table id=\"T_6a248\">\n",
       "  <thead>\n",
       "    <tr>\n",
       "      <th class=\"blank level0\" >&nbsp;</th>\n",
       "      <th id=\"T_6a248_level0_col0\" class=\"col_heading level0 col0\" >Silhouette</th>\n",
       "      <th id=\"T_6a248_level0_col1\" class=\"col_heading level0 col1\" >Calinski-Harabasz</th>\n",
       "      <th id=\"T_6a248_level0_col2\" class=\"col_heading level0 col2\" >Davies-Bouldin</th>\n",
       "      <th id=\"T_6a248_level0_col3\" class=\"col_heading level0 col3\" >Homogeneity</th>\n",
       "      <th id=\"T_6a248_level0_col4\" class=\"col_heading level0 col4\" >Rand Index</th>\n",
       "      <th id=\"T_6a248_level0_col5\" class=\"col_heading level0 col5\" >Completeness</th>\n",
       "    </tr>\n",
       "  </thead>\n",
       "  <tbody>\n",
       "    <tr>\n",
       "      <th id=\"T_6a248_level0_row0\" class=\"row_heading level0 row0\" >0</th>\n",
       "      <td id=\"T_6a248_row0_col0\" class=\"data row0 col0\" >0.5064</td>\n",
       "      <td id=\"T_6a248_row0_col1\" class=\"data row0 col1\" >438.9553</td>\n",
       "      <td id=\"T_6a248_row0_col2\" class=\"data row0 col2\" >0.5312</td>\n",
       "      <td id=\"T_6a248_row0_col3\" class=\"data row0 col3\" >0</td>\n",
       "      <td id=\"T_6a248_row0_col4\" class=\"data row0 col4\" >0</td>\n",
       "      <td id=\"T_6a248_row0_col5\" class=\"data row0 col5\" >0</td>\n",
       "    </tr>\n",
       "  </tbody>\n",
       "</table>\n"
      ],
      "text/plain": [
       "<pandas.io.formats.style.Styler at 0x1281cdb4210>"
      ]
     },
     "metadata": {},
     "output_type": "display_data"
    },
    {
     "data": {
      "text/html": [],
      "text/plain": [
       "<IPython.core.display.HTML object>"
      ]
     },
     "metadata": {},
     "output_type": "display_data"
    },
    {
     "name": "stdout",
     "output_type": "stream",
     "text": [
      "For Cluster = 4\n"
     ]
    },
    {
     "data": {
      "text/html": [],
      "text/plain": [
       "<IPython.core.display.HTML object>"
      ]
     },
     "metadata": {},
     "output_type": "display_data"
    },
    {
     "data": {
      "text/html": [
       "<style type=\"text/css\">\n",
       "</style>\n",
       "<table id=\"T_7a8f4\">\n",
       "  <thead>\n",
       "    <tr>\n",
       "      <th class=\"blank level0\" >&nbsp;</th>\n",
       "      <th id=\"T_7a8f4_level0_col0\" class=\"col_heading level0 col0\" >Silhouette</th>\n",
       "      <th id=\"T_7a8f4_level0_col1\" class=\"col_heading level0 col1\" >Calinski-Harabasz</th>\n",
       "      <th id=\"T_7a8f4_level0_col2\" class=\"col_heading level0 col2\" >Davies-Bouldin</th>\n",
       "      <th id=\"T_7a8f4_level0_col3\" class=\"col_heading level0 col3\" >Homogeneity</th>\n",
       "      <th id=\"T_7a8f4_level0_col4\" class=\"col_heading level0 col4\" >Rand Index</th>\n",
       "      <th id=\"T_7a8f4_level0_col5\" class=\"col_heading level0 col5\" >Completeness</th>\n",
       "    </tr>\n",
       "  </thead>\n",
       "  <tbody>\n",
       "    <tr>\n",
       "      <th id=\"T_7a8f4_level0_row0\" class=\"row_heading level0 row0\" >0</th>\n",
       "      <td id=\"T_7a8f4_row0_col0\" class=\"data row0 col0\" >0.5129</td>\n",
       "      <td id=\"T_7a8f4_row0_col1\" class=\"data row0 col1\" >608.5274</td>\n",
       "      <td id=\"T_7a8f4_row0_col2\" class=\"data row0 col2\" >0.5506</td>\n",
       "      <td id=\"T_7a8f4_row0_col3\" class=\"data row0 col3\" >0</td>\n",
       "      <td id=\"T_7a8f4_row0_col4\" class=\"data row0 col4\" >0</td>\n",
       "      <td id=\"T_7a8f4_row0_col5\" class=\"data row0 col5\" >0</td>\n",
       "    </tr>\n",
       "  </tbody>\n",
       "</table>\n"
      ],
      "text/plain": [
       "<pandas.io.formats.style.Styler at 0x1281cdd7450>"
      ]
     },
     "metadata": {},
     "output_type": "display_data"
    },
    {
     "data": {
      "text/html": [],
      "text/plain": [
       "<IPython.core.display.HTML object>"
      ]
     },
     "metadata": {},
     "output_type": "display_data"
    },
    {
     "name": "stdout",
     "output_type": "stream",
     "text": [
      "For Cluster = 5\n"
     ]
    },
    {
     "data": {
      "text/html": [],
      "text/plain": [
       "<IPython.core.display.HTML object>"
      ]
     },
     "metadata": {},
     "output_type": "display_data"
    },
    {
     "data": {
      "text/html": [
       "<style type=\"text/css\">\n",
       "</style>\n",
       "<table id=\"T_0e0aa\">\n",
       "  <thead>\n",
       "    <tr>\n",
       "      <th class=\"blank level0\" >&nbsp;</th>\n",
       "      <th id=\"T_0e0aa_level0_col0\" class=\"col_heading level0 col0\" >Silhouette</th>\n",
       "      <th id=\"T_0e0aa_level0_col1\" class=\"col_heading level0 col1\" >Calinski-Harabasz</th>\n",
       "      <th id=\"T_0e0aa_level0_col2\" class=\"col_heading level0 col2\" >Davies-Bouldin</th>\n",
       "      <th id=\"T_0e0aa_level0_col3\" class=\"col_heading level0 col3\" >Homogeneity</th>\n",
       "      <th id=\"T_0e0aa_level0_col4\" class=\"col_heading level0 col4\" >Rand Index</th>\n",
       "      <th id=\"T_0e0aa_level0_col5\" class=\"col_heading level0 col5\" >Completeness</th>\n",
       "    </tr>\n",
       "  </thead>\n",
       "  <tbody>\n",
       "    <tr>\n",
       "      <th id=\"T_0e0aa_level0_row0\" class=\"row_heading level0 row0\" >0</th>\n",
       "      <td id=\"T_0e0aa_row0_col0\" class=\"data row0 col0\" >0.4994</td>\n",
       "      <td id=\"T_0e0aa_row0_col1\" class=\"data row0 col1\" >630.6559</td>\n",
       "      <td id=\"T_0e0aa_row0_col2\" class=\"data row0 col2\" >0.5332</td>\n",
       "      <td id=\"T_0e0aa_row0_col3\" class=\"data row0 col3\" >0</td>\n",
       "      <td id=\"T_0e0aa_row0_col4\" class=\"data row0 col4\" >0</td>\n",
       "      <td id=\"T_0e0aa_row0_col5\" class=\"data row0 col5\" >0</td>\n",
       "    </tr>\n",
       "  </tbody>\n",
       "</table>\n"
      ],
      "text/plain": [
       "<pandas.io.formats.style.Styler at 0x1281c410f90>"
      ]
     },
     "metadata": {},
     "output_type": "display_data"
    },
    {
     "data": {
      "text/html": [],
      "text/plain": [
       "<IPython.core.display.HTML object>"
      ]
     },
     "metadata": {},
     "output_type": "display_data"
    }
   ],
   "source": [
    "setup(data = seedDataSet, transformation = True, transformation_method = 'yeo-johnson', verbose=False)\n",
    "\n",
    "print(\"For Cluster = 3\")\n",
    "x2 = create_model('hclust', num_clusters = 3)\n",
    "\n",
    "print(\"For Cluster = 4\")\n",
    "y2 = create_model('hclust', num_clusters = 4)\n",
    "\n",
    "print(\"For Cluster = 5\")\n",
    "z2 = create_model('hclust', num_clusters = 5)"
   ]
  },
  {
   "cell_type": "markdown",
   "metadata": {},
   "source": [
    "After PCA"
   ]
  },
  {
   "cell_type": "code",
   "execution_count": 119,
   "metadata": {},
   "outputs": [
    {
     "name": "stdout",
     "output_type": "stream",
     "text": [
      "For Cluster = 3\n"
     ]
    },
    {
     "data": {
      "text/html": [],
      "text/plain": [
       "<IPython.core.display.HTML object>"
      ]
     },
     "metadata": {},
     "output_type": "display_data"
    },
    {
     "data": {
      "text/html": [
       "<style type=\"text/css\">\n",
       "</style>\n",
       "<table id=\"T_39178\">\n",
       "  <thead>\n",
       "    <tr>\n",
       "      <th class=\"blank level0\" >&nbsp;</th>\n",
       "      <th id=\"T_39178_level0_col0\" class=\"col_heading level0 col0\" >Silhouette</th>\n",
       "      <th id=\"T_39178_level0_col1\" class=\"col_heading level0 col1\" >Calinski-Harabasz</th>\n",
       "      <th id=\"T_39178_level0_col2\" class=\"col_heading level0 col2\" >Davies-Bouldin</th>\n",
       "      <th id=\"T_39178_level0_col3\" class=\"col_heading level0 col3\" >Homogeneity</th>\n",
       "      <th id=\"T_39178_level0_col4\" class=\"col_heading level0 col4\" >Rand Index</th>\n",
       "      <th id=\"T_39178_level0_col5\" class=\"col_heading level0 col5\" >Completeness</th>\n",
       "    </tr>\n",
       "  </thead>\n",
       "  <tbody>\n",
       "    <tr>\n",
       "      <th id=\"T_39178_level0_row0\" class=\"row_heading level0 row0\" >0</th>\n",
       "      <td id=\"T_39178_row0_col0\" class=\"data row0 col0\" >0.4066</td>\n",
       "      <td id=\"T_39178_row0_col1\" class=\"data row0 col1\" >253.3361</td>\n",
       "      <td id=\"T_39178_row0_col2\" class=\"data row0 col2\" >0.8383</td>\n",
       "      <td id=\"T_39178_row0_col3\" class=\"data row0 col3\" >0</td>\n",
       "      <td id=\"T_39178_row0_col4\" class=\"data row0 col4\" >0</td>\n",
       "      <td id=\"T_39178_row0_col5\" class=\"data row0 col5\" >0</td>\n",
       "    </tr>\n",
       "  </tbody>\n",
       "</table>\n"
      ],
      "text/plain": [
       "<pandas.io.formats.style.Styler at 0x22b8c3fbf90>"
      ]
     },
     "metadata": {},
     "output_type": "display_data"
    },
    {
     "data": {
      "text/html": [],
      "text/plain": [
       "<IPython.core.display.HTML object>"
      ]
     },
     "metadata": {},
     "output_type": "display_data"
    },
    {
     "name": "stdout",
     "output_type": "stream",
     "text": [
      "For Cluster = 4\n"
     ]
    },
    {
     "data": {
      "text/html": [],
      "text/plain": [
       "<IPython.core.display.HTML object>"
      ]
     },
     "metadata": {},
     "output_type": "display_data"
    },
    {
     "data": {
      "text/html": [
       "<style type=\"text/css\">\n",
       "</style>\n",
       "<table id=\"T_c3292\">\n",
       "  <thead>\n",
       "    <tr>\n",
       "      <th class=\"blank level0\" >&nbsp;</th>\n",
       "      <th id=\"T_c3292_level0_col0\" class=\"col_heading level0 col0\" >Silhouette</th>\n",
       "      <th id=\"T_c3292_level0_col1\" class=\"col_heading level0 col1\" >Calinski-Harabasz</th>\n",
       "      <th id=\"T_c3292_level0_col2\" class=\"col_heading level0 col2\" >Davies-Bouldin</th>\n",
       "      <th id=\"T_c3292_level0_col3\" class=\"col_heading level0 col3\" >Homogeneity</th>\n",
       "      <th id=\"T_c3292_level0_col4\" class=\"col_heading level0 col4\" >Rand Index</th>\n",
       "      <th id=\"T_c3292_level0_col5\" class=\"col_heading level0 col5\" >Completeness</th>\n",
       "    </tr>\n",
       "  </thead>\n",
       "  <tbody>\n",
       "    <tr>\n",
       "      <th id=\"T_c3292_level0_row0\" class=\"row_heading level0 row0\" >0</th>\n",
       "      <td id=\"T_c3292_row0_col0\" class=\"data row0 col0\" >0.3914</td>\n",
       "      <td id=\"T_c3292_row0_col1\" class=\"data row0 col1\" >256.1087</td>\n",
       "      <td id=\"T_c3292_row0_col2\" class=\"data row0 col2\" >0.9231</td>\n",
       "      <td id=\"T_c3292_row0_col3\" class=\"data row0 col3\" >0</td>\n",
       "      <td id=\"T_c3292_row0_col4\" class=\"data row0 col4\" >0</td>\n",
       "      <td id=\"T_c3292_row0_col5\" class=\"data row0 col5\" >0</td>\n",
       "    </tr>\n",
       "  </tbody>\n",
       "</table>\n"
      ],
      "text/plain": [
       "<pandas.io.formats.style.Styler at 0x22b8fd86b90>"
      ]
     },
     "metadata": {},
     "output_type": "display_data"
    },
    {
     "data": {
      "text/html": [],
      "text/plain": [
       "<IPython.core.display.HTML object>"
      ]
     },
     "metadata": {},
     "output_type": "display_data"
    },
    {
     "name": "stdout",
     "output_type": "stream",
     "text": [
      "For Cluster = 5\n"
     ]
    },
    {
     "data": {
      "text/html": [],
      "text/plain": [
       "<IPython.core.display.HTML object>"
      ]
     },
     "metadata": {},
     "output_type": "display_data"
    },
    {
     "data": {
      "text/html": [
       "<style type=\"text/css\">\n",
       "</style>\n",
       "<table id=\"T_e5d58\">\n",
       "  <thead>\n",
       "    <tr>\n",
       "      <th class=\"blank level0\" >&nbsp;</th>\n",
       "      <th id=\"T_e5d58_level0_col0\" class=\"col_heading level0 col0\" >Silhouette</th>\n",
       "      <th id=\"T_e5d58_level0_col1\" class=\"col_heading level0 col1\" >Calinski-Harabasz</th>\n",
       "      <th id=\"T_e5d58_level0_col2\" class=\"col_heading level0 col2\" >Davies-Bouldin</th>\n",
       "      <th id=\"T_e5d58_level0_col3\" class=\"col_heading level0 col3\" >Homogeneity</th>\n",
       "      <th id=\"T_e5d58_level0_col4\" class=\"col_heading level0 col4\" >Rand Index</th>\n",
       "      <th id=\"T_e5d58_level0_col5\" class=\"col_heading level0 col5\" >Completeness</th>\n",
       "    </tr>\n",
       "  </thead>\n",
       "  <tbody>\n",
       "    <tr>\n",
       "      <th id=\"T_e5d58_level0_row0\" class=\"row_heading level0 row0\" >0</th>\n",
       "      <td id=\"T_e5d58_row0_col0\" class=\"data row0 col0\" >0.3734</td>\n",
       "      <td id=\"T_e5d58_row0_col1\" class=\"data row0 col1\" >231.3250</td>\n",
       "      <td id=\"T_e5d58_row0_col2\" class=\"data row0 col2\" >0.9811</td>\n",
       "      <td id=\"T_e5d58_row0_col3\" class=\"data row0 col3\" >0</td>\n",
       "      <td id=\"T_e5d58_row0_col4\" class=\"data row0 col4\" >0</td>\n",
       "      <td id=\"T_e5d58_row0_col5\" class=\"data row0 col5\" >0</td>\n",
       "    </tr>\n",
       "  </tbody>\n",
       "</table>\n"
      ],
      "text/plain": [
       "<pandas.io.formats.style.Styler at 0x22b8fd70b90>"
      ]
     },
     "metadata": {},
     "output_type": "display_data"
    },
    {
     "data": {
      "text/html": [],
      "text/plain": [
       "<IPython.core.display.HTML object>"
      ]
     },
     "metadata": {},
     "output_type": "display_data"
    }
   ],
   "source": [
    "setup(data = seedDataSet, pca = True, pca_method = 'linear', verbose=False)\n",
    "\n",
    "print(\"For Cluster = 3\")\n",
    "x2 = create_model('hclust', num_clusters = 3)\n",
    "\n",
    "print(\"For Cluster = 4\")\n",
    "y2 = create_model('hclust', num_clusters = 4)\n",
    "\n",
    "print(\"For Cluster = 5\")\n",
    "z2 = create_model('hclust', num_clusters = 5)"
   ]
  },
  {
   "cell_type": "markdown",
   "metadata": {},
   "source": [
    "After T + N"
   ]
  },
  {
   "cell_type": "code",
   "execution_count": 120,
   "metadata": {},
   "outputs": [
    {
     "name": "stdout",
     "output_type": "stream",
     "text": [
      "For Cluster = 3\n"
     ]
    },
    {
     "data": {
      "text/html": [],
      "text/plain": [
       "<IPython.core.display.HTML object>"
      ]
     },
     "metadata": {},
     "output_type": "display_data"
    },
    {
     "data": {
      "text/html": [
       "<style type=\"text/css\">\n",
       "</style>\n",
       "<table id=\"T_56049\">\n",
       "  <thead>\n",
       "    <tr>\n",
       "      <th class=\"blank level0\" >&nbsp;</th>\n",
       "      <th id=\"T_56049_level0_col0\" class=\"col_heading level0 col0\" >Silhouette</th>\n",
       "      <th id=\"T_56049_level0_col1\" class=\"col_heading level0 col1\" >Calinski-Harabasz</th>\n",
       "      <th id=\"T_56049_level0_col2\" class=\"col_heading level0 col2\" >Davies-Bouldin</th>\n",
       "      <th id=\"T_56049_level0_col3\" class=\"col_heading level0 col3\" >Homogeneity</th>\n",
       "      <th id=\"T_56049_level0_col4\" class=\"col_heading level0 col4\" >Rand Index</th>\n",
       "      <th id=\"T_56049_level0_col5\" class=\"col_heading level0 col5\" >Completeness</th>\n",
       "    </tr>\n",
       "  </thead>\n",
       "  <tbody>\n",
       "    <tr>\n",
       "      <th id=\"T_56049_level0_row0\" class=\"row_heading level0 row0\" >0</th>\n",
       "      <td id=\"T_56049_row0_col0\" class=\"data row0 col0\" >0.3490</td>\n",
       "      <td id=\"T_56049_row0_col1\" class=\"data row0 col1\" >201.1926</td>\n",
       "      <td id=\"T_56049_row0_col2\" class=\"data row0 col2\" >0.9788</td>\n",
       "      <td id=\"T_56049_row0_col3\" class=\"data row0 col3\" >0</td>\n",
       "      <td id=\"T_56049_row0_col4\" class=\"data row0 col4\" >0</td>\n",
       "      <td id=\"T_56049_row0_col5\" class=\"data row0 col5\" >0</td>\n",
       "    </tr>\n",
       "  </tbody>\n",
       "</table>\n"
      ],
      "text/plain": [
       "<pandas.io.formats.style.Styler at 0x22b8fd58b90>"
      ]
     },
     "metadata": {},
     "output_type": "display_data"
    },
    {
     "data": {
      "text/html": [],
      "text/plain": [
       "<IPython.core.display.HTML object>"
      ]
     },
     "metadata": {},
     "output_type": "display_data"
    },
    {
     "name": "stdout",
     "output_type": "stream",
     "text": [
      "For Cluster = 4\n"
     ]
    },
    {
     "data": {
      "text/html": [],
      "text/plain": [
       "<IPython.core.display.HTML object>"
      ]
     },
     "metadata": {},
     "output_type": "display_data"
    },
    {
     "data": {
      "text/html": [
       "<style type=\"text/css\">\n",
       "</style>\n",
       "<table id=\"T_c3b96\">\n",
       "  <thead>\n",
       "    <tr>\n",
       "      <th class=\"blank level0\" >&nbsp;</th>\n",
       "      <th id=\"T_c3b96_level0_col0\" class=\"col_heading level0 col0\" >Silhouette</th>\n",
       "      <th id=\"T_c3b96_level0_col1\" class=\"col_heading level0 col1\" >Calinski-Harabasz</th>\n",
       "      <th id=\"T_c3b96_level0_col2\" class=\"col_heading level0 col2\" >Davies-Bouldin</th>\n",
       "      <th id=\"T_c3b96_level0_col3\" class=\"col_heading level0 col3\" >Homogeneity</th>\n",
       "      <th id=\"T_c3b96_level0_col4\" class=\"col_heading level0 col4\" >Rand Index</th>\n",
       "      <th id=\"T_c3b96_level0_col5\" class=\"col_heading level0 col5\" >Completeness</th>\n",
       "    </tr>\n",
       "  </thead>\n",
       "  <tbody>\n",
       "    <tr>\n",
       "      <th id=\"T_c3b96_level0_row0\" class=\"row_heading level0 row0\" >0</th>\n",
       "      <td id=\"T_c3b96_row0_col0\" class=\"data row0 col0\" >0.3131</td>\n",
       "      <td id=\"T_c3b96_row0_col1\" class=\"data row0 col1\" >177.6453</td>\n",
       "      <td id=\"T_c3b96_row0_col2\" class=\"data row0 col2\" >1.2516</td>\n",
       "      <td id=\"T_c3b96_row0_col3\" class=\"data row0 col3\" >0</td>\n",
       "      <td id=\"T_c3b96_row0_col4\" class=\"data row0 col4\" >0</td>\n",
       "      <td id=\"T_c3b96_row0_col5\" class=\"data row0 col5\" >0</td>\n",
       "    </tr>\n",
       "  </tbody>\n",
       "</table>\n"
      ],
      "text/plain": [
       "<pandas.io.formats.style.Styler at 0x22b8fd52510>"
      ]
     },
     "metadata": {},
     "output_type": "display_data"
    },
    {
     "data": {
      "text/html": [],
      "text/plain": [
       "<IPython.core.display.HTML object>"
      ]
     },
     "metadata": {},
     "output_type": "display_data"
    },
    {
     "name": "stdout",
     "output_type": "stream",
     "text": [
      "For Cluster = 5\n"
     ]
    },
    {
     "data": {
      "text/html": [],
      "text/plain": [
       "<IPython.core.display.HTML object>"
      ]
     },
     "metadata": {},
     "output_type": "display_data"
    },
    {
     "data": {
      "text/html": [
       "<style type=\"text/css\">\n",
       "</style>\n",
       "<table id=\"T_40dd6\">\n",
       "  <thead>\n",
       "    <tr>\n",
       "      <th class=\"blank level0\" >&nbsp;</th>\n",
       "      <th id=\"T_40dd6_level0_col0\" class=\"col_heading level0 col0\" >Silhouette</th>\n",
       "      <th id=\"T_40dd6_level0_col1\" class=\"col_heading level0 col1\" >Calinski-Harabasz</th>\n",
       "      <th id=\"T_40dd6_level0_col2\" class=\"col_heading level0 col2\" >Davies-Bouldin</th>\n",
       "      <th id=\"T_40dd6_level0_col3\" class=\"col_heading level0 col3\" >Homogeneity</th>\n",
       "      <th id=\"T_40dd6_level0_col4\" class=\"col_heading level0 col4\" >Rand Index</th>\n",
       "      <th id=\"T_40dd6_level0_col5\" class=\"col_heading level0 col5\" >Completeness</th>\n",
       "    </tr>\n",
       "  </thead>\n",
       "  <tbody>\n",
       "    <tr>\n",
       "      <th id=\"T_40dd6_level0_row0\" class=\"row_heading level0 row0\" >0</th>\n",
       "      <td id=\"T_40dd6_row0_col0\" class=\"data row0 col0\" >0.3203</td>\n",
       "      <td id=\"T_40dd6_row0_col1\" class=\"data row0 col1\" >150.9275</td>\n",
       "      <td id=\"T_40dd6_row0_col2\" class=\"data row0 col2\" >1.3289</td>\n",
       "      <td id=\"T_40dd6_row0_col3\" class=\"data row0 col3\" >0</td>\n",
       "      <td id=\"T_40dd6_row0_col4\" class=\"data row0 col4\" >0</td>\n",
       "      <td id=\"T_40dd6_row0_col5\" class=\"data row0 col5\" >0</td>\n",
       "    </tr>\n",
       "  </tbody>\n",
       "</table>\n"
      ],
      "text/plain": [
       "<pandas.io.formats.style.Styler at 0x22b8fd6a210>"
      ]
     },
     "metadata": {},
     "output_type": "display_data"
    },
    {
     "data": {
      "text/html": [],
      "text/plain": [
       "<IPython.core.display.HTML object>"
      ]
     },
     "metadata": {},
     "output_type": "display_data"
    }
   ],
   "source": [
    "setup(data = seedDataSet,normalize = True, normalize_method = 'minmax', transformation = True, transformation_method = 'yeo-johnson', verbose=False)\n",
    "\n",
    "print(\"For Cluster = 3\")\n",
    "x2 = create_model('hclust', num_clusters = 3)\n",
    "\n",
    "print(\"For Cluster = 4\")\n",
    "y2 = create_model('hclust', num_clusters = 4)\n",
    "\n",
    "print(\"For Cluster = 5\")\n",
    "z2 = create_model('hclust', num_clusters = 5)"
   ]
  },
  {
   "cell_type": "markdown",
   "metadata": {},
   "source": [
    "After T + N + PCA"
   ]
  },
  {
   "cell_type": "code",
   "execution_count": 19,
   "metadata": {},
   "outputs": [
    {
     "name": "stdout",
     "output_type": "stream",
     "text": [
      "For Cluster = 3\n"
     ]
    },
    {
     "data": {
      "text/html": [],
      "text/plain": [
       "<IPython.core.display.HTML object>"
      ]
     },
     "metadata": {},
     "output_type": "display_data"
    },
    {
     "data": {
      "text/html": [
       "<style type=\"text/css\">\n",
       "</style>\n",
       "<table id=\"T_e3214\">\n",
       "  <thead>\n",
       "    <tr>\n",
       "      <th class=\"blank level0\" >&nbsp;</th>\n",
       "      <th id=\"T_e3214_level0_col0\" class=\"col_heading level0 col0\" >Silhouette</th>\n",
       "      <th id=\"T_e3214_level0_col1\" class=\"col_heading level0 col1\" >Calinski-Harabasz</th>\n",
       "      <th id=\"T_e3214_level0_col2\" class=\"col_heading level0 col2\" >Davies-Bouldin</th>\n",
       "      <th id=\"T_e3214_level0_col3\" class=\"col_heading level0 col3\" >Homogeneity</th>\n",
       "      <th id=\"T_e3214_level0_col4\" class=\"col_heading level0 col4\" >Rand Index</th>\n",
       "      <th id=\"T_e3214_level0_col5\" class=\"col_heading level0 col5\" >Completeness</th>\n",
       "    </tr>\n",
       "  </thead>\n",
       "  <tbody>\n",
       "    <tr>\n",
       "      <th id=\"T_e3214_level0_row0\" class=\"row_heading level0 row0\" >0</th>\n",
       "      <td id=\"T_e3214_row0_col0\" class=\"data row0 col0\" >0.3490</td>\n",
       "      <td id=\"T_e3214_row0_col1\" class=\"data row0 col1\" >201.1926</td>\n",
       "      <td id=\"T_e3214_row0_col2\" class=\"data row0 col2\" >0.9788</td>\n",
       "      <td id=\"T_e3214_row0_col3\" class=\"data row0 col3\" >0</td>\n",
       "      <td id=\"T_e3214_row0_col4\" class=\"data row0 col4\" >0</td>\n",
       "      <td id=\"T_e3214_row0_col5\" class=\"data row0 col5\" >0</td>\n",
       "    </tr>\n",
       "  </tbody>\n",
       "</table>\n"
      ],
      "text/plain": [
       "<pandas.io.formats.style.Styler at 0x1282433fe90>"
      ]
     },
     "metadata": {},
     "output_type": "display_data"
    },
    {
     "data": {
      "text/html": [],
      "text/plain": [
       "<IPython.core.display.HTML object>"
      ]
     },
     "metadata": {},
     "output_type": "display_data"
    },
    {
     "name": "stdout",
     "output_type": "stream",
     "text": [
      "For Cluster = 4\n"
     ]
    },
    {
     "data": {
      "text/html": [],
      "text/plain": [
       "<IPython.core.display.HTML object>"
      ]
     },
     "metadata": {},
     "output_type": "display_data"
    },
    {
     "data": {
      "text/html": [
       "<style type=\"text/css\">\n",
       "</style>\n",
       "<table id=\"T_88ec3\">\n",
       "  <thead>\n",
       "    <tr>\n",
       "      <th class=\"blank level0\" >&nbsp;</th>\n",
       "      <th id=\"T_88ec3_level0_col0\" class=\"col_heading level0 col0\" >Silhouette</th>\n",
       "      <th id=\"T_88ec3_level0_col1\" class=\"col_heading level0 col1\" >Calinski-Harabasz</th>\n",
       "      <th id=\"T_88ec3_level0_col2\" class=\"col_heading level0 col2\" >Davies-Bouldin</th>\n",
       "      <th id=\"T_88ec3_level0_col3\" class=\"col_heading level0 col3\" >Homogeneity</th>\n",
       "      <th id=\"T_88ec3_level0_col4\" class=\"col_heading level0 col4\" >Rand Index</th>\n",
       "      <th id=\"T_88ec3_level0_col5\" class=\"col_heading level0 col5\" >Completeness</th>\n",
       "    </tr>\n",
       "  </thead>\n",
       "  <tbody>\n",
       "    <tr>\n",
       "      <th id=\"T_88ec3_level0_row0\" class=\"row_heading level0 row0\" >0</th>\n",
       "      <td id=\"T_88ec3_row0_col0\" class=\"data row0 col0\" >0.3131</td>\n",
       "      <td id=\"T_88ec3_row0_col1\" class=\"data row0 col1\" >177.6453</td>\n",
       "      <td id=\"T_88ec3_row0_col2\" class=\"data row0 col2\" >1.2516</td>\n",
       "      <td id=\"T_88ec3_row0_col3\" class=\"data row0 col3\" >0</td>\n",
       "      <td id=\"T_88ec3_row0_col4\" class=\"data row0 col4\" >0</td>\n",
       "      <td id=\"T_88ec3_row0_col5\" class=\"data row0 col5\" >0</td>\n",
       "    </tr>\n",
       "  </tbody>\n",
       "</table>\n"
      ],
      "text/plain": [
       "<pandas.io.formats.style.Styler at 0x1282416c2d0>"
      ]
     },
     "metadata": {},
     "output_type": "display_data"
    },
    {
     "data": {
      "text/html": [],
      "text/plain": [
       "<IPython.core.display.HTML object>"
      ]
     },
     "metadata": {},
     "output_type": "display_data"
    },
    {
     "name": "stdout",
     "output_type": "stream",
     "text": [
      "For Cluster = 5\n"
     ]
    },
    {
     "data": {
      "text/html": [],
      "text/plain": [
       "<IPython.core.display.HTML object>"
      ]
     },
     "metadata": {},
     "output_type": "display_data"
    },
    {
     "data": {
      "text/html": [
       "<style type=\"text/css\">\n",
       "</style>\n",
       "<table id=\"T_25e7f\">\n",
       "  <thead>\n",
       "    <tr>\n",
       "      <th class=\"blank level0\" >&nbsp;</th>\n",
       "      <th id=\"T_25e7f_level0_col0\" class=\"col_heading level0 col0\" >Silhouette</th>\n",
       "      <th id=\"T_25e7f_level0_col1\" class=\"col_heading level0 col1\" >Calinski-Harabasz</th>\n",
       "      <th id=\"T_25e7f_level0_col2\" class=\"col_heading level0 col2\" >Davies-Bouldin</th>\n",
       "      <th id=\"T_25e7f_level0_col3\" class=\"col_heading level0 col3\" >Homogeneity</th>\n",
       "      <th id=\"T_25e7f_level0_col4\" class=\"col_heading level0 col4\" >Rand Index</th>\n",
       "      <th id=\"T_25e7f_level0_col5\" class=\"col_heading level0 col5\" >Completeness</th>\n",
       "    </tr>\n",
       "  </thead>\n",
       "  <tbody>\n",
       "    <tr>\n",
       "      <th id=\"T_25e7f_level0_row0\" class=\"row_heading level0 row0\" >0</th>\n",
       "      <td id=\"T_25e7f_row0_col0\" class=\"data row0 col0\" >0.3203</td>\n",
       "      <td id=\"T_25e7f_row0_col1\" class=\"data row0 col1\" >150.9275</td>\n",
       "      <td id=\"T_25e7f_row0_col2\" class=\"data row0 col2\" >1.3289</td>\n",
       "      <td id=\"T_25e7f_row0_col3\" class=\"data row0 col3\" >0</td>\n",
       "      <td id=\"T_25e7f_row0_col4\" class=\"data row0 col4\" >0</td>\n",
       "      <td id=\"T_25e7f_row0_col5\" class=\"data row0 col5\" >0</td>\n",
       "    </tr>\n",
       "  </tbody>\n",
       "</table>\n"
      ],
      "text/plain": [
       "<pandas.io.formats.style.Styler at 0x12824538050>"
      ]
     },
     "metadata": {},
     "output_type": "display_data"
    },
    {
     "data": {
      "text/html": [],
      "text/plain": [
       "<IPython.core.display.HTML object>"
      ]
     },
     "metadata": {},
     "output_type": "display_data"
    }
   ],
   "source": [
    "setup(data = seedDataSet,normalize = True, normalize_method = 'minmax', transformation = True, transformation_method = 'yeo-johnson',pca = True, pca_method = 'linear', verbose=False)\n",
    "\n",
    "print(\"For Cluster = 3\")\n",
    "x2 = create_model('hclust', num_clusters = 3)\n",
    "\n",
    "print(\"For Cluster = 4\")\n",
    "y2 = create_model('hclust', num_clusters = 4)\n",
    "\n",
    "print(\"For Cluster = 5\")\n",
    "z2 = create_model('hclust', num_clusters = 5)"
   ]
  },
  {
   "cell_type": "markdown",
   "metadata": {},
   "source": [
    "FINAL OUTPUT"
   ]
  },
  {
   "cell_type": "code",
   "execution_count": 2,
   "metadata": {},
   "outputs": [
    {
     "name": "stdout",
     "output_type": "stream",
     "text": [
      "╒══════════════════════╤═════════════════════════╤═════════════════════════╤═════════════════════════╤════════════════════════════════╤════════════════════════════════╤════════════════════════════════╤═════════════════════════════╤═════════════════════════════╤═════════════════════════════╕\n",
      "│                      │   ('Silhouette', 'c=3') │   ('Silhouette', 'c=4') │   ('Silhouette', 'c=5') │   ('Calinski-Harabasz', 'c=3') │   ('Calinski-Harabasz', 'c=4') │   ('Calinski-Harabasz', 'c=5') │   ('Davies-Bouldin', 'c=3') │   ('Davies-Bouldin', 'c=4') │   ('Davies-Bouldin', 'c=5') │\n",
      "╞══════════════════════╪═════════════════════════╪═════════════════════════╪═════════════════════════╪════════════════════════════════╪════════════════════════════════╪════════════════════════════════╪═════════════════════════════╪═════════════════════════════╪═════════════════════════════╡\n",
      "│ No Data Processing   │                  0.4066 │                  0.3914 │                  0.3734 │                        253.336 │                        256.109 │                        231.325 │                      0.8383 │                      0.9231 │                      0.9811 │\n",
      "├──────────────────────┼─────────────────────────┼─────────────────────────┼─────────────────────────┼────────────────────────────────┼────────────────────────────────┼────────────────────────────────┼─────────────────────────────┼─────────────────────────────┼─────────────────────────────┤\n",
      "│ After Normalization  │                  0.3737 │                  0.3755 │                  0.2961 │                        189.75  │                        154.054 │                        136.126 │                      1.0376 │                      0.9478 │                      1.0402 │\n",
      "├──────────────────────┼─────────────────────────┼─────────────────────────┼─────────────────────────┼────────────────────────────────┼────────────────────────────────┼────────────────────────────────┼─────────────────────────────┼─────────────────────────────┼─────────────────────────────┤\n",
      "│ After Transformation │                  0.5064 │                  0.5129 │                  0.4994 │                        438.955 │                        608.527 │                        630.656 │                      0.5312 │                      0.5506 │                      0.5332 │\n",
      "├──────────────────────┼─────────────────────────┼─────────────────────────┼─────────────────────────┼────────────────────────────────┼────────────────────────────────┼────────────────────────────────┼─────────────────────────────┼─────────────────────────────┼─────────────────────────────┤\n",
      "│ After PCA            │                  0.4066 │                  0.3914 │                  0.3734 │                        253.336 │                        256.109 │                        231.325 │                      0.8383 │                      0.9231 │                      0.9811 │\n",
      "├──────────────────────┼─────────────────────────┼─────────────────────────┼─────────────────────────┼────────────────────────────────┼────────────────────────────────┼────────────────────────────────┼─────────────────────────────┼─────────────────────────────┼─────────────────────────────┤\n",
      "│ After T + N          │                  0.349  │                  0.3131 │                  0.3203 │                        201.193 │                        177.645 │                        150.928 │                      0.9788 │                      1.2516 │                      1.3289 │\n",
      "├──────────────────────┼─────────────────────────┼─────────────────────────┼─────────────────────────┼────────────────────────────────┼────────────────────────────────┼────────────────────────────────┼─────────────────────────────┼─────────────────────────────┼─────────────────────────────┤\n",
      "│ T + N + PCA          │                  0.349  │                  0.3131 │                  0.3203 │                        201.193 │                        177.645 │                        150.928 │                      0.9788 │                      1.2516 │                      1.3289 │\n",
      "╘══════════════════════╧═════════════════════════╧═════════════════════════╧═════════════════════════╧════════════════════════════════╧════════════════════════════════╧════════════════════════════════╧═════════════════════════════╧═════════════════════════════╧═════════════════════════════╛\n"
     ]
    }
   ],
   "source": [
    "import pandas as pd\n",
    "from tabulate import tabulate\n",
    "\n",
    "silhouette_values = [[0.4066, 0.3914, 0.3734],\n",
    "                     [0.3737, 0.3755, 0.2961],\n",
    "                     [0.5064, 0.5129, 0.4994],\n",
    "                     [0.4066, 0.3914, 0.3734],\n",
    "                     [0.3490, 0.3131, 0.3203],\n",
    "                     [0.3490, 0.3131, 0.3203]]\n",
    "\n",
    "calinski_values = [[253.3362, 256.1088, 231.3251],\n",
    "                   [189.7498, 154.0536, 136.1257],\n",
    "                   [438.9553, 608.5274, 630.6559],\n",
    "                   [253.3361, 256.1087, 231.3250],\n",
    "                   [201.1926, 177.6453, 150.9275],\n",
    "                   [201.1926, 177.6453, 150.9275]]\n",
    "\n",
    "davies_values = [[0.8383, 0.9231, 0.9811],\n",
    "                 [1.0376, 0.9478, 1.0402],\n",
    "                 [0.5312, 0.5506, 0.5332],\n",
    "                 [0.8383, 0.9231, 0.9811],\n",
    "                 [0.9788, 1.2516, 1.3289],\n",
    "                 [0.9788, 1.2516, 1.3289]]\n",
    "\n",
    "methods = ['No Data Processing', 'After Normalization', 'After Transformation', 'After PCA', 'After T + N', 'T + N + PCA']\n",
    "clusters = ['c=3', 'c=4', 'c=5']\n",
    "\n",
    "# Create DataFrames for each metric\n",
    "silhouette_df = pd.DataFrame(silhouette_values, columns=clusters, index=methods)\n",
    "calinski_df = pd.DataFrame(calinski_values, columns=clusters, index=methods)\n",
    "davies_df = pd.DataFrame(davies_values, columns=clusters, index=methods)\n",
    "\n",
    "# Concatenate DataFrames horizontally\n",
    "combined_df = pd.concat([silhouette_df, calinski_df, davies_df], axis=1, keys=['Silhouette', 'Calinski-Harabasz', 'Davies-Bouldin'])\n",
    "\n",
    "# Display the combined table\n",
    "print(tabulate(combined_df, headers='keys', tablefmt='fancy_grid'))\n"
   ]
  },
  {
   "cell_type": "code",
   "execution_count": 4,
   "metadata": {},
   "outputs": [
    {
     "data": {
      "text/plain": [
       "True"
      ]
     },
     "execution_count": 4,
     "metadata": {},
     "output_type": "execute_result"
    }
   ],
   "source": [
    "import webbrowser\n",
    "combined_df.to_csv('Hierarchical_clustering_table.csv', index=False)\n",
    "webbrowser.open('Hierarchical_clustering_table.csv')"
   ]
  },
  {
   "cell_type": "markdown",
   "metadata": {},
   "source": [
    "Using Birch Clustering"
   ]
  },
  {
   "cell_type": "markdown",
   "metadata": {},
   "source": [
    "No Data Processing"
   ]
  },
  {
   "cell_type": "code",
   "execution_count": 22,
   "metadata": {},
   "outputs": [
    {
     "name": "stdout",
     "output_type": "stream",
     "text": [
      "For Cluster = 3\n"
     ]
    },
    {
     "data": {
      "text/html": [],
      "text/plain": [
       "<IPython.core.display.HTML object>"
      ]
     },
     "metadata": {},
     "output_type": "display_data"
    },
    {
     "data": {
      "text/html": [
       "<style type=\"text/css\">\n",
       "</style>\n",
       "<table id=\"T_8df22\">\n",
       "  <thead>\n",
       "    <tr>\n",
       "      <th class=\"blank level0\" >&nbsp;</th>\n",
       "      <th id=\"T_8df22_level0_col0\" class=\"col_heading level0 col0\" >Silhouette</th>\n",
       "      <th id=\"T_8df22_level0_col1\" class=\"col_heading level0 col1\" >Calinski-Harabasz</th>\n",
       "      <th id=\"T_8df22_level0_col2\" class=\"col_heading level0 col2\" >Davies-Bouldin</th>\n",
       "      <th id=\"T_8df22_level0_col3\" class=\"col_heading level0 col3\" >Homogeneity</th>\n",
       "      <th id=\"T_8df22_level0_col4\" class=\"col_heading level0 col4\" >Rand Index</th>\n",
       "      <th id=\"T_8df22_level0_col5\" class=\"col_heading level0 col5\" >Completeness</th>\n",
       "    </tr>\n",
       "  </thead>\n",
       "  <tbody>\n",
       "    <tr>\n",
       "      <th id=\"T_8df22_level0_row0\" class=\"row_heading level0 row0\" >0</th>\n",
       "      <td id=\"T_8df22_row0_col0\" class=\"data row0 col0\" >0.3916</td>\n",
       "      <td id=\"T_8df22_row0_col1\" class=\"data row0 col1\" >255.4883</td>\n",
       "      <td id=\"T_8df22_row0_col2\" class=\"data row0 col2\" >0.8948</td>\n",
       "      <td id=\"T_8df22_row0_col3\" class=\"data row0 col3\" >0</td>\n",
       "      <td id=\"T_8df22_row0_col4\" class=\"data row0 col4\" >0</td>\n",
       "      <td id=\"T_8df22_row0_col5\" class=\"data row0 col5\" >0</td>\n",
       "    </tr>\n",
       "  </tbody>\n",
       "</table>\n"
      ],
      "text/plain": [
       "<pandas.io.formats.style.Styler at 0x128224bfe90>"
      ]
     },
     "metadata": {},
     "output_type": "display_data"
    },
    {
     "data": {
      "text/html": [],
      "text/plain": [
       "<IPython.core.display.HTML object>"
      ]
     },
     "metadata": {},
     "output_type": "display_data"
    },
    {
     "name": "stdout",
     "output_type": "stream",
     "text": [
      "For Cluster = 4\n"
     ]
    },
    {
     "data": {
      "text/html": [],
      "text/plain": [
       "<IPython.core.display.HTML object>"
      ]
     },
     "metadata": {},
     "output_type": "display_data"
    },
    {
     "data": {
      "text/html": [
       "<style type=\"text/css\">\n",
       "</style>\n",
       "<table id=\"T_dbb93\">\n",
       "  <thead>\n",
       "    <tr>\n",
       "      <th class=\"blank level0\" >&nbsp;</th>\n",
       "      <th id=\"T_dbb93_level0_col0\" class=\"col_heading level0 col0\" >Silhouette</th>\n",
       "      <th id=\"T_dbb93_level0_col1\" class=\"col_heading level0 col1\" >Calinski-Harabasz</th>\n",
       "      <th id=\"T_dbb93_level0_col2\" class=\"col_heading level0 col2\" >Davies-Bouldin</th>\n",
       "      <th id=\"T_dbb93_level0_col3\" class=\"col_heading level0 col3\" >Homogeneity</th>\n",
       "      <th id=\"T_dbb93_level0_col4\" class=\"col_heading level0 col4\" >Rand Index</th>\n",
       "      <th id=\"T_dbb93_level0_col5\" class=\"col_heading level0 col5\" >Completeness</th>\n",
       "    </tr>\n",
       "  </thead>\n",
       "  <tbody>\n",
       "    <tr>\n",
       "      <th id=\"T_dbb93_level0_row0\" class=\"row_heading level0 row0\" >0</th>\n",
       "      <td id=\"T_dbb93_row0_col0\" class=\"data row0 col0\" >0.3531</td>\n",
       "      <td id=\"T_dbb93_row0_col1\" class=\"data row0 col1\" >255.7885</td>\n",
       "      <td id=\"T_dbb93_row0_col2\" class=\"data row0 col2\" >0.9711</td>\n",
       "      <td id=\"T_dbb93_row0_col3\" class=\"data row0 col3\" >0</td>\n",
       "      <td id=\"T_dbb93_row0_col4\" class=\"data row0 col4\" >0</td>\n",
       "      <td id=\"T_dbb93_row0_col5\" class=\"data row0 col5\" >0</td>\n",
       "    </tr>\n",
       "  </tbody>\n",
       "</table>\n"
      ],
      "text/plain": [
       "<pandas.io.formats.style.Styler at 0x128255383d0>"
      ]
     },
     "metadata": {},
     "output_type": "display_data"
    },
    {
     "data": {
      "text/html": [],
      "text/plain": [
       "<IPython.core.display.HTML object>"
      ]
     },
     "metadata": {},
     "output_type": "display_data"
    },
    {
     "name": "stdout",
     "output_type": "stream",
     "text": [
      "For Cluster = 5\n"
     ]
    },
    {
     "data": {
      "text/html": [],
      "text/plain": [
       "<IPython.core.display.HTML object>"
      ]
     },
     "metadata": {},
     "output_type": "display_data"
    },
    {
     "data": {
      "text/html": [
       "<style type=\"text/css\">\n",
       "</style>\n",
       "<table id=\"T_b06b8\">\n",
       "  <thead>\n",
       "    <tr>\n",
       "      <th class=\"blank level0\" >&nbsp;</th>\n",
       "      <th id=\"T_b06b8_level0_col0\" class=\"col_heading level0 col0\" >Silhouette</th>\n",
       "      <th id=\"T_b06b8_level0_col1\" class=\"col_heading level0 col1\" >Calinski-Harabasz</th>\n",
       "      <th id=\"T_b06b8_level0_col2\" class=\"col_heading level0 col2\" >Davies-Bouldin</th>\n",
       "      <th id=\"T_b06b8_level0_col3\" class=\"col_heading level0 col3\" >Homogeneity</th>\n",
       "      <th id=\"T_b06b8_level0_col4\" class=\"col_heading level0 col4\" >Rand Index</th>\n",
       "      <th id=\"T_b06b8_level0_col5\" class=\"col_heading level0 col5\" >Completeness</th>\n",
       "    </tr>\n",
       "  </thead>\n",
       "  <tbody>\n",
       "    <tr>\n",
       "      <th id=\"T_b06b8_level0_row0\" class=\"row_heading level0 row0\" >0</th>\n",
       "      <td id=\"T_b06b8_row0_col0\" class=\"data row0 col0\" >0.3597</td>\n",
       "      <td id=\"T_b06b8_row0_col1\" class=\"data row0 col1\" >217.2995</td>\n",
       "      <td id=\"T_b06b8_row0_col2\" class=\"data row0 col2\" >0.8591</td>\n",
       "      <td id=\"T_b06b8_row0_col3\" class=\"data row0 col3\" >0</td>\n",
       "      <td id=\"T_b06b8_row0_col4\" class=\"data row0 col4\" >0</td>\n",
       "      <td id=\"T_b06b8_row0_col5\" class=\"data row0 col5\" >0</td>\n",
       "    </tr>\n",
       "  </tbody>\n",
       "</table>\n"
      ],
      "text/plain": [
       "<pandas.io.formats.style.Styler at 0x12825373350>"
      ]
     },
     "metadata": {},
     "output_type": "display_data"
    },
    {
     "data": {
      "text/html": [],
      "text/plain": [
       "<IPython.core.display.HTML object>"
      ]
     },
     "metadata": {},
     "output_type": "display_data"
    }
   ],
   "source": [
    "setup(data = seedDataSet, verbose=False)\n",
    "\n",
    "print(\"For Cluster = 3\")\n",
    "x1 = create_model('birch', num_clusters = 3)\n",
    "\n",
    "print(\"For Cluster = 4\")\n",
    "y1 = create_model('birch', num_clusters = 4)\n",
    "\n",
    "print(\"For Cluster = 5\")\n",
    "z1 = create_model('birch', num_clusters = 5)\n"
   ]
  },
  {
   "cell_type": "markdown",
   "metadata": {},
   "source": [
    "After Normalization"
   ]
  },
  {
   "cell_type": "code",
   "execution_count": 23,
   "metadata": {},
   "outputs": [
    {
     "name": "stdout",
     "output_type": "stream",
     "text": [
      "For Cluster = 3\n"
     ]
    },
    {
     "data": {
      "text/html": [],
      "text/plain": [
       "<IPython.core.display.HTML object>"
      ]
     },
     "metadata": {},
     "output_type": "display_data"
    },
    {
     "data": {
      "text/html": [
       "<style type=\"text/css\">\n",
       "</style>\n",
       "<table id=\"T_f49c2\">\n",
       "  <thead>\n",
       "    <tr>\n",
       "      <th class=\"blank level0\" >&nbsp;</th>\n",
       "      <th id=\"T_f49c2_level0_col0\" class=\"col_heading level0 col0\" >Silhouette</th>\n",
       "      <th id=\"T_f49c2_level0_col1\" class=\"col_heading level0 col1\" >Calinski-Harabasz</th>\n",
       "      <th id=\"T_f49c2_level0_col2\" class=\"col_heading level0 col2\" >Davies-Bouldin</th>\n",
       "      <th id=\"T_f49c2_level0_col3\" class=\"col_heading level0 col3\" >Homogeneity</th>\n",
       "      <th id=\"T_f49c2_level0_col4\" class=\"col_heading level0 col4\" >Rand Index</th>\n",
       "      <th id=\"T_f49c2_level0_col5\" class=\"col_heading level0 col5\" >Completeness</th>\n",
       "    </tr>\n",
       "  </thead>\n",
       "  <tbody>\n",
       "    <tr>\n",
       "      <th id=\"T_f49c2_level0_row0\" class=\"row_heading level0 row0\" >0</th>\n",
       "      <td id=\"T_f49c2_row0_col0\" class=\"data row0 col0\" >0.4086</td>\n",
       "      <td id=\"T_f49c2_row0_col1\" class=\"data row0 col1\" >109.5450</td>\n",
       "      <td id=\"T_f49c2_row0_col2\" class=\"data row0 col2\" >0.8140</td>\n",
       "      <td id=\"T_f49c2_row0_col3\" class=\"data row0 col3\" >0</td>\n",
       "      <td id=\"T_f49c2_row0_col4\" class=\"data row0 col4\" >0</td>\n",
       "      <td id=\"T_f49c2_row0_col5\" class=\"data row0 col5\" >0</td>\n",
       "    </tr>\n",
       "  </tbody>\n",
       "</table>\n"
      ],
      "text/plain": [
       "<pandas.io.formats.style.Styler at 0x1282552b350>"
      ]
     },
     "metadata": {},
     "output_type": "display_data"
    },
    {
     "data": {
      "text/html": [],
      "text/plain": [
       "<IPython.core.display.HTML object>"
      ]
     },
     "metadata": {},
     "output_type": "display_data"
    },
    {
     "name": "stdout",
     "output_type": "stream",
     "text": [
      "For Cluster = 4\n"
     ]
    },
    {
     "data": {
      "text/html": [],
      "text/plain": [
       "<IPython.core.display.HTML object>"
      ]
     },
     "metadata": {},
     "output_type": "display_data"
    },
    {
     "data": {
      "text/html": [
       "<style type=\"text/css\">\n",
       "</style>\n",
       "<table id=\"T_fc179\">\n",
       "  <thead>\n",
       "    <tr>\n",
       "      <th class=\"blank level0\" >&nbsp;</th>\n",
       "      <th id=\"T_fc179_level0_col0\" class=\"col_heading level0 col0\" >Silhouette</th>\n",
       "      <th id=\"T_fc179_level0_col1\" class=\"col_heading level0 col1\" >Calinski-Harabasz</th>\n",
       "      <th id=\"T_fc179_level0_col2\" class=\"col_heading level0 col2\" >Davies-Bouldin</th>\n",
       "      <th id=\"T_fc179_level0_col3\" class=\"col_heading level0 col3\" >Homogeneity</th>\n",
       "      <th id=\"T_fc179_level0_col4\" class=\"col_heading level0 col4\" >Rand Index</th>\n",
       "      <th id=\"T_fc179_level0_col5\" class=\"col_heading level0 col5\" >Completeness</th>\n",
       "    </tr>\n",
       "  </thead>\n",
       "  <tbody>\n",
       "    <tr>\n",
       "      <th id=\"T_fc179_level0_row0\" class=\"row_heading level0 row0\" >0</th>\n",
       "      <td id=\"T_fc179_row0_col0\" class=\"data row0 col0\" >0.4086</td>\n",
       "      <td id=\"T_fc179_row0_col1\" class=\"data row0 col1\" >109.5450</td>\n",
       "      <td id=\"T_fc179_row0_col2\" class=\"data row0 col2\" >0.8140</td>\n",
       "      <td id=\"T_fc179_row0_col3\" class=\"data row0 col3\" >0</td>\n",
       "      <td id=\"T_fc179_row0_col4\" class=\"data row0 col4\" >0</td>\n",
       "      <td id=\"T_fc179_row0_col5\" class=\"data row0 col5\" >0</td>\n",
       "    </tr>\n",
       "  </tbody>\n",
       "</table>\n"
      ],
      "text/plain": [
       "<pandas.io.formats.style.Styler at 0x1282537ad90>"
      ]
     },
     "metadata": {},
     "output_type": "display_data"
    },
    {
     "data": {
      "text/html": [],
      "text/plain": [
       "<IPython.core.display.HTML object>"
      ]
     },
     "metadata": {},
     "output_type": "display_data"
    },
    {
     "name": "stdout",
     "output_type": "stream",
     "text": [
      "For Cluster = 5\n"
     ]
    },
    {
     "data": {
      "text/html": [],
      "text/plain": [
       "<IPython.core.display.HTML object>"
      ]
     },
     "metadata": {},
     "output_type": "display_data"
    },
    {
     "data": {
      "text/html": [
       "<style type=\"text/css\">\n",
       "</style>\n",
       "<table id=\"T_d974d\">\n",
       "  <thead>\n",
       "    <tr>\n",
       "      <th class=\"blank level0\" >&nbsp;</th>\n",
       "      <th id=\"T_d974d_level0_col0\" class=\"col_heading level0 col0\" >Silhouette</th>\n",
       "      <th id=\"T_d974d_level0_col1\" class=\"col_heading level0 col1\" >Calinski-Harabasz</th>\n",
       "      <th id=\"T_d974d_level0_col2\" class=\"col_heading level0 col2\" >Davies-Bouldin</th>\n",
       "      <th id=\"T_d974d_level0_col3\" class=\"col_heading level0 col3\" >Homogeneity</th>\n",
       "      <th id=\"T_d974d_level0_col4\" class=\"col_heading level0 col4\" >Rand Index</th>\n",
       "      <th id=\"T_d974d_level0_col5\" class=\"col_heading level0 col5\" >Completeness</th>\n",
       "    </tr>\n",
       "  </thead>\n",
       "  <tbody>\n",
       "    <tr>\n",
       "      <th id=\"T_d974d_level0_row0\" class=\"row_heading level0 row0\" >0</th>\n",
       "      <td id=\"T_d974d_row0_col0\" class=\"data row0 col0\" >0.4086</td>\n",
       "      <td id=\"T_d974d_row0_col1\" class=\"data row0 col1\" >109.5450</td>\n",
       "      <td id=\"T_d974d_row0_col2\" class=\"data row0 col2\" >0.8140</td>\n",
       "      <td id=\"T_d974d_row0_col3\" class=\"data row0 col3\" >0</td>\n",
       "      <td id=\"T_d974d_row0_col4\" class=\"data row0 col4\" >0</td>\n",
       "      <td id=\"T_d974d_row0_col5\" class=\"data row0 col5\" >0</td>\n",
       "    </tr>\n",
       "  </tbody>\n",
       "</table>\n"
      ],
      "text/plain": [
       "<pandas.io.formats.style.Styler at 0x128253506d0>"
      ]
     },
     "metadata": {},
     "output_type": "display_data"
    },
    {
     "data": {
      "text/html": [],
      "text/plain": [
       "<IPython.core.display.HTML object>"
      ]
     },
     "metadata": {},
     "output_type": "display_data"
    }
   ],
   "source": [
    "setup(data = seedDataSet, normalize = True, normalize_method = 'minmax', verbose=False)\n",
    "\n",
    "print(\"For Cluster = 3\")\n",
    "x1 = create_model('birch', num_clusters = 3)\n",
    "\n",
    "print(\"For Cluster = 4\")\n",
    "y1 = create_model('birch', num_clusters = 4)\n",
    "\n",
    "print(\"For Cluster = 5\")\n",
    "z1 = create_model('birch', num_clusters = 5)"
   ]
  },
  {
   "cell_type": "markdown",
   "metadata": {},
   "source": [
    "After Transformation"
   ]
  },
  {
   "cell_type": "code",
   "execution_count": 24,
   "metadata": {},
   "outputs": [
    {
     "name": "stdout",
     "output_type": "stream",
     "text": [
      "For Cluster = 3\n"
     ]
    },
    {
     "data": {
      "text/html": [],
      "text/plain": [
       "<IPython.core.display.HTML object>"
      ]
     },
     "metadata": {},
     "output_type": "display_data"
    },
    {
     "data": {
      "text/html": [
       "<style type=\"text/css\">\n",
       "</style>\n",
       "<table id=\"T_38d37\">\n",
       "  <thead>\n",
       "    <tr>\n",
       "      <th class=\"blank level0\" >&nbsp;</th>\n",
       "      <th id=\"T_38d37_level0_col0\" class=\"col_heading level0 col0\" >Silhouette</th>\n",
       "      <th id=\"T_38d37_level0_col1\" class=\"col_heading level0 col1\" >Calinski-Harabasz</th>\n",
       "      <th id=\"T_38d37_level0_col2\" class=\"col_heading level0 col2\" >Davies-Bouldin</th>\n",
       "      <th id=\"T_38d37_level0_col3\" class=\"col_heading level0 col3\" >Homogeneity</th>\n",
       "      <th id=\"T_38d37_level0_col4\" class=\"col_heading level0 col4\" >Rand Index</th>\n",
       "      <th id=\"T_38d37_level0_col5\" class=\"col_heading level0 col5\" >Completeness</th>\n",
       "    </tr>\n",
       "  </thead>\n",
       "  <tbody>\n",
       "    <tr>\n",
       "      <th id=\"T_38d37_level0_row0\" class=\"row_heading level0 row0\" >0</th>\n",
       "      <td id=\"T_38d37_row0_col0\" class=\"data row0 col0\" >0.5064</td>\n",
       "      <td id=\"T_38d37_row0_col1\" class=\"data row0 col1\" >438.9553</td>\n",
       "      <td id=\"T_38d37_row0_col2\" class=\"data row0 col2\" >0.5312</td>\n",
       "      <td id=\"T_38d37_row0_col3\" class=\"data row0 col3\" >0</td>\n",
       "      <td id=\"T_38d37_row0_col4\" class=\"data row0 col4\" >0</td>\n",
       "      <td id=\"T_38d37_row0_col5\" class=\"data row0 col5\" >0</td>\n",
       "    </tr>\n",
       "  </tbody>\n",
       "</table>\n"
      ],
      "text/plain": [
       "<pandas.io.formats.style.Styler at 0x1282542b510>"
      ]
     },
     "metadata": {},
     "output_type": "display_data"
    },
    {
     "data": {
      "text/html": [],
      "text/plain": [
       "<IPython.core.display.HTML object>"
      ]
     },
     "metadata": {},
     "output_type": "display_data"
    },
    {
     "name": "stdout",
     "output_type": "stream",
     "text": [
      "For Cluster = 4\n"
     ]
    },
    {
     "data": {
      "text/html": [],
      "text/plain": [
       "<IPython.core.display.HTML object>"
      ]
     },
     "metadata": {},
     "output_type": "display_data"
    },
    {
     "data": {
      "text/html": [
       "<style type=\"text/css\">\n",
       "</style>\n",
       "<table id=\"T_b8802\">\n",
       "  <thead>\n",
       "    <tr>\n",
       "      <th class=\"blank level0\" >&nbsp;</th>\n",
       "      <th id=\"T_b8802_level0_col0\" class=\"col_heading level0 col0\" >Silhouette</th>\n",
       "      <th id=\"T_b8802_level0_col1\" class=\"col_heading level0 col1\" >Calinski-Harabasz</th>\n",
       "      <th id=\"T_b8802_level0_col2\" class=\"col_heading level0 col2\" >Davies-Bouldin</th>\n",
       "      <th id=\"T_b8802_level0_col3\" class=\"col_heading level0 col3\" >Homogeneity</th>\n",
       "      <th id=\"T_b8802_level0_col4\" class=\"col_heading level0 col4\" >Rand Index</th>\n",
       "      <th id=\"T_b8802_level0_col5\" class=\"col_heading level0 col5\" >Completeness</th>\n",
       "    </tr>\n",
       "  </thead>\n",
       "  <tbody>\n",
       "    <tr>\n",
       "      <th id=\"T_b8802_level0_row0\" class=\"row_heading level0 row0\" >0</th>\n",
       "      <td id=\"T_b8802_row0_col0\" class=\"data row0 col0\" >0.5129</td>\n",
       "      <td id=\"T_b8802_row0_col1\" class=\"data row0 col1\" >608.5274</td>\n",
       "      <td id=\"T_b8802_row0_col2\" class=\"data row0 col2\" >0.5506</td>\n",
       "      <td id=\"T_b8802_row0_col3\" class=\"data row0 col3\" >0</td>\n",
       "      <td id=\"T_b8802_row0_col4\" class=\"data row0 col4\" >0</td>\n",
       "      <td id=\"T_b8802_row0_col5\" class=\"data row0 col5\" >0</td>\n",
       "    </tr>\n",
       "  </tbody>\n",
       "</table>\n"
      ],
      "text/plain": [
       "<pandas.io.formats.style.Styler at 0x12824186390>"
      ]
     },
     "metadata": {},
     "output_type": "display_data"
    },
    {
     "data": {
      "text/html": [],
      "text/plain": [
       "<IPython.core.display.HTML object>"
      ]
     },
     "metadata": {},
     "output_type": "display_data"
    },
    {
     "name": "stdout",
     "output_type": "stream",
     "text": [
      "For Cluster = 5\n"
     ]
    },
    {
     "data": {
      "text/html": [],
      "text/plain": [
       "<IPython.core.display.HTML object>"
      ]
     },
     "metadata": {},
     "output_type": "display_data"
    },
    {
     "data": {
      "text/html": [
       "<style type=\"text/css\">\n",
       "</style>\n",
       "<table id=\"T_6f9ea\">\n",
       "  <thead>\n",
       "    <tr>\n",
       "      <th class=\"blank level0\" >&nbsp;</th>\n",
       "      <th id=\"T_6f9ea_level0_col0\" class=\"col_heading level0 col0\" >Silhouette</th>\n",
       "      <th id=\"T_6f9ea_level0_col1\" class=\"col_heading level0 col1\" >Calinski-Harabasz</th>\n",
       "      <th id=\"T_6f9ea_level0_col2\" class=\"col_heading level0 col2\" >Davies-Bouldin</th>\n",
       "      <th id=\"T_6f9ea_level0_col3\" class=\"col_heading level0 col3\" >Homogeneity</th>\n",
       "      <th id=\"T_6f9ea_level0_col4\" class=\"col_heading level0 col4\" >Rand Index</th>\n",
       "      <th id=\"T_6f9ea_level0_col5\" class=\"col_heading level0 col5\" >Completeness</th>\n",
       "    </tr>\n",
       "  </thead>\n",
       "  <tbody>\n",
       "    <tr>\n",
       "      <th id=\"T_6f9ea_level0_row0\" class=\"row_heading level0 row0\" >0</th>\n",
       "      <td id=\"T_6f9ea_row0_col0\" class=\"data row0 col0\" >0.4994</td>\n",
       "      <td id=\"T_6f9ea_row0_col1\" class=\"data row0 col1\" >630.6559</td>\n",
       "      <td id=\"T_6f9ea_row0_col2\" class=\"data row0 col2\" >0.5332</td>\n",
       "      <td id=\"T_6f9ea_row0_col3\" class=\"data row0 col3\" >0</td>\n",
       "      <td id=\"T_6f9ea_row0_col4\" class=\"data row0 col4\" >0</td>\n",
       "      <td id=\"T_6f9ea_row0_col5\" class=\"data row0 col5\" >0</td>\n",
       "    </tr>\n",
       "  </tbody>\n",
       "</table>\n"
      ],
      "text/plain": [
       "<pandas.io.formats.style.Styler at 0x128253fb350>"
      ]
     },
     "metadata": {},
     "output_type": "display_data"
    },
    {
     "data": {
      "text/html": [],
      "text/plain": [
       "<IPython.core.display.HTML object>"
      ]
     },
     "metadata": {},
     "output_type": "display_data"
    }
   ],
   "source": [
    "setup(data = seedDataSet, transformation = True, transformation_method = 'yeo-johnson', verbose=False)\n",
    "\n",
    "print(\"For Cluster = 3\")\n",
    "x1 = create_model('birch', num_clusters = 3)\n",
    "\n",
    "print(\"For Cluster = 4\")\n",
    "y1 = create_model('birch', num_clusters = 4)\n",
    "\n",
    "print(\"For Cluster = 5\")\n",
    "z1 = create_model('birch', num_clusters = 5)"
   ]
  },
  {
   "cell_type": "markdown",
   "metadata": {},
   "source": [
    "After PCA"
   ]
  },
  {
   "cell_type": "code",
   "execution_count": 25,
   "metadata": {},
   "outputs": [
    {
     "name": "stdout",
     "output_type": "stream",
     "text": [
      "For Cluster = 3\n"
     ]
    },
    {
     "data": {
      "text/html": [],
      "text/plain": [
       "<IPython.core.display.HTML object>"
      ]
     },
     "metadata": {},
     "output_type": "display_data"
    },
    {
     "data": {
      "text/html": [
       "<style type=\"text/css\">\n",
       "</style>\n",
       "<table id=\"T_cf84b\">\n",
       "  <thead>\n",
       "    <tr>\n",
       "      <th class=\"blank level0\" >&nbsp;</th>\n",
       "      <th id=\"T_cf84b_level0_col0\" class=\"col_heading level0 col0\" >Silhouette</th>\n",
       "      <th id=\"T_cf84b_level0_col1\" class=\"col_heading level0 col1\" >Calinski-Harabasz</th>\n",
       "      <th id=\"T_cf84b_level0_col2\" class=\"col_heading level0 col2\" >Davies-Bouldin</th>\n",
       "      <th id=\"T_cf84b_level0_col3\" class=\"col_heading level0 col3\" >Homogeneity</th>\n",
       "      <th id=\"T_cf84b_level0_col4\" class=\"col_heading level0 col4\" >Rand Index</th>\n",
       "      <th id=\"T_cf84b_level0_col5\" class=\"col_heading level0 col5\" >Completeness</th>\n",
       "    </tr>\n",
       "  </thead>\n",
       "  <tbody>\n",
       "    <tr>\n",
       "      <th id=\"T_cf84b_level0_row0\" class=\"row_heading level0 row0\" >0</th>\n",
       "      <td id=\"T_cf84b_row0_col0\" class=\"data row0 col0\" >0.3916</td>\n",
       "      <td id=\"T_cf84b_row0_col1\" class=\"data row0 col1\" >255.4882</td>\n",
       "      <td id=\"T_cf84b_row0_col2\" class=\"data row0 col2\" >0.8948</td>\n",
       "      <td id=\"T_cf84b_row0_col3\" class=\"data row0 col3\" >0</td>\n",
       "      <td id=\"T_cf84b_row0_col4\" class=\"data row0 col4\" >0</td>\n",
       "      <td id=\"T_cf84b_row0_col5\" class=\"data row0 col5\" >0</td>\n",
       "    </tr>\n",
       "  </tbody>\n",
       "</table>\n"
      ],
      "text/plain": [
       "<pandas.io.formats.style.Styler at 0x12824c20f50>"
      ]
     },
     "metadata": {},
     "output_type": "display_data"
    },
    {
     "data": {
      "text/html": [],
      "text/plain": [
       "<IPython.core.display.HTML object>"
      ]
     },
     "metadata": {},
     "output_type": "display_data"
    },
    {
     "name": "stdout",
     "output_type": "stream",
     "text": [
      "For Cluster = 4\n"
     ]
    },
    {
     "data": {
      "text/html": [],
      "text/plain": [
       "<IPython.core.display.HTML object>"
      ]
     },
     "metadata": {},
     "output_type": "display_data"
    },
    {
     "data": {
      "text/html": [
       "<style type=\"text/css\">\n",
       "</style>\n",
       "<table id=\"T_c8a60\">\n",
       "  <thead>\n",
       "    <tr>\n",
       "      <th class=\"blank level0\" >&nbsp;</th>\n",
       "      <th id=\"T_c8a60_level0_col0\" class=\"col_heading level0 col0\" >Silhouette</th>\n",
       "      <th id=\"T_c8a60_level0_col1\" class=\"col_heading level0 col1\" >Calinski-Harabasz</th>\n",
       "      <th id=\"T_c8a60_level0_col2\" class=\"col_heading level0 col2\" >Davies-Bouldin</th>\n",
       "      <th id=\"T_c8a60_level0_col3\" class=\"col_heading level0 col3\" >Homogeneity</th>\n",
       "      <th id=\"T_c8a60_level0_col4\" class=\"col_heading level0 col4\" >Rand Index</th>\n",
       "      <th id=\"T_c8a60_level0_col5\" class=\"col_heading level0 col5\" >Completeness</th>\n",
       "    </tr>\n",
       "  </thead>\n",
       "  <tbody>\n",
       "    <tr>\n",
       "      <th id=\"T_c8a60_level0_row0\" class=\"row_heading level0 row0\" >0</th>\n",
       "      <td id=\"T_c8a60_row0_col0\" class=\"data row0 col0\" >0.3531</td>\n",
       "      <td id=\"T_c8a60_row0_col1\" class=\"data row0 col1\" >255.7884</td>\n",
       "      <td id=\"T_c8a60_row0_col2\" class=\"data row0 col2\" >0.9711</td>\n",
       "      <td id=\"T_c8a60_row0_col3\" class=\"data row0 col3\" >0</td>\n",
       "      <td id=\"T_c8a60_row0_col4\" class=\"data row0 col4\" >0</td>\n",
       "      <td id=\"T_c8a60_row0_col5\" class=\"data row0 col5\" >0</td>\n",
       "    </tr>\n",
       "  </tbody>\n",
       "</table>\n"
      ],
      "text/plain": [
       "<pandas.io.formats.style.Styler at 0x1282556e750>"
      ]
     },
     "metadata": {},
     "output_type": "display_data"
    },
    {
     "data": {
      "text/html": [],
      "text/plain": [
       "<IPython.core.display.HTML object>"
      ]
     },
     "metadata": {},
     "output_type": "display_data"
    },
    {
     "name": "stdout",
     "output_type": "stream",
     "text": [
      "For Cluster = 5\n"
     ]
    },
    {
     "data": {
      "text/html": [],
      "text/plain": [
       "<IPython.core.display.HTML object>"
      ]
     },
     "metadata": {},
     "output_type": "display_data"
    },
    {
     "data": {
      "text/html": [
       "<style type=\"text/css\">\n",
       "</style>\n",
       "<table id=\"T_02050\">\n",
       "  <thead>\n",
       "    <tr>\n",
       "      <th class=\"blank level0\" >&nbsp;</th>\n",
       "      <th id=\"T_02050_level0_col0\" class=\"col_heading level0 col0\" >Silhouette</th>\n",
       "      <th id=\"T_02050_level0_col1\" class=\"col_heading level0 col1\" >Calinski-Harabasz</th>\n",
       "      <th id=\"T_02050_level0_col2\" class=\"col_heading level0 col2\" >Davies-Bouldin</th>\n",
       "      <th id=\"T_02050_level0_col3\" class=\"col_heading level0 col3\" >Homogeneity</th>\n",
       "      <th id=\"T_02050_level0_col4\" class=\"col_heading level0 col4\" >Rand Index</th>\n",
       "      <th id=\"T_02050_level0_col5\" class=\"col_heading level0 col5\" >Completeness</th>\n",
       "    </tr>\n",
       "  </thead>\n",
       "  <tbody>\n",
       "    <tr>\n",
       "      <th id=\"T_02050_level0_row0\" class=\"row_heading level0 row0\" >0</th>\n",
       "      <td id=\"T_02050_row0_col0\" class=\"data row0 col0\" >0.3597</td>\n",
       "      <td id=\"T_02050_row0_col1\" class=\"data row0 col1\" >217.2993</td>\n",
       "      <td id=\"T_02050_row0_col2\" class=\"data row0 col2\" >0.8591</td>\n",
       "      <td id=\"T_02050_row0_col3\" class=\"data row0 col3\" >0</td>\n",
       "      <td id=\"T_02050_row0_col4\" class=\"data row0 col4\" >0</td>\n",
       "      <td id=\"T_02050_row0_col5\" class=\"data row0 col5\" >0</td>\n",
       "    </tr>\n",
       "  </tbody>\n",
       "</table>\n"
      ],
      "text/plain": [
       "<pandas.io.formats.style.Styler at 0x1282544c290>"
      ]
     },
     "metadata": {},
     "output_type": "display_data"
    },
    {
     "data": {
      "text/html": [],
      "text/plain": [
       "<IPython.core.display.HTML object>"
      ]
     },
     "metadata": {},
     "output_type": "display_data"
    }
   ],
   "source": [
    "setup(data = seedDataSet, pca = True, pca_method = 'linear', verbose=False)\n",
    "\n",
    "print(\"For Cluster = 3\")\n",
    "x1 = create_model('birch', num_clusters = 3)\n",
    "\n",
    "print(\"For Cluster = 4\")\n",
    "y1 = create_model('birch', num_clusters = 4)\n",
    "\n",
    "print(\"For Cluster = 5\")\n",
    "z1 = create_model('birch', num_clusters = 5)"
   ]
  },
  {
   "cell_type": "markdown",
   "metadata": {},
   "source": [
    "After T + N"
   ]
  },
  {
   "cell_type": "code",
   "execution_count": 26,
   "metadata": {},
   "outputs": [
    {
     "name": "stdout",
     "output_type": "stream",
     "text": [
      "For Cluster = 3\n"
     ]
    },
    {
     "data": {
      "text/html": [],
      "text/plain": [
       "<IPython.core.display.HTML object>"
      ]
     },
     "metadata": {},
     "output_type": "display_data"
    },
    {
     "data": {
      "text/html": [
       "<style type=\"text/css\">\n",
       "</style>\n",
       "<table id=\"T_ec55c\">\n",
       "  <thead>\n",
       "    <tr>\n",
       "      <th class=\"blank level0\" >&nbsp;</th>\n",
       "      <th id=\"T_ec55c_level0_col0\" class=\"col_heading level0 col0\" >Silhouette</th>\n",
       "      <th id=\"T_ec55c_level0_col1\" class=\"col_heading level0 col1\" >Calinski-Harabasz</th>\n",
       "      <th id=\"T_ec55c_level0_col2\" class=\"col_heading level0 col2\" >Davies-Bouldin</th>\n",
       "      <th id=\"T_ec55c_level0_col3\" class=\"col_heading level0 col3\" >Homogeneity</th>\n",
       "      <th id=\"T_ec55c_level0_col4\" class=\"col_heading level0 col4\" >Rand Index</th>\n",
       "      <th id=\"T_ec55c_level0_col5\" class=\"col_heading level0 col5\" >Completeness</th>\n",
       "    </tr>\n",
       "  </thead>\n",
       "  <tbody>\n",
       "    <tr>\n",
       "      <th id=\"T_ec55c_level0_row0\" class=\"row_heading level0 row0\" >0</th>\n",
       "      <td id=\"T_ec55c_row0_col0\" class=\"data row0 col0\" >0.4357</td>\n",
       "      <td id=\"T_ec55c_row0_col1\" class=\"data row0 col1\" >222.7282</td>\n",
       "      <td id=\"T_ec55c_row0_col2\" class=\"data row0 col2\" >0.8467</td>\n",
       "      <td id=\"T_ec55c_row0_col3\" class=\"data row0 col3\" >0</td>\n",
       "      <td id=\"T_ec55c_row0_col4\" class=\"data row0 col4\" >0</td>\n",
       "      <td id=\"T_ec55c_row0_col5\" class=\"data row0 col5\" >0</td>\n",
       "    </tr>\n",
       "  </tbody>\n",
       "</table>\n"
      ],
      "text/plain": [
       "<pandas.io.formats.style.Styler at 0x12825538310>"
      ]
     },
     "metadata": {},
     "output_type": "display_data"
    },
    {
     "data": {
      "text/html": [],
      "text/plain": [
       "<IPython.core.display.HTML object>"
      ]
     },
     "metadata": {},
     "output_type": "display_data"
    },
    {
     "name": "stdout",
     "output_type": "stream",
     "text": [
      "For Cluster = 4\n"
     ]
    },
    {
     "data": {
      "text/html": [],
      "text/plain": [
       "<IPython.core.display.HTML object>"
      ]
     },
     "metadata": {},
     "output_type": "display_data"
    },
    {
     "data": {
      "text/html": [
       "<style type=\"text/css\">\n",
       "</style>\n",
       "<table id=\"T_38e43\">\n",
       "  <thead>\n",
       "    <tr>\n",
       "      <th class=\"blank level0\" >&nbsp;</th>\n",
       "      <th id=\"T_38e43_level0_col0\" class=\"col_heading level0 col0\" >Silhouette</th>\n",
       "      <th id=\"T_38e43_level0_col1\" class=\"col_heading level0 col1\" >Calinski-Harabasz</th>\n",
       "      <th id=\"T_38e43_level0_col2\" class=\"col_heading level0 col2\" >Davies-Bouldin</th>\n",
       "      <th id=\"T_38e43_level0_col3\" class=\"col_heading level0 col3\" >Homogeneity</th>\n",
       "      <th id=\"T_38e43_level0_col4\" class=\"col_heading level0 col4\" >Rand Index</th>\n",
       "      <th id=\"T_38e43_level0_col5\" class=\"col_heading level0 col5\" >Completeness</th>\n",
       "    </tr>\n",
       "  </thead>\n",
       "  <tbody>\n",
       "    <tr>\n",
       "      <th id=\"T_38e43_level0_row0\" class=\"row_heading level0 row0\" >0</th>\n",
       "      <td id=\"T_38e43_row0_col0\" class=\"data row0 col0\" >0.4357</td>\n",
       "      <td id=\"T_38e43_row0_col1\" class=\"data row0 col1\" >222.7282</td>\n",
       "      <td id=\"T_38e43_row0_col2\" class=\"data row0 col2\" >0.8467</td>\n",
       "      <td id=\"T_38e43_row0_col3\" class=\"data row0 col3\" >0</td>\n",
       "      <td id=\"T_38e43_row0_col4\" class=\"data row0 col4\" >0</td>\n",
       "      <td id=\"T_38e43_row0_col5\" class=\"data row0 col5\" >0</td>\n",
       "    </tr>\n",
       "  </tbody>\n",
       "</table>\n"
      ],
      "text/plain": [
       "<pandas.io.formats.style.Styler at 0x128253a7f50>"
      ]
     },
     "metadata": {},
     "output_type": "display_data"
    },
    {
     "data": {
      "text/html": [],
      "text/plain": [
       "<IPython.core.display.HTML object>"
      ]
     },
     "metadata": {},
     "output_type": "display_data"
    },
    {
     "name": "stdout",
     "output_type": "stream",
     "text": [
      "For Cluster = 5\n"
     ]
    },
    {
     "data": {
      "text/html": [],
      "text/plain": [
       "<IPython.core.display.HTML object>"
      ]
     },
     "metadata": {},
     "output_type": "display_data"
    },
    {
     "data": {
      "text/html": [
       "<style type=\"text/css\">\n",
       "</style>\n",
       "<table id=\"T_73e28\">\n",
       "  <thead>\n",
       "    <tr>\n",
       "      <th class=\"blank level0\" >&nbsp;</th>\n",
       "      <th id=\"T_73e28_level0_col0\" class=\"col_heading level0 col0\" >Silhouette</th>\n",
       "      <th id=\"T_73e28_level0_col1\" class=\"col_heading level0 col1\" >Calinski-Harabasz</th>\n",
       "      <th id=\"T_73e28_level0_col2\" class=\"col_heading level0 col2\" >Davies-Bouldin</th>\n",
       "      <th id=\"T_73e28_level0_col3\" class=\"col_heading level0 col3\" >Homogeneity</th>\n",
       "      <th id=\"T_73e28_level0_col4\" class=\"col_heading level0 col4\" >Rand Index</th>\n",
       "      <th id=\"T_73e28_level0_col5\" class=\"col_heading level0 col5\" >Completeness</th>\n",
       "    </tr>\n",
       "  </thead>\n",
       "  <tbody>\n",
       "    <tr>\n",
       "      <th id=\"T_73e28_level0_row0\" class=\"row_heading level0 row0\" >0</th>\n",
       "      <td id=\"T_73e28_row0_col0\" class=\"data row0 col0\" >0.4357</td>\n",
       "      <td id=\"T_73e28_row0_col1\" class=\"data row0 col1\" >222.7282</td>\n",
       "      <td id=\"T_73e28_row0_col2\" class=\"data row0 col2\" >0.8467</td>\n",
       "      <td id=\"T_73e28_row0_col3\" class=\"data row0 col3\" >0</td>\n",
       "      <td id=\"T_73e28_row0_col4\" class=\"data row0 col4\" >0</td>\n",
       "      <td id=\"T_73e28_row0_col5\" class=\"data row0 col5\" >0</td>\n",
       "    </tr>\n",
       "  </tbody>\n",
       "</table>\n"
      ],
      "text/plain": [
       "<pandas.io.formats.style.Styler at 0x128253ed510>"
      ]
     },
     "metadata": {},
     "output_type": "display_data"
    },
    {
     "data": {
      "text/html": [],
      "text/plain": [
       "<IPython.core.display.HTML object>"
      ]
     },
     "metadata": {},
     "output_type": "display_data"
    }
   ],
   "source": [
    "setup(data = seedDataSet,normalize = True, normalize_method = 'minmax', transformation = True, transformation_method = 'yeo-johnson', verbose=False)\n",
    "\n",
    "print(\"For Cluster = 3\")\n",
    "x1 = create_model('birch', num_clusters = 3)\n",
    "\n",
    "print(\"For Cluster = 4\")\n",
    "y1 = create_model('birch', num_clusters = 4)\n",
    "\n",
    "print(\"For Cluster = 5\")\n",
    "z1 = create_model('birch', num_clusters = 5)"
   ]
  },
  {
   "cell_type": "markdown",
   "metadata": {},
   "source": [
    "After T + N + PCA"
   ]
  },
  {
   "cell_type": "code",
   "execution_count": 27,
   "metadata": {},
   "outputs": [
    {
     "name": "stdout",
     "output_type": "stream",
     "text": [
      "For Cluster = 3\n"
     ]
    },
    {
     "data": {
      "text/html": [],
      "text/plain": [
       "<IPython.core.display.HTML object>"
      ]
     },
     "metadata": {},
     "output_type": "display_data"
    },
    {
     "data": {
      "text/html": [
       "<style type=\"text/css\">\n",
       "</style>\n",
       "<table id=\"T_5b10d\">\n",
       "  <thead>\n",
       "    <tr>\n",
       "      <th class=\"blank level0\" >&nbsp;</th>\n",
       "      <th id=\"T_5b10d_level0_col0\" class=\"col_heading level0 col0\" >Silhouette</th>\n",
       "      <th id=\"T_5b10d_level0_col1\" class=\"col_heading level0 col1\" >Calinski-Harabasz</th>\n",
       "      <th id=\"T_5b10d_level0_col2\" class=\"col_heading level0 col2\" >Davies-Bouldin</th>\n",
       "      <th id=\"T_5b10d_level0_col3\" class=\"col_heading level0 col3\" >Homogeneity</th>\n",
       "      <th id=\"T_5b10d_level0_col4\" class=\"col_heading level0 col4\" >Rand Index</th>\n",
       "      <th id=\"T_5b10d_level0_col5\" class=\"col_heading level0 col5\" >Completeness</th>\n",
       "    </tr>\n",
       "  </thead>\n",
       "  <tbody>\n",
       "    <tr>\n",
       "      <th id=\"T_5b10d_level0_row0\" class=\"row_heading level0 row0\" >0</th>\n",
       "      <td id=\"T_5b10d_row0_col0\" class=\"data row0 col0\" >0.4357</td>\n",
       "      <td id=\"T_5b10d_row0_col1\" class=\"data row0 col1\" >222.7281</td>\n",
       "      <td id=\"T_5b10d_row0_col2\" class=\"data row0 col2\" >0.8467</td>\n",
       "      <td id=\"T_5b10d_row0_col3\" class=\"data row0 col3\" >0</td>\n",
       "      <td id=\"T_5b10d_row0_col4\" class=\"data row0 col4\" >0</td>\n",
       "      <td id=\"T_5b10d_row0_col5\" class=\"data row0 col5\" >0</td>\n",
       "    </tr>\n",
       "  </tbody>\n",
       "</table>\n"
      ],
      "text/plain": [
       "<pandas.io.formats.style.Styler at 0x1282542d890>"
      ]
     },
     "metadata": {},
     "output_type": "display_data"
    },
    {
     "data": {
      "text/html": [],
      "text/plain": [
       "<IPython.core.display.HTML object>"
      ]
     },
     "metadata": {},
     "output_type": "display_data"
    },
    {
     "name": "stdout",
     "output_type": "stream",
     "text": [
      "For Cluster = 4\n"
     ]
    },
    {
     "data": {
      "text/html": [],
      "text/plain": [
       "<IPython.core.display.HTML object>"
      ]
     },
     "metadata": {},
     "output_type": "display_data"
    },
    {
     "data": {
      "text/html": [
       "<style type=\"text/css\">\n",
       "</style>\n",
       "<table id=\"T_4e119\">\n",
       "  <thead>\n",
       "    <tr>\n",
       "      <th class=\"blank level0\" >&nbsp;</th>\n",
       "      <th id=\"T_4e119_level0_col0\" class=\"col_heading level0 col0\" >Silhouette</th>\n",
       "      <th id=\"T_4e119_level0_col1\" class=\"col_heading level0 col1\" >Calinski-Harabasz</th>\n",
       "      <th id=\"T_4e119_level0_col2\" class=\"col_heading level0 col2\" >Davies-Bouldin</th>\n",
       "      <th id=\"T_4e119_level0_col3\" class=\"col_heading level0 col3\" >Homogeneity</th>\n",
       "      <th id=\"T_4e119_level0_col4\" class=\"col_heading level0 col4\" >Rand Index</th>\n",
       "      <th id=\"T_4e119_level0_col5\" class=\"col_heading level0 col5\" >Completeness</th>\n",
       "    </tr>\n",
       "  </thead>\n",
       "  <tbody>\n",
       "    <tr>\n",
       "      <th id=\"T_4e119_level0_row0\" class=\"row_heading level0 row0\" >0</th>\n",
       "      <td id=\"T_4e119_row0_col0\" class=\"data row0 col0\" >0.4357</td>\n",
       "      <td id=\"T_4e119_row0_col1\" class=\"data row0 col1\" >222.7281</td>\n",
       "      <td id=\"T_4e119_row0_col2\" class=\"data row0 col2\" >0.8467</td>\n",
       "      <td id=\"T_4e119_row0_col3\" class=\"data row0 col3\" >0</td>\n",
       "      <td id=\"T_4e119_row0_col4\" class=\"data row0 col4\" >0</td>\n",
       "      <td id=\"T_4e119_row0_col5\" class=\"data row0 col5\" >0</td>\n",
       "    </tr>\n",
       "  </tbody>\n",
       "</table>\n"
      ],
      "text/plain": [
       "<pandas.io.formats.style.Styler at 0x128255083d0>"
      ]
     },
     "metadata": {},
     "output_type": "display_data"
    },
    {
     "data": {
      "text/html": [],
      "text/plain": [
       "<IPython.core.display.HTML object>"
      ]
     },
     "metadata": {},
     "output_type": "display_data"
    },
    {
     "name": "stdout",
     "output_type": "stream",
     "text": [
      "For Cluster = 5\n"
     ]
    },
    {
     "data": {
      "text/html": [],
      "text/plain": [
       "<IPython.core.display.HTML object>"
      ]
     },
     "metadata": {},
     "output_type": "display_data"
    },
    {
     "data": {
      "text/html": [
       "<style type=\"text/css\">\n",
       "</style>\n",
       "<table id=\"T_d2c9f\">\n",
       "  <thead>\n",
       "    <tr>\n",
       "      <th class=\"blank level0\" >&nbsp;</th>\n",
       "      <th id=\"T_d2c9f_level0_col0\" class=\"col_heading level0 col0\" >Silhouette</th>\n",
       "      <th id=\"T_d2c9f_level0_col1\" class=\"col_heading level0 col1\" >Calinski-Harabasz</th>\n",
       "      <th id=\"T_d2c9f_level0_col2\" class=\"col_heading level0 col2\" >Davies-Bouldin</th>\n",
       "      <th id=\"T_d2c9f_level0_col3\" class=\"col_heading level0 col3\" >Homogeneity</th>\n",
       "      <th id=\"T_d2c9f_level0_col4\" class=\"col_heading level0 col4\" >Rand Index</th>\n",
       "      <th id=\"T_d2c9f_level0_col5\" class=\"col_heading level0 col5\" >Completeness</th>\n",
       "    </tr>\n",
       "  </thead>\n",
       "  <tbody>\n",
       "    <tr>\n",
       "      <th id=\"T_d2c9f_level0_row0\" class=\"row_heading level0 row0\" >0</th>\n",
       "      <td id=\"T_d2c9f_row0_col0\" class=\"data row0 col0\" >0.4357</td>\n",
       "      <td id=\"T_d2c9f_row0_col1\" class=\"data row0 col1\" >222.7281</td>\n",
       "      <td id=\"T_d2c9f_row0_col2\" class=\"data row0 col2\" >0.8467</td>\n",
       "      <td id=\"T_d2c9f_row0_col3\" class=\"data row0 col3\" >0</td>\n",
       "      <td id=\"T_d2c9f_row0_col4\" class=\"data row0 col4\" >0</td>\n",
       "      <td id=\"T_d2c9f_row0_col5\" class=\"data row0 col5\" >0</td>\n",
       "    </tr>\n",
       "  </tbody>\n",
       "</table>\n"
      ],
      "text/plain": [
       "<pandas.io.formats.style.Styler at 0x1282551f710>"
      ]
     },
     "metadata": {},
     "output_type": "display_data"
    },
    {
     "data": {
      "text/html": [],
      "text/plain": [
       "<IPython.core.display.HTML object>"
      ]
     },
     "metadata": {},
     "output_type": "display_data"
    }
   ],
   "source": [
    "setup(data = seedDataSet,normalize = True, normalize_method = 'minmax', transformation = True, transformation_method = 'yeo-johnson',pca = True, pca_method = 'linear', verbose=False)\n",
    "\n",
    "print(\"For Cluster = 3\")\n",
    "x1 = create_model('birch', num_clusters = 3)\n",
    "\n",
    "print(\"For Cluster = 4\")\n",
    "y1 = create_model('birch', num_clusters = 4)\n",
    "\n",
    "print(\"For Cluster = 5\")\n",
    "z1 = create_model('birch', num_clusters = 5)"
   ]
  },
  {
   "cell_type": "markdown",
   "metadata": {},
   "source": [
    "FINAL OUTPUT"
   ]
  },
  {
   "cell_type": "code",
   "execution_count": 28,
   "metadata": {},
   "outputs": [
    {
     "name": "stdout",
     "output_type": "stream",
     "text": [
      "╒══════════════════════╤═════════════════════════╤═════════════════════════╤═════════════════════════╤════════════════════════════════╤════════════════════════════════╤════════════════════════════════╤═════════════════════════════╤═════════════════════════════╤═════════════════════════════╕\n",
      "│                      │   ('Silhouette', 'c=3') │   ('Silhouette', 'c=4') │   ('Silhouette', 'c=5') │   ('Calinski-Harabasz', 'c=3') │   ('Calinski-Harabasz', 'c=4') │   ('Calinski-Harabasz', 'c=5') │   ('Davies-Bouldin', 'c=3') │   ('Davies-Bouldin', 'c=4') │   ('Davies-Bouldin', 'c=5') │\n",
      "╞══════════════════════╪═════════════════════════╪═════════════════════════╪═════════════════════════╪════════════════════════════════╪════════════════════════════════╪════════════════════════════════╪═════════════════════════════╪═════════════════════════════╪═════════════════════════════╡\n",
      "│ No Data Processing   │                  0.3916 │                  0.3531 │                  0.3597 │                        255.488 │                        255.788 │                        217.299 │                      0.8948 │                      0.9711 │                      0.8591 │\n",
      "├──────────────────────┼─────────────────────────┼─────────────────────────┼─────────────────────────┼────────────────────────────────┼────────────────────────────────┼────────────────────────────────┼─────────────────────────────┼─────────────────────────────┼─────────────────────────────┤\n",
      "│ After Normalization  │                  0.4086 │                  0.4086 │                  0.4086 │                        109.545 │                        109.545 │                        109.545 │                      0.814  │                      0.814  │                      0.814  │\n",
      "├──────────────────────┼─────────────────────────┼─────────────────────────┼─────────────────────────┼────────────────────────────────┼────────────────────────────────┼────────────────────────────────┼─────────────────────────────┼─────────────────────────────┼─────────────────────────────┤\n",
      "│ After Transformation │                  0.5064 │                  0.5129 │                  0.4994 │                        438.955 │                        608.527 │                        630.656 │                      0.5312 │                      0.5506 │                      0.5332 │\n",
      "├──────────────────────┼─────────────────────────┼─────────────────────────┼─────────────────────────┼────────────────────────────────┼────────────────────────────────┼────────────────────────────────┼─────────────────────────────┼─────────────────────────────┼─────────────────────────────┤\n",
      "│ After PCA            │                  0.3916 │                  0.3531 │                  0.3597 │                        255.488 │                        255.788 │                        217.299 │                      0.8948 │                      0.9711 │                      0.8591 │\n",
      "├──────────────────────┼─────────────────────────┼─────────────────────────┼─────────────────────────┼────────────────────────────────┼────────────────────────────────┼────────────────────────────────┼─────────────────────────────┼─────────────────────────────┼─────────────────────────────┤\n",
      "│ After T + N          │                  0.4357 │                  0.4357 │                  0.4357 │                        222.728 │                        222.728 │                        222.728 │                      0.8467 │                      0.8467 │                      0.8467 │\n",
      "├──────────────────────┼─────────────────────────┼─────────────────────────┼─────────────────────────┼────────────────────────────────┼────────────────────────────────┼────────────────────────────────┼─────────────────────────────┼─────────────────────────────┼─────────────────────────────┤\n",
      "│ T + N + PCA          │                  0.4357 │                  0.4357 │                  0.4357 │                        222.728 │                        222.728 │                        222.728 │                      0.8467 │                      0.8467 │                      0.8467 │\n",
      "╘══════════════════════╧═════════════════════════╧═════════════════════════╧═════════════════════════╧════════════════════════════════╧════════════════════════════════╧════════════════════════════════╧═════════════════════════════╧═════════════════════════════╧═════════════════════════════╛\n"
     ]
    }
   ],
   "source": [
    "import pandas as pd\n",
    "from tabulate import tabulate\n",
    "\n",
    "silhouette_values = [[0.3916, 0.3531, 0.3597],\n",
    "                     [0.4086, 0.4086, 0.4086],\n",
    "                     [0.5064, 0.5129, 0.4994],\n",
    "                     [0.3916, 0.3531, 0.3597],\n",
    "                     [0.4357, 0.4357, 0.4357],\n",
    "                     [0.4357, 0.4357, 0.4357]]\n",
    "\n",
    "calinski_values = [[255.4883, 255.7885, 217.2995],\n",
    "                   [109.5450, 109.5450, 109.5450],\n",
    "                   [438.9553, 608.5274, 630.6559],\n",
    "                   [255.4882, 255.7884, 217.2993],\n",
    "                   [222.7282, 222.7282, 222.7282],\n",
    "                   [222.7281, 222.7281, 222.7281]]\n",
    "\n",
    "davies_values = [[0.8948, 0.9711, 0.8591],\n",
    "                 [0.8140, 0.8140, 0.8140],\n",
    "                 [0.5312, 0.5506, 0.5332],\n",
    "                 [0.8948, 0.9711, 0.8591],\n",
    "                 [0.8467, 0.8467, 0.8467],\n",
    "                 [0.8467, 0.8467, 0.8467]]\n",
    "\n",
    "methods = ['No Data Processing', 'After Normalization', 'After Transformation', 'After PCA', 'After T + N', 'T + N + PCA']\n",
    "clusters = ['c=3', 'c=4', 'c=5']\n",
    "\n",
    "# Create DataFrames for each metric\n",
    "silhouette_df = pd.DataFrame(silhouette_values, columns=clusters, index=methods)\n",
    "calinski_df = pd.DataFrame(calinski_values, columns=clusters, index=methods)\n",
    "davies_df = pd.DataFrame(davies_values, columns=clusters, index=methods)\n",
    "\n",
    "# Concatenate DataFrames horizontally\n",
    "combined_df = pd.concat([silhouette_df, calinski_df, davies_df], axis=1, keys=['Silhouette', 'Calinski-Harabasz', 'Davies-Bouldin'])\n",
    "\n",
    "# Display the combined table\n",
    "print(tabulate(combined_df, headers='keys', tablefmt='fancy_grid'))\n"
   ]
  },
  {
   "cell_type": "code",
   "execution_count": 29,
   "metadata": {},
   "outputs": [
    {
     "data": {
      "text/plain": [
       "True"
      ]
     },
     "execution_count": 29,
     "metadata": {},
     "output_type": "execute_result"
    }
   ],
   "source": [
    "import webbrowser\n",
    "combined_df.to_csv('Birch_clustering_table.csv', index=False)\n",
    "webbrowser.open('Birch_clustering_table.csv')"
   ]
  }
 ],
 "metadata": {
  "kernelspec": {
   "display_name": "Python 3",
   "language": "python",
   "name": "python3"
  },
  "language_info": {
   "codemirror_mode": {
    "name": "ipython",
    "version": 3
   },
   "file_extension": ".py",
   "mimetype": "text/x-python",
   "name": "python",
   "nbconvert_exporter": "python",
   "pygments_lexer": "ipython3",
   "version": "3.11.8"
  }
 },
 "nbformat": 4,
 "nbformat_minor": 2
}
